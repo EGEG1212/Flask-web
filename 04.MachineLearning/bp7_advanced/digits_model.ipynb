{
 "cells": [
  {
   "cell_type": "markdown",
   "metadata": {},
   "source": [
    "# MNIST 손글씨 모델"
   ]
  },
  {
   "cell_type": "code",
   "execution_count": 1,
   "metadata": {},
   "outputs": [],
   "source": [
    "import pandas as pd \n",
    "import joblib\n",
    "import matplotlib.pyplot as plt \n",
    "%matplotlib inline"
   ]
  },
  {
   "cell_type": "code",
   "execution_count": 2,
   "metadata": {},
   "outputs": [],
   "source": [
    "from sklearn.preprocessing import MinMaxScaler\n",
    "from sklearn.linear_model import LogisticRegression\n",
    "from sklearn.svm import SVC\n",
    "from sklearn.ensemble import RandomForestClassifier\n",
    "from sklearn.model_selection import GridSearchCV\n",
    "from sklearn.metrics import accuracy_score"
   ]
  },
  {
   "cell_type": "markdown",
   "metadata": {},
   "source": [
    "### 데이터셋"
   ]
  },
  {
   "cell_type": "code",
   "execution_count": 3,
   "metadata": {},
   "outputs": [
    {
     "data": {
      "text/html": [
       "<div>\n",
       "<style scoped>\n",
       "    .dataframe tbody tr th:only-of-type {\n",
       "        vertical-align: middle;\n",
       "    }\n",
       "\n",
       "    .dataframe tbody tr th {\n",
       "        vertical-align: top;\n",
       "    }\n",
       "\n",
       "    .dataframe thead th {\n",
       "        text-align: right;\n",
       "    }\n",
       "</style>\n",
       "<table border=\"1\" class=\"dataframe\">\n",
       "  <thead>\n",
       "    <tr style=\"text-align: right;\">\n",
       "      <th></th>\n",
       "      <th>pixel_0_0</th>\n",
       "      <th>pixel_0_1</th>\n",
       "      <th>pixel_0_2</th>\n",
       "      <th>pixel_0_3</th>\n",
       "      <th>pixel_0_4</th>\n",
       "      <th>pixel_0_5</th>\n",
       "      <th>pixel_0_6</th>\n",
       "      <th>pixel_0_7</th>\n",
       "      <th>pixel_1_0</th>\n",
       "      <th>pixel_1_1</th>\n",
       "      <th>...</th>\n",
       "      <th>pixel_6_7</th>\n",
       "      <th>pixel_7_0</th>\n",
       "      <th>pixel_7_1</th>\n",
       "      <th>pixel_7_2</th>\n",
       "      <th>pixel_7_3</th>\n",
       "      <th>pixel_7_4</th>\n",
       "      <th>pixel_7_5</th>\n",
       "      <th>pixel_7_6</th>\n",
       "      <th>pixel_7_7</th>\n",
       "      <th>target</th>\n",
       "    </tr>\n",
       "  </thead>\n",
       "  <tbody>\n",
       "    <tr>\n",
       "      <th>0</th>\n",
       "      <td>0.0</td>\n",
       "      <td>0.0</td>\n",
       "      <td>6.0</td>\n",
       "      <td>16.0</td>\n",
       "      <td>8.0</td>\n",
       "      <td>0.0</td>\n",
       "      <td>0.0</td>\n",
       "      <td>0.0</td>\n",
       "      <td>0.0</td>\n",
       "      <td>0.0</td>\n",
       "      <td>...</td>\n",
       "      <td>3.0</td>\n",
       "      <td>0.0</td>\n",
       "      <td>0.0</td>\n",
       "      <td>4.0</td>\n",
       "      <td>16.0</td>\n",
       "      <td>16.0</td>\n",
       "      <td>15.0</td>\n",
       "      <td>16.0</td>\n",
       "      <td>16.0</td>\n",
       "      <td>2</td>\n",
       "    </tr>\n",
       "    <tr>\n",
       "      <th>1</th>\n",
       "      <td>0.0</td>\n",
       "      <td>0.0</td>\n",
       "      <td>4.0</td>\n",
       "      <td>16.0</td>\n",
       "      <td>16.0</td>\n",
       "      <td>8.0</td>\n",
       "      <td>0.0</td>\n",
       "      <td>0.0</td>\n",
       "      <td>0.0</td>\n",
       "      <td>0.0</td>\n",
       "      <td>...</td>\n",
       "      <td>0.0</td>\n",
       "      <td>0.0</td>\n",
       "      <td>0.0</td>\n",
       "      <td>6.0</td>\n",
       "      <td>12.0</td>\n",
       "      <td>12.0</td>\n",
       "      <td>2.0</td>\n",
       "      <td>0.0</td>\n",
       "      <td>0.0</td>\n",
       "      <td>1</td>\n",
       "    </tr>\n",
       "    <tr>\n",
       "      <th>2</th>\n",
       "      <td>0.0</td>\n",
       "      <td>0.0</td>\n",
       "      <td>0.0</td>\n",
       "      <td>4.0</td>\n",
       "      <td>15.0</td>\n",
       "      <td>12.0</td>\n",
       "      <td>0.0</td>\n",
       "      <td>0.0</td>\n",
       "      <td>0.0</td>\n",
       "      <td>0.0</td>\n",
       "      <td>...</td>\n",
       "      <td>0.0</td>\n",
       "      <td>0.0</td>\n",
       "      <td>0.0</td>\n",
       "      <td>0.0</td>\n",
       "      <td>3.0</td>\n",
       "      <td>11.0</td>\n",
       "      <td>16.0</td>\n",
       "      <td>9.0</td>\n",
       "      <td>0.0</td>\n",
       "      <td>2</td>\n",
       "    </tr>\n",
       "    <tr>\n",
       "      <th>3</th>\n",
       "      <td>0.0</td>\n",
       "      <td>3.0</td>\n",
       "      <td>12.0</td>\n",
       "      <td>12.0</td>\n",
       "      <td>14.0</td>\n",
       "      <td>15.0</td>\n",
       "      <td>3.0</td>\n",
       "      <td>0.0</td>\n",
       "      <td>0.0</td>\n",
       "      <td>4.0</td>\n",
       "      <td>...</td>\n",
       "      <td>0.0</td>\n",
       "      <td>0.0</td>\n",
       "      <td>2.0</td>\n",
       "      <td>15.0</td>\n",
       "      <td>16.0</td>\n",
       "      <td>14.0</td>\n",
       "      <td>3.0</td>\n",
       "      <td>0.0</td>\n",
       "      <td>0.0</td>\n",
       "      <td>5</td>\n",
       "    </tr>\n",
       "    <tr>\n",
       "      <th>4</th>\n",
       "      <td>0.0</td>\n",
       "      <td>0.0</td>\n",
       "      <td>6.0</td>\n",
       "      <td>11.0</td>\n",
       "      <td>16.0</td>\n",
       "      <td>16.0</td>\n",
       "      <td>3.0</td>\n",
       "      <td>0.0</td>\n",
       "      <td>0.0</td>\n",
       "      <td>5.0</td>\n",
       "      <td>...</td>\n",
       "      <td>0.0</td>\n",
       "      <td>0.0</td>\n",
       "      <td>0.0</td>\n",
       "      <td>5.0</td>\n",
       "      <td>16.0</td>\n",
       "      <td>13.0</td>\n",
       "      <td>0.0</td>\n",
       "      <td>0.0</td>\n",
       "      <td>0.0</td>\n",
       "      <td>5</td>\n",
       "    </tr>\n",
       "  </tbody>\n",
       "</table>\n",
       "<p>5 rows × 65 columns</p>\n",
       "</div>"
      ],
      "text/plain": [
       "   pixel_0_0  pixel_0_1  pixel_0_2  pixel_0_3  pixel_0_4  pixel_0_5  \\\n",
       "0        0.0        0.0        6.0       16.0        8.0        0.0   \n",
       "1        0.0        0.0        4.0       16.0       16.0        8.0   \n",
       "2        0.0        0.0        0.0        4.0       15.0       12.0   \n",
       "3        0.0        3.0       12.0       12.0       14.0       15.0   \n",
       "4        0.0        0.0        6.0       11.0       16.0       16.0   \n",
       "\n",
       "   pixel_0_6  pixel_0_7  pixel_1_0  pixel_1_1  ...  pixel_6_7  pixel_7_0  \\\n",
       "0        0.0        0.0        0.0        0.0  ...        3.0        0.0   \n",
       "1        0.0        0.0        0.0        0.0  ...        0.0        0.0   \n",
       "2        0.0        0.0        0.0        0.0  ...        0.0        0.0   \n",
       "3        3.0        0.0        0.0        4.0  ...        0.0        0.0   \n",
       "4        3.0        0.0        0.0        5.0  ...        0.0        0.0   \n",
       "\n",
       "   pixel_7_1  pixel_7_2  pixel_7_3  pixel_7_4  pixel_7_5  pixel_7_6  \\\n",
       "0        0.0        4.0       16.0       16.0       15.0       16.0   \n",
       "1        0.0        6.0       12.0       12.0        2.0        0.0   \n",
       "2        0.0        0.0        3.0       11.0       16.0        9.0   \n",
       "3        2.0       15.0       16.0       14.0        3.0        0.0   \n",
       "4        0.0        5.0       16.0       13.0        0.0        0.0   \n",
       "\n",
       "   pixel_7_7  target  \n",
       "0       16.0       2  \n",
       "1        0.0       1  \n",
       "2        0.0       2  \n",
       "3        0.0       5  \n",
       "4        0.0       5  \n",
       "\n",
       "[5 rows x 65 columns]"
      ]
     },
     "execution_count": 3,
     "metadata": {},
     "output_type": "execute_result"
    }
   ],
   "source": [
    "df_train = pd.read_csv('../static/data/digits_train.csv')\n",
    "df_train.head()"
   ]
  },
  {
   "cell_type": "code",
   "execution_count": 4,
   "metadata": {},
   "outputs": [
    {
     "data": {
      "text/html": [
       "<div>\n",
       "<style scoped>\n",
       "    .dataframe tbody tr th:only-of-type {\n",
       "        vertical-align: middle;\n",
       "    }\n",
       "\n",
       "    .dataframe tbody tr th {\n",
       "        vertical-align: top;\n",
       "    }\n",
       "\n",
       "    .dataframe thead th {\n",
       "        text-align: right;\n",
       "    }\n",
       "</style>\n",
       "<table border=\"1\" class=\"dataframe\">\n",
       "  <thead>\n",
       "    <tr style=\"text-align: right;\">\n",
       "      <th></th>\n",
       "      <th>pixel_0_0</th>\n",
       "      <th>pixel_0_1</th>\n",
       "      <th>pixel_0_2</th>\n",
       "      <th>pixel_0_3</th>\n",
       "      <th>pixel_0_4</th>\n",
       "      <th>pixel_0_5</th>\n",
       "      <th>pixel_0_6</th>\n",
       "      <th>pixel_0_7</th>\n",
       "      <th>pixel_1_0</th>\n",
       "      <th>pixel_1_1</th>\n",
       "      <th>...</th>\n",
       "      <th>pixel_6_7</th>\n",
       "      <th>pixel_7_0</th>\n",
       "      <th>pixel_7_1</th>\n",
       "      <th>pixel_7_2</th>\n",
       "      <th>pixel_7_3</th>\n",
       "      <th>pixel_7_4</th>\n",
       "      <th>pixel_7_5</th>\n",
       "      <th>pixel_7_6</th>\n",
       "      <th>pixel_7_7</th>\n",
       "      <th>target</th>\n",
       "    </tr>\n",
       "  </thead>\n",
       "  <tbody>\n",
       "    <tr>\n",
       "      <th>count</th>\n",
       "      <td>1347.0</td>\n",
       "      <td>1347.000000</td>\n",
       "      <td>1347.000000</td>\n",
       "      <td>1347.000000</td>\n",
       "      <td>1347.000000</td>\n",
       "      <td>1347.000000</td>\n",
       "      <td>1347.000000</td>\n",
       "      <td>1347.000000</td>\n",
       "      <td>1347.000000</td>\n",
       "      <td>1347.000000</td>\n",
       "      <td>...</td>\n",
       "      <td>1347.000000</td>\n",
       "      <td>1347.000000</td>\n",
       "      <td>1347.000000</td>\n",
       "      <td>1347.000000</td>\n",
       "      <td>1347.000000</td>\n",
       "      <td>1347.000000</td>\n",
       "      <td>1347.000000</td>\n",
       "      <td>1347.000000</td>\n",
       "      <td>1347.000000</td>\n",
       "      <td>1347.000000</td>\n",
       "    </tr>\n",
       "    <tr>\n",
       "      <th>mean</th>\n",
       "      <td>0.0</td>\n",
       "      <td>0.317001</td>\n",
       "      <td>5.325909</td>\n",
       "      <td>11.883445</td>\n",
       "      <td>11.809948</td>\n",
       "      <td>5.787676</td>\n",
       "      <td>1.351151</td>\n",
       "      <td>0.126949</td>\n",
       "      <td>0.005939</td>\n",
       "      <td>2.118782</td>\n",
       "      <td>...</td>\n",
       "      <td>0.196733</td>\n",
       "      <td>0.000742</td>\n",
       "      <td>0.290275</td>\n",
       "      <td>5.657758</td>\n",
       "      <td>12.213066</td>\n",
       "      <td>11.832220</td>\n",
       "      <td>6.786192</td>\n",
       "      <td>2.099480</td>\n",
       "      <td>0.353378</td>\n",
       "      <td>4.494432</td>\n",
       "    </tr>\n",
       "    <tr>\n",
       "      <th>std</th>\n",
       "      <td>0.0</td>\n",
       "      <td>0.931391</td>\n",
       "      <td>4.775178</td>\n",
       "      <td>4.208947</td>\n",
       "      <td>4.328741</td>\n",
       "      <td>5.692418</td>\n",
       "      <td>3.314934</td>\n",
       "      <td>1.050469</td>\n",
       "      <td>0.094234</td>\n",
       "      <td>3.316512</td>\n",
       "      <td>...</td>\n",
       "      <td>0.923068</td>\n",
       "      <td>0.027247</td>\n",
       "      <td>0.981819</td>\n",
       "      <td>5.113949</td>\n",
       "      <td>4.361272</td>\n",
       "      <td>4.902927</td>\n",
       "      <td>5.908441</td>\n",
       "      <td>4.136299</td>\n",
       "      <td>1.813724</td>\n",
       "      <td>2.865057</td>\n",
       "    </tr>\n",
       "    <tr>\n",
       "      <th>min</th>\n",
       "      <td>0.0</td>\n",
       "      <td>0.000000</td>\n",
       "      <td>0.000000</td>\n",
       "      <td>0.000000</td>\n",
       "      <td>0.000000</td>\n",
       "      <td>0.000000</td>\n",
       "      <td>0.000000</td>\n",
       "      <td>0.000000</td>\n",
       "      <td>0.000000</td>\n",
       "      <td>0.000000</td>\n",
       "      <td>...</td>\n",
       "      <td>0.000000</td>\n",
       "      <td>0.000000</td>\n",
       "      <td>0.000000</td>\n",
       "      <td>0.000000</td>\n",
       "      <td>0.000000</td>\n",
       "      <td>0.000000</td>\n",
       "      <td>0.000000</td>\n",
       "      <td>0.000000</td>\n",
       "      <td>0.000000</td>\n",
       "      <td>0.000000</td>\n",
       "    </tr>\n",
       "    <tr>\n",
       "      <th>25%</th>\n",
       "      <td>0.0</td>\n",
       "      <td>0.000000</td>\n",
       "      <td>1.000000</td>\n",
       "      <td>10.000000</td>\n",
       "      <td>10.000000</td>\n",
       "      <td>0.000000</td>\n",
       "      <td>0.000000</td>\n",
       "      <td>0.000000</td>\n",
       "      <td>0.000000</td>\n",
       "      <td>0.000000</td>\n",
       "      <td>...</td>\n",
       "      <td>0.000000</td>\n",
       "      <td>0.000000</td>\n",
       "      <td>0.000000</td>\n",
       "      <td>1.000000</td>\n",
       "      <td>11.000000</td>\n",
       "      <td>10.000000</td>\n",
       "      <td>0.000000</td>\n",
       "      <td>0.000000</td>\n",
       "      <td>0.000000</td>\n",
       "      <td>2.000000</td>\n",
       "    </tr>\n",
       "    <tr>\n",
       "      <th>50%</th>\n",
       "      <td>0.0</td>\n",
       "      <td>0.000000</td>\n",
       "      <td>4.000000</td>\n",
       "      <td>13.000000</td>\n",
       "      <td>13.000000</td>\n",
       "      <td>4.000000</td>\n",
       "      <td>0.000000</td>\n",
       "      <td>0.000000</td>\n",
       "      <td>0.000000</td>\n",
       "      <td>0.000000</td>\n",
       "      <td>...</td>\n",
       "      <td>0.000000</td>\n",
       "      <td>0.000000</td>\n",
       "      <td>0.000000</td>\n",
       "      <td>5.000000</td>\n",
       "      <td>14.000000</td>\n",
       "      <td>14.000000</td>\n",
       "      <td>6.000000</td>\n",
       "      <td>0.000000</td>\n",
       "      <td>0.000000</td>\n",
       "      <td>4.000000</td>\n",
       "    </tr>\n",
       "    <tr>\n",
       "      <th>75%</th>\n",
       "      <td>0.0</td>\n",
       "      <td>0.000000</td>\n",
       "      <td>9.000000</td>\n",
       "      <td>15.000000</td>\n",
       "      <td>15.000000</td>\n",
       "      <td>11.000000</td>\n",
       "      <td>0.000000</td>\n",
       "      <td>0.000000</td>\n",
       "      <td>0.000000</td>\n",
       "      <td>4.000000</td>\n",
       "      <td>...</td>\n",
       "      <td>0.000000</td>\n",
       "      <td>0.000000</td>\n",
       "      <td>0.000000</td>\n",
       "      <td>10.000000</td>\n",
       "      <td>16.000000</td>\n",
       "      <td>16.000000</td>\n",
       "      <td>12.000000</td>\n",
       "      <td>2.000000</td>\n",
       "      <td>0.000000</td>\n",
       "      <td>7.000000</td>\n",
       "    </tr>\n",
       "    <tr>\n",
       "      <th>max</th>\n",
       "      <td>0.0</td>\n",
       "      <td>8.000000</td>\n",
       "      <td>16.000000</td>\n",
       "      <td>16.000000</td>\n",
       "      <td>16.000000</td>\n",
       "      <td>16.000000</td>\n",
       "      <td>16.000000</td>\n",
       "      <td>15.000000</td>\n",
       "      <td>2.000000</td>\n",
       "      <td>16.000000</td>\n",
       "      <td>...</td>\n",
       "      <td>10.000000</td>\n",
       "      <td>1.000000</td>\n",
       "      <td>9.000000</td>\n",
       "      <td>16.000000</td>\n",
       "      <td>16.000000</td>\n",
       "      <td>16.000000</td>\n",
       "      <td>16.000000</td>\n",
       "      <td>16.000000</td>\n",
       "      <td>16.000000</td>\n",
       "      <td>9.000000</td>\n",
       "    </tr>\n",
       "  </tbody>\n",
       "</table>\n",
       "<p>8 rows × 65 columns</p>\n",
       "</div>"
      ],
      "text/plain": [
       "       pixel_0_0    pixel_0_1    pixel_0_2    pixel_0_3    pixel_0_4  \\\n",
       "count     1347.0  1347.000000  1347.000000  1347.000000  1347.000000   \n",
       "mean         0.0     0.317001     5.325909    11.883445    11.809948   \n",
       "std          0.0     0.931391     4.775178     4.208947     4.328741   \n",
       "min          0.0     0.000000     0.000000     0.000000     0.000000   \n",
       "25%          0.0     0.000000     1.000000    10.000000    10.000000   \n",
       "50%          0.0     0.000000     4.000000    13.000000    13.000000   \n",
       "75%          0.0     0.000000     9.000000    15.000000    15.000000   \n",
       "max          0.0     8.000000    16.000000    16.000000    16.000000   \n",
       "\n",
       "         pixel_0_5    pixel_0_6    pixel_0_7    pixel_1_0    pixel_1_1  ...  \\\n",
       "count  1347.000000  1347.000000  1347.000000  1347.000000  1347.000000  ...   \n",
       "mean      5.787676     1.351151     0.126949     0.005939     2.118782  ...   \n",
       "std       5.692418     3.314934     1.050469     0.094234     3.316512  ...   \n",
       "min       0.000000     0.000000     0.000000     0.000000     0.000000  ...   \n",
       "25%       0.000000     0.000000     0.000000     0.000000     0.000000  ...   \n",
       "50%       4.000000     0.000000     0.000000     0.000000     0.000000  ...   \n",
       "75%      11.000000     0.000000     0.000000     0.000000     4.000000  ...   \n",
       "max      16.000000    16.000000    15.000000     2.000000    16.000000  ...   \n",
       "\n",
       "         pixel_6_7    pixel_7_0    pixel_7_1    pixel_7_2    pixel_7_3  \\\n",
       "count  1347.000000  1347.000000  1347.000000  1347.000000  1347.000000   \n",
       "mean      0.196733     0.000742     0.290275     5.657758    12.213066   \n",
       "std       0.923068     0.027247     0.981819     5.113949     4.361272   \n",
       "min       0.000000     0.000000     0.000000     0.000000     0.000000   \n",
       "25%       0.000000     0.000000     0.000000     1.000000    11.000000   \n",
       "50%       0.000000     0.000000     0.000000     5.000000    14.000000   \n",
       "75%       0.000000     0.000000     0.000000    10.000000    16.000000   \n",
       "max      10.000000     1.000000     9.000000    16.000000    16.000000   \n",
       "\n",
       "         pixel_7_4    pixel_7_5    pixel_7_6    pixel_7_7       target  \n",
       "count  1347.000000  1347.000000  1347.000000  1347.000000  1347.000000  \n",
       "mean     11.832220     6.786192     2.099480     0.353378     4.494432  \n",
       "std       4.902927     5.908441     4.136299     1.813724     2.865057  \n",
       "min       0.000000     0.000000     0.000000     0.000000     0.000000  \n",
       "25%      10.000000     0.000000     0.000000     0.000000     2.000000  \n",
       "50%      14.000000     6.000000     0.000000     0.000000     4.000000  \n",
       "75%      16.000000    12.000000     2.000000     0.000000     7.000000  \n",
       "max      16.000000    16.000000    16.000000    16.000000     9.000000  \n",
       "\n",
       "[8 rows x 65 columns]"
      ]
     },
     "execution_count": 4,
     "metadata": {},
     "output_type": "execute_result"
    }
   ],
   "source": [
    "df_train.describe()"
   ]
  },
  {
   "cell_type": "code",
   "execution_count": 5,
   "metadata": {},
   "outputs": [],
   "source": [
    "import sklearn.datasets as sd\n",
    "digits = sd.load_digits()"
   ]
  },
  {
   "cell_type": "code",
   "execution_count": 6,
   "metadata": {},
   "outputs": [
    {
     "data": {
      "image/png": "[encoded data removed]",
      "text/plain": [
       "<Figure size 144x144 with 1 Axes>"
      ]
     },
     "metadata": {},
     "output_type": "display_data"
    }
   ],
   "source": [
    "plt.style.use(['seaborn-notebook']) \n",
    "plt.figure(figsize=(2,2))\n",
    "plt.imshow(digits.images[0], cmap=plt.cm.binary, interpolation='nearest') \n",
    "#이미지데이터찍힌다 digits.images[0] 0의 뜻은 진짜인덱스값이다. 위에데이터들은 이미 셔플이 되어서 뒤죽박죽이다;ㅁ;\n",
    "plt.xticks([]); plt.yticks([]) #눈금없애기\n",
    "plt.show()"
   ]
  },
  {
   "cell_type": "code",
   "execution_count": 7,
   "metadata": {},
   "outputs": [
    {
     "data": {
      "image/png": "[encoded data removed]",
      "text/plain": [
       "<Figure size 864x144 with 8 Axes>"
      ]
     },
     "metadata": {},
     "output_type": "display_data"
    }
   ],
   "source": [
    "#혹시 여러개 그릴일 있을까봐..subplots_adjust 이런게있구나~ \n",
    "fig = plt.figure(figsize=(12, 2))  \n",
    "fig.subplots_adjust(left=0, right=1, bottom=0, top=1, hspace=0.05, wspace=0.05)\n",
    "\n",
    "for i in range(8):\n",
    "    ax = fig.add_subplot(1, 8, i + 1, xticks=[], yticks=[])\n",
    "    ax.imshow(digits.images[i*3], cmap=plt.cm.binary, interpolation='nearest')\n",
    "    # label the image with the target value\n",
    "    # ax.text(0, 7, str(digits.target[i*3]))"
   ]
  },
  {
   "cell_type": "code",
   "execution_count": 8,
   "metadata": {},
   "outputs": [
    {
     "data": {
      "text/html": [
       "<div>\n",
       "<style scoped>\n",
       "    .dataframe tbody tr th:only-of-type {\n",
       "        vertical-align: middle;\n",
       "    }\n",
       "\n",
       "    .dataframe tbody tr th {\n",
       "        vertical-align: top;\n",
       "    }\n",
       "\n",
       "    .dataframe thead th {\n",
       "        text-align: right;\n",
       "    }\n",
       "</style>\n",
       "<table border=\"1\" class=\"dataframe\">\n",
       "  <thead>\n",
       "    <tr style=\"text-align: right;\">\n",
       "      <th></th>\n",
       "      <th>index</th>\n",
       "      <th>pixel_0_0</th>\n",
       "      <th>pixel_0_1</th>\n",
       "      <th>pixel_0_2</th>\n",
       "      <th>pixel_0_3</th>\n",
       "      <th>pixel_0_4</th>\n",
       "      <th>pixel_0_5</th>\n",
       "      <th>pixel_0_6</th>\n",
       "      <th>pixel_0_7</th>\n",
       "      <th>pixel_1_0</th>\n",
       "      <th>...</th>\n",
       "      <th>pixel_6_7</th>\n",
       "      <th>pixel_7_0</th>\n",
       "      <th>pixel_7_1</th>\n",
       "      <th>pixel_7_2</th>\n",
       "      <th>pixel_7_3</th>\n",
       "      <th>pixel_7_4</th>\n",
       "      <th>pixel_7_5</th>\n",
       "      <th>pixel_7_6</th>\n",
       "      <th>pixel_7_7</th>\n",
       "      <th>target</th>\n",
       "    </tr>\n",
       "  </thead>\n",
       "  <tbody>\n",
       "    <tr>\n",
       "      <th>0</th>\n",
       "      <td>667</td>\n",
       "      <td>0.0</td>\n",
       "      <td>0.0</td>\n",
       "      <td>4.0</td>\n",
       "      <td>16.0</td>\n",
       "      <td>15.0</td>\n",
       "      <td>4.0</td>\n",
       "      <td>0.0</td>\n",
       "      <td>0.0</td>\n",
       "      <td>0.0</td>\n",
       "      <td>...</td>\n",
       "      <td>0.0</td>\n",
       "      <td>0.0</td>\n",
       "      <td>0.0</td>\n",
       "      <td>3.0</td>\n",
       "      <td>12.0</td>\n",
       "      <td>14.0</td>\n",
       "      <td>11.0</td>\n",
       "      <td>0.0</td>\n",
       "      <td>0.0</td>\n",
       "      <td>1</td>\n",
       "    </tr>\n",
       "    <tr>\n",
       "      <th>1</th>\n",
       "      <td>971</td>\n",
       "      <td>0.0</td>\n",
       "      <td>0.0</td>\n",
       "      <td>5.0</td>\n",
       "      <td>15.0</td>\n",
       "      <td>14.0</td>\n",
       "      <td>3.0</td>\n",
       "      <td>0.0</td>\n",
       "      <td>0.0</td>\n",
       "      <td>0.0</td>\n",
       "      <td>...</td>\n",
       "      <td>1.0</td>\n",
       "      <td>0.0</td>\n",
       "      <td>0.0</td>\n",
       "      <td>4.0</td>\n",
       "      <td>11.0</td>\n",
       "      <td>13.0</td>\n",
       "      <td>16.0</td>\n",
       "      <td>11.0</td>\n",
       "      <td>0.0</td>\n",
       "      <td>9</td>\n",
       "    </tr>\n",
       "    <tr>\n",
       "      <th>2</th>\n",
       "      <td>914</td>\n",
       "      <td>0.0</td>\n",
       "      <td>0.0</td>\n",
       "      <td>7.0</td>\n",
       "      <td>14.0</td>\n",
       "      <td>9.0</td>\n",
       "      <td>0.0</td>\n",
       "      <td>0.0</td>\n",
       "      <td>0.0</td>\n",
       "      <td>0.0</td>\n",
       "      <td>...</td>\n",
       "      <td>3.0</td>\n",
       "      <td>0.0</td>\n",
       "      <td>0.0</td>\n",
       "      <td>5.0</td>\n",
       "      <td>15.0</td>\n",
       "      <td>16.0</td>\n",
       "      <td>16.0</td>\n",
       "      <td>12.0</td>\n",
       "      <td>1.0</td>\n",
       "      <td>9</td>\n",
       "    </tr>\n",
       "  </tbody>\n",
       "</table>\n",
       "<p>3 rows × 66 columns</p>\n",
       "</div>"
      ],
      "text/plain": [
       "   index  pixel_0_0  pixel_0_1  pixel_0_2  pixel_0_3  pixel_0_4  pixel_0_5  \\\n",
       "0    667        0.0        0.0        4.0       16.0       15.0        4.0   \n",
       "1    971        0.0        0.0        5.0       15.0       14.0        3.0   \n",
       "2    914        0.0        0.0        7.0       14.0        9.0        0.0   \n",
       "\n",
       "   pixel_0_6  pixel_0_7  pixel_1_0  ...  pixel_6_7  pixel_7_0  pixel_7_1  \\\n",
       "0        0.0        0.0        0.0  ...        0.0        0.0        0.0   \n",
       "1        0.0        0.0        0.0  ...        1.0        0.0        0.0   \n",
       "2        0.0        0.0        0.0  ...        3.0        0.0        0.0   \n",
       "\n",
       "   pixel_7_2  pixel_7_3  pixel_7_4  pixel_7_5  pixel_7_6  pixel_7_7  target  \n",
       "0        3.0       12.0       14.0       11.0        0.0        0.0       1  \n",
       "1        4.0       11.0       13.0       16.0       11.0        0.0       9  \n",
       "2        5.0       15.0       16.0       16.0       12.0        1.0       9  \n",
       "\n",
       "[3 rows x 66 columns]"
      ]
     },
     "execution_count": 8,
     "metadata": {},
     "output_type": "execute_result"
    }
   ],
   "source": [
    "#make_train_test_file.ipynb에서 특별히 disits의 test데이터만! index=True로 인덱스컬럼을 가져왔다!!!!(이미지를 그리기 위해서! 필요)\n",
    "df_test = pd.read_csv('../static/data/digits_test.csv')\n",
    "df_test.head(3)"
   ]
  },
  {
   "cell_type": "code",
   "execution_count": 9,
   "metadata": {},
   "outputs": [
    {
     "data": {
      "text/html": [
       "<div>\n",
       "<style scoped>\n",
       "    .dataframe tbody tr th:only-of-type {\n",
       "        vertical-align: middle;\n",
       "    }\n",
       "\n",
       "    .dataframe tbody tr th {\n",
       "        vertical-align: top;\n",
       "    }\n",
       "\n",
       "    .dataframe thead th {\n",
       "        text-align: right;\n",
       "    }\n",
       "</style>\n",
       "<table border=\"1\" class=\"dataframe\">\n",
       "  <thead>\n",
       "    <tr style=\"text-align: right;\">\n",
       "      <th></th>\n",
       "      <th>index</th>\n",
       "      <th>pixel_0_0</th>\n",
       "      <th>pixel_0_1</th>\n",
       "      <th>pixel_0_2</th>\n",
       "      <th>pixel_0_3</th>\n",
       "      <th>pixel_0_4</th>\n",
       "      <th>pixel_0_5</th>\n",
       "      <th>pixel_0_6</th>\n",
       "      <th>pixel_0_7</th>\n",
       "      <th>pixel_1_0</th>\n",
       "      <th>...</th>\n",
       "      <th>pixel_6_7</th>\n",
       "      <th>pixel_7_0</th>\n",
       "      <th>pixel_7_1</th>\n",
       "      <th>pixel_7_2</th>\n",
       "      <th>pixel_7_3</th>\n",
       "      <th>pixel_7_4</th>\n",
       "      <th>pixel_7_5</th>\n",
       "      <th>pixel_7_6</th>\n",
       "      <th>pixel_7_7</th>\n",
       "      <th>target</th>\n",
       "    </tr>\n",
       "  </thead>\n",
       "  <tbody>\n",
       "    <tr>\n",
       "      <th>count</th>\n",
       "      <td>450.000000</td>\n",
       "      <td>450.0</td>\n",
       "      <td>450.000000</td>\n",
       "      <td>450.000000</td>\n",
       "      <td>450.000000</td>\n",
       "      <td>450.000000</td>\n",
       "      <td>450.000000</td>\n",
       "      <td>450.000000</td>\n",
       "      <td>450.000000</td>\n",
       "      <td>450.000000</td>\n",
       "      <td>...</td>\n",
       "      <td>450.000000</td>\n",
       "      <td>450.0</td>\n",
       "      <td>450.000000</td>\n",
       "      <td>450.000000</td>\n",
       "      <td>450.000000</td>\n",
       "      <td>450.000000</td>\n",
       "      <td>450.000000</td>\n",
       "      <td>450.000000</td>\n",
       "      <td>450.000000</td>\n",
       "      <td>450.000000</td>\n",
       "    </tr>\n",
       "    <tr>\n",
       "      <th>mean</th>\n",
       "      <td>930.055556</td>\n",
       "      <td>0.0</td>\n",
       "      <td>0.264444</td>\n",
       "      <td>4.842222</td>\n",
       "      <td>11.693333</td>\n",
       "      <td>11.962222</td>\n",
       "      <td>5.764444</td>\n",
       "      <td>1.395556</td>\n",
       "      <td>0.137778</td>\n",
       "      <td>0.004444</td>\n",
       "      <td>...</td>\n",
       "      <td>0.235556</td>\n",
       "      <td>0.0</td>\n",
       "      <td>0.246667</td>\n",
       "      <td>5.257778</td>\n",
       "      <td>11.717778</td>\n",
       "      <td>11.740000</td>\n",
       "      <td>6.697778</td>\n",
       "      <td>1.973333</td>\n",
       "      <td>0.397778</td>\n",
       "      <td>4.480000</td>\n",
       "    </tr>\n",
       "    <tr>\n",
       "      <th>std</th>\n",
       "      <td>528.963262</td>\n",
       "      <td>0.0</td>\n",
       "      <td>0.830288</td>\n",
       "      <td>4.679910</td>\n",
       "      <td>4.367750</td>\n",
       "      <td>4.163784</td>\n",
       "      <td>5.594109</td>\n",
       "      <td>3.361511</td>\n",
       "      <td>0.998281</td>\n",
       "      <td>0.094281</td>\n",
       "      <td>...</td>\n",
       "      <td>1.149253</td>\n",
       "      <td>0.0</td>\n",
       "      <td>0.774913</td>\n",
       "      <td>5.063978</td>\n",
       "      <td>4.398612</td>\n",
       "      <td>5.030548</td>\n",
       "      <td>5.883217</td>\n",
       "      <td>3.953426</td>\n",
       "      <td>1.994311</td>\n",
       "      <td>2.869205</td>\n",
       "    </tr>\n",
       "    <tr>\n",
       "      <th>min</th>\n",
       "      <td>3.000000</td>\n",
       "      <td>0.0</td>\n",
       "      <td>0.000000</td>\n",
       "      <td>0.000000</td>\n",
       "      <td>0.000000</td>\n",
       "      <td>0.000000</td>\n",
       "      <td>0.000000</td>\n",
       "      <td>0.000000</td>\n",
       "      <td>0.000000</td>\n",
       "      <td>0.000000</td>\n",
       "      <td>...</td>\n",
       "      <td>0.000000</td>\n",
       "      <td>0.0</td>\n",
       "      <td>0.000000</td>\n",
       "      <td>0.000000</td>\n",
       "      <td>0.000000</td>\n",
       "      <td>0.000000</td>\n",
       "      <td>0.000000</td>\n",
       "      <td>0.000000</td>\n",
       "      <td>0.000000</td>\n",
       "      <td>0.000000</td>\n",
       "    </tr>\n",
       "    <tr>\n",
       "      <th>25%</th>\n",
       "      <td>483.750000</td>\n",
       "      <td>0.0</td>\n",
       "      <td>0.000000</td>\n",
       "      <td>0.000000</td>\n",
       "      <td>9.000000</td>\n",
       "      <td>10.000000</td>\n",
       "      <td>0.000000</td>\n",
       "      <td>0.000000</td>\n",
       "      <td>0.000000</td>\n",
       "      <td>0.000000</td>\n",
       "      <td>...</td>\n",
       "      <td>0.000000</td>\n",
       "      <td>0.0</td>\n",
       "      <td>0.000000</td>\n",
       "      <td>0.000000</td>\n",
       "      <td>10.000000</td>\n",
       "      <td>10.000000</td>\n",
       "      <td>0.000000</td>\n",
       "      <td>0.000000</td>\n",
       "      <td>0.000000</td>\n",
       "      <td>2.000000</td>\n",
       "    </tr>\n",
       "    <tr>\n",
       "      <th>50%</th>\n",
       "      <td>938.500000</td>\n",
       "      <td>0.0</td>\n",
       "      <td>0.000000</td>\n",
       "      <td>4.000000</td>\n",
       "      <td>13.000000</td>\n",
       "      <td>13.000000</td>\n",
       "      <td>4.000000</td>\n",
       "      <td>0.000000</td>\n",
       "      <td>0.000000</td>\n",
       "      <td>0.000000</td>\n",
       "      <td>...</td>\n",
       "      <td>0.000000</td>\n",
       "      <td>0.0</td>\n",
       "      <td>0.000000</td>\n",
       "      <td>4.000000</td>\n",
       "      <td>13.000000</td>\n",
       "      <td>14.000000</td>\n",
       "      <td>6.000000</td>\n",
       "      <td>0.000000</td>\n",
       "      <td>0.000000</td>\n",
       "      <td>4.000000</td>\n",
       "    </tr>\n",
       "    <tr>\n",
       "      <th>75%</th>\n",
       "      <td>1402.250000</td>\n",
       "      <td>0.0</td>\n",
       "      <td>0.000000</td>\n",
       "      <td>8.000000</td>\n",
       "      <td>15.000000</td>\n",
       "      <td>15.000000</td>\n",
       "      <td>11.000000</td>\n",
       "      <td>0.000000</td>\n",
       "      <td>0.000000</td>\n",
       "      <td>0.000000</td>\n",
       "      <td>...</td>\n",
       "      <td>0.000000</td>\n",
       "      <td>0.0</td>\n",
       "      <td>0.000000</td>\n",
       "      <td>9.000000</td>\n",
       "      <td>15.000000</td>\n",
       "      <td>16.000000</td>\n",
       "      <td>12.000000</td>\n",
       "      <td>2.000000</td>\n",
       "      <td>0.000000</td>\n",
       "      <td>7.000000</td>\n",
       "    </tr>\n",
       "    <tr>\n",
       "      <th>max</th>\n",
       "      <td>1795.000000</td>\n",
       "      <td>0.0</td>\n",
       "      <td>6.000000</td>\n",
       "      <td>16.000000</td>\n",
       "      <td>16.000000</td>\n",
       "      <td>16.000000</td>\n",
       "      <td>16.000000</td>\n",
       "      <td>16.000000</td>\n",
       "      <td>12.000000</td>\n",
       "      <td>2.000000</td>\n",
       "      <td>...</td>\n",
       "      <td>13.000000</td>\n",
       "      <td>0.0</td>\n",
       "      <td>5.000000</td>\n",
       "      <td>16.000000</td>\n",
       "      <td>16.000000</td>\n",
       "      <td>16.000000</td>\n",
       "      <td>16.000000</td>\n",
       "      <td>16.000000</td>\n",
       "      <td>16.000000</td>\n",
       "      <td>9.000000</td>\n",
       "    </tr>\n",
       "  </tbody>\n",
       "</table>\n",
       "<p>8 rows × 66 columns</p>\n",
       "</div>"
      ],
      "text/plain": [
       "             index  pixel_0_0   pixel_0_1   pixel_0_2   pixel_0_3   pixel_0_4  \\\n",
       "count   450.000000      450.0  450.000000  450.000000  450.000000  450.000000   \n",
       "mean    930.055556        0.0    0.264444    4.842222   11.693333   11.962222   \n",
       "std     528.963262        0.0    0.830288    4.679910    4.367750    4.163784   \n",
       "min       3.000000        0.0    0.000000    0.000000    0.000000    0.000000   \n",
       "25%     483.750000        0.0    0.000000    0.000000    9.000000   10.000000   \n",
       "50%     938.500000        0.0    0.000000    4.000000   13.000000   13.000000   \n",
       "75%    1402.250000        0.0    0.000000    8.000000   15.000000   15.000000   \n",
       "max    1795.000000        0.0    6.000000   16.000000   16.000000   16.000000   \n",
       "\n",
       "        pixel_0_5   pixel_0_6   pixel_0_7   pixel_1_0  ...   pixel_6_7  \\\n",
       "count  450.000000  450.000000  450.000000  450.000000  ...  450.000000   \n",
       "mean     5.764444    1.395556    0.137778    0.004444  ...    0.235556   \n",
       "std      5.594109    3.361511    0.998281    0.094281  ...    1.149253   \n",
       "min      0.000000    0.000000    0.000000    0.000000  ...    0.000000   \n",
       "25%      0.000000    0.000000    0.000000    0.000000  ...    0.000000   \n",
       "50%      4.000000    0.000000    0.000000    0.000000  ...    0.000000   \n",
       "75%     11.000000    0.000000    0.000000    0.000000  ...    0.000000   \n",
       "max     16.000000   16.000000   12.000000    2.000000  ...   13.000000   \n",
       "\n",
       "       pixel_7_0   pixel_7_1   pixel_7_2   pixel_7_3   pixel_7_4   pixel_7_5  \\\n",
       "count      450.0  450.000000  450.000000  450.000000  450.000000  450.000000   \n",
       "mean         0.0    0.246667    5.257778   11.717778   11.740000    6.697778   \n",
       "std          0.0    0.774913    5.063978    4.398612    5.030548    5.883217   \n",
       "min          0.0    0.000000    0.000000    0.000000    0.000000    0.000000   \n",
       "25%          0.0    0.000000    0.000000   10.000000   10.000000    0.000000   \n",
       "50%          0.0    0.000000    4.000000   13.000000   14.000000    6.000000   \n",
       "75%          0.0    0.000000    9.000000   15.000000   16.000000   12.000000   \n",
       "max          0.0    5.000000   16.000000   16.000000   16.000000   16.000000   \n",
       "\n",
       "        pixel_7_6   pixel_7_7      target  \n",
       "count  450.000000  450.000000  450.000000  \n",
       "mean     1.973333    0.397778    4.480000  \n",
       "std      3.953426    1.994311    2.869205  \n",
       "min      0.000000    0.000000    0.000000  \n",
       "25%      0.000000    0.000000    2.000000  \n",
       "50%      0.000000    0.000000    4.000000  \n",
       "75%      2.000000    0.000000    7.000000  \n",
       "max     16.000000   16.000000    9.000000  \n",
       "\n",
       "[8 rows x 66 columns]"
      ]
     },
     "execution_count": 9,
     "metadata": {},
     "output_type": "execute_result"
    }
   ],
   "source": [
    "df_test.describe()"
   ]
  },
  {
   "cell_type": "code",
   "execution_count": 10,
   "metadata": {},
   "outputs": [
    {
     "data": {
      "text/plain": [
       "(450, 450)"
      ]
     },
     "execution_count": 10,
     "metadata": {},
     "output_type": "execute_result"
    }
   ],
   "source": [
    "img_index_list = df_test['index'].values #이미지를 그리기위해서 index컬럼 가져옴\n",
    "target_index_list = df_test['target'].values #정답비교하기위해서 target컬럼 가져옴\n",
    "len(img_index_list), len(target_index_list)\n",
    "#결과값:(450,450)"
   ]
  },
  {
   "cell_type": "code",
   "execution_count": 11,
   "metadata": {},
   "outputs": [
    {
     "data": {
      "text/plain": [
       "((1347, 64), (1347,))"
      ]
     },
     "execution_count": 11,
     "metadata": {},
     "output_type": "execute_result"
    }
   ],
   "source": [
    "#맨앞 index컬럼이 있는 X_test와 달리, X_train은 처음부터 가져와도 된다!\n",
    "X_train = df_train.iloc[:, :-1].values #맨끝열제외하고\n",
    "y_train = df_train.iloc[:, -1].values \n",
    "X_train.shape, y_train.shape\n",
    "#결과값:((1347, 64), (1347,))"
   ]
  },
  {
   "cell_type": "code",
   "execution_count": 12,
   "metadata": {},
   "outputs": [
    {
     "data": {
      "text/plain": [
       "((450, 64), (450,))"
      ]
     },
     "execution_count": 12,
     "metadata": {},
     "output_type": "execute_result"
    }
   ],
   "source": [
    "X_test = df_test.iloc[:, 1:-1].values  # 첫번째 컬럼이 index 이므로 이를 배제 (독특!중요!)\n",
    "y_test = df_test.target.values\n",
    "X_test.shape, y_test.shape\n",
    "#결과값:((450, 64), (450,))"
   ]
  },
  {
   "cell_type": "code",
   "execution_count": 13,
   "metadata": {},
   "outputs": [
    {
     "data": {
      "text/plain": [
       "MinMaxScaler()"
      ]
     },
     "execution_count": 13,
     "metadata": {},
     "output_type": "execute_result"
    }
   ],
   "source": [
    "scaler = MinMaxScaler()\n",
    "scaler.fit(X_train) "
   ]
  },
  {
   "cell_type": "code",
   "execution_count": 14,
   "metadata": {
    "scrolled": true
   },
   "outputs": [
    {
     "data": {
      "text/plain": [
       "((1347, 64), (450, 64))"
      ]
     },
     "execution_count": 14,
     "metadata": {},
     "output_type": "execute_result"
    }
   ],
   "source": [
    "#위에서 훈련데이터셋으로 훈련한 scaler로 아래 X_train,X_test 모두 적용\n",
    "X_train_scaled = scaler.transform(X_train)\n",
    "X_test_scaled = scaler.transform(X_test)\n",
    "X_train_scaled.shape, X_test_scaled.shape\n",
    "#결과값:((1347, 64), (450, 64))"
   ]
  },
  {
   "cell_type": "code",
   "execution_count": 15,
   "metadata": {},
   "outputs": [
    {
     "data": {
      "text/plain": [
       "['../static/model/digits_scaler.pkl']"
      ]
     },
     "execution_count": 15,
     "metadata": {},
     "output_type": "execute_result"
    }
   ],
   "source": [
    "joblib.dump(scaler, '../static/model/digits_scaler.pkl')#스케일러저장"
   ]
  },
  {
   "cell_type": "markdown",
   "metadata": {},
   "source": [
    "### 훈련1. Logistic Regression"
   ]
  },
  {
   "cell_type": "code",
   "execution_count": 16,
   "metadata": {},
   "outputs": [
    {
     "data": {
      "text/plain": [
       "{'C': 1.0,\n",
       " 'class_weight': None,\n",
       " 'dual': False,\n",
       " 'fit_intercept': True,\n",
       " 'intercept_scaling': 1,\n",
       " 'l1_ratio': None,\n",
       " 'max_iter': 100,\n",
       " 'multi_class': 'auto',\n",
       " 'n_jobs': None,\n",
       " 'penalty': 'l2',\n",
       " 'random_state': None,\n",
       " 'solver': 'lbfgs',\n",
       " 'tol': 0.0001,\n",
       " 'verbose': 0,\n",
       " 'warm_start': False}"
      ]
     },
     "execution_count": 16,
     "metadata": {},
     "output_type": "execute_result"
    }
   ],
   "source": [
    "lr_clf = LogisticRegression()\n",
    "lr_clf.get_params()"
   ]
  },
  {
   "cell_type": "code",
   "execution_count": 17,
   "metadata": {},
   "outputs": [],
   "source": [
    "params = {\n",
    "    #'C': [0.1, 1, 5, 10]\n",
    "    #'C': [3, 4, 5, 6, 7]\n",
    "    'C': [2, 3]\n",
    "}"
   ]
  },
  {
   "cell_type": "code",
   "execution_count": 19,
   "metadata": {},
   "outputs": [
    {
     "name": "stderr",
     "output_type": "stream",
     "text": [
      "C:\\ProgramData\\Anaconda3\\lib\\site-packages\\sklearn\\linear_model\\_logistic.py:762: ConvergenceWarning: lbfgs failed to converge (status=1):\n",
      "STOP: TOTAL NO. of ITERATIONS REACHED LIMIT.\n",
      "\n",
      "Increase the number of iterations (max_iter) or scale the data as shown in:\n",
      "    https://scikit-learn.org/stable/modules/preprocessing.html\n",
      "Please also refer to the documentation for alternative solver options:\n",
      "    https://scikit-learn.org/stable/modules/linear_model.html#logistic-regression\n",
      "  n_iter_i = _check_optimize_result(\n",
      "C:\\ProgramData\\Anaconda3\\lib\\site-packages\\sklearn\\linear_model\\_logistic.py:762: ConvergenceWarning: lbfgs failed to converge (status=1):\n",
      "STOP: TOTAL NO. of ITERATIONS REACHED LIMIT.\n",
      "\n",
      "Increase the number of iterations (max_iter) or scale the data as shown in:\n",
      "    https://scikit-learn.org/stable/modules/preprocessing.html\n",
      "Please also refer to the documentation for alternative solver options:\n",
      "    https://scikit-learn.org/stable/modules/linear_model.html#logistic-regression\n",
      "  n_iter_i = _check_optimize_result(\n",
      "C:\\ProgramData\\Anaconda3\\lib\\site-packages\\sklearn\\linear_model\\_logistic.py:762: ConvergenceWarning: lbfgs failed to converge (status=1):\n",
      "STOP: TOTAL NO. of ITERATIONS REACHED LIMIT.\n",
      "\n",
      "Increase the number of iterations (max_iter) or scale the data as shown in:\n",
      "    https://scikit-learn.org/stable/modules/preprocessing.html\n",
      "Please also refer to the documentation for alternative solver options:\n",
      "    https://scikit-learn.org/stable/modules/linear_model.html#logistic-regression\n",
      "  n_iter_i = _check_optimize_result(\n",
      "C:\\ProgramData\\Anaconda3\\lib\\site-packages\\sklearn\\linear_model\\_logistic.py:762: ConvergenceWarning: lbfgs failed to converge (status=1):\n",
      "STOP: TOTAL NO. of ITERATIONS REACHED LIMIT.\n",
      "\n",
      "Increase the number of iterations (max_iter) or scale the data as shown in:\n",
      "    https://scikit-learn.org/stable/modules/preprocessing.html\n",
      "Please also refer to the documentation for alternative solver options:\n",
      "    https://scikit-learn.org/stable/modules/linear_model.html#logistic-regression\n",
      "  n_iter_i = _check_optimize_result(\n",
      "C:\\ProgramData\\Anaconda3\\lib\\site-packages\\sklearn\\linear_model\\_logistic.py:762: ConvergenceWarning: lbfgs failed to converge (status=1):\n",
      "STOP: TOTAL NO. of ITERATIONS REACHED LIMIT.\n",
      "\n",
      "Increase the number of iterations (max_iter) or scale the data as shown in:\n",
      "    https://scikit-learn.org/stable/modules/preprocessing.html\n",
      "Please also refer to the documentation for alternative solver options:\n",
      "    https://scikit-learn.org/stable/modules/linear_model.html#logistic-regression\n",
      "  n_iter_i = _check_optimize_result(\n",
      "C:\\ProgramData\\Anaconda3\\lib\\site-packages\\sklearn\\linear_model\\_logistic.py:762: ConvergenceWarning: lbfgs failed to converge (status=1):\n",
      "STOP: TOTAL NO. of ITERATIONS REACHED LIMIT.\n",
      "\n",
      "Increase the number of iterations (max_iter) or scale the data as shown in:\n",
      "    https://scikit-learn.org/stable/modules/preprocessing.html\n",
      "Please also refer to the documentation for alternative solver options:\n",
      "    https://scikit-learn.org/stable/modules/linear_model.html#logistic-regression\n",
      "  n_iter_i = _check_optimize_result(\n",
      "C:\\ProgramData\\Anaconda3\\lib\\site-packages\\sklearn\\linear_model\\_logistic.py:762: ConvergenceWarning: lbfgs failed to converge (status=1):\n",
      "STOP: TOTAL NO. of ITERATIONS REACHED LIMIT.\n",
      "\n",
      "Increase the number of iterations (max_iter) or scale the data as shown in:\n",
      "    https://scikit-learn.org/stable/modules/preprocessing.html\n",
      "Please also refer to the documentation for alternative solver options:\n",
      "    https://scikit-learn.org/stable/modules/linear_model.html#logistic-regression\n",
      "  n_iter_i = _check_optimize_result(\n",
      "C:\\ProgramData\\Anaconda3\\lib\\site-packages\\sklearn\\linear_model\\_logistic.py:762: ConvergenceWarning: lbfgs failed to converge (status=1):\n",
      "STOP: TOTAL NO. of ITERATIONS REACHED LIMIT.\n",
      "\n",
      "Increase the number of iterations (max_iter) or scale the data as shown in:\n",
      "    https://scikit-learn.org/stable/modules/preprocessing.html\n",
      "Please also refer to the documentation for alternative solver options:\n",
      "    https://scikit-learn.org/stable/modules/linear_model.html#logistic-regression\n",
      "  n_iter_i = _check_optimize_result(\n",
      "C:\\ProgramData\\Anaconda3\\lib\\site-packages\\sklearn\\linear_model\\_logistic.py:762: ConvergenceWarning: lbfgs failed to converge (status=1):\n",
      "STOP: TOTAL NO. of ITERATIONS REACHED LIMIT.\n",
      "\n",
      "Increase the number of iterations (max_iter) or scale the data as shown in:\n",
      "    https://scikit-learn.org/stable/modules/preprocessing.html\n",
      "Please also refer to the documentation for alternative solver options:\n",
      "    https://scikit-learn.org/stable/modules/linear_model.html#logistic-regression\n",
      "  n_iter_i = _check_optimize_result(\n",
      "C:\\ProgramData\\Anaconda3\\lib\\site-packages\\sklearn\\linear_model\\_logistic.py:762: ConvergenceWarning: lbfgs failed to converge (status=1):\n",
      "STOP: TOTAL NO. of ITERATIONS REACHED LIMIT.\n",
      "\n",
      "Increase the number of iterations (max_iter) or scale the data as shown in:\n",
      "    https://scikit-learn.org/stable/modules/preprocessing.html\n",
      "Please also refer to the documentation for alternative solver options:\n",
      "    https://scikit-learn.org/stable/modules/linear_model.html#logistic-regression\n",
      "  n_iter_i = _check_optimize_result(\n"
     ]
    },
    {
     "name": "stdout",
     "output_type": "stream",
     "text": [
      "최고 평균 정확도: 0.9673\n",
      "최적 파라미터: {'C': 2}\n"
     ]
    },
    {
     "name": "stderr",
     "output_type": "stream",
     "text": [
      "C:\\ProgramData\\Anaconda3\\lib\\site-packages\\sklearn\\linear_model\\_logistic.py:762: ConvergenceWarning: lbfgs failed to converge (status=1):\n",
      "STOP: TOTAL NO. of ITERATIONS REACHED LIMIT.\n",
      "\n",
      "Increase the number of iterations (max_iter) or scale the data as shown in:\n",
      "    https://scikit-learn.org/stable/modules/preprocessing.html\n",
      "Please also refer to the documentation for alternative solver options:\n",
      "    https://scikit-learn.org/stable/modules/linear_model.html#logistic-regression\n",
      "  n_iter_i = _check_optimize_result(\n"
     ]
    }
   ],
   "source": [
    "grid_cv = GridSearchCV(lr_clf, param_grid=params, scoring='accuracy', cv=5)\n",
    "grid_cv.fit(X_train_scaled, y_train)\n",
    "print(f'최고 평균 정확도: {grid_cv.best_score_:.4f}')\n",
    "print('최적 파라미터:', grid_cv.best_params_)"
   ]
  },
  {
   "cell_type": "code",
   "execution_count": 21,
   "metadata": {},
   "outputs": [
    {
     "data": {
      "text/plain": [
       "0.9666666666666667"
      ]
     },
     "execution_count": 21,
     "metadata": {},
     "output_type": "execute_result"
    }
   ],
   "source": [
    "best_lr = grid_cv.best_estimator_\n",
    "pred = best_lr.predict(X_test_scaled)\n",
    "accuracy_score(y_test, pred)"
   ]
  },
  {
   "cell_type": "code",
   "execution_count": 22,
   "metadata": {},
   "outputs": [
    {
     "data": {
      "text/plain": [
       "['../static/model/digits_lr.pkl']"
      ]
     },
     "execution_count": 22,
     "metadata": {},
     "output_type": "execute_result"
    }
   ],
   "source": [
    "joblib.dump(best_lr, '../static/model/digits_lr.pkl')#모델저장"
   ]
  },
  {
   "cell_type": "markdown",
   "metadata": {},
   "source": [
    "### 훈련2. SVM"
   ]
  },
  {
   "cell_type": "code",
   "execution_count": 23,
   "metadata": {},
   "outputs": [
    {
     "data": {
      "text/plain": [
       "{'C': 1.0,\n",
       " 'break_ties': False,\n",
       " 'cache_size': 200,\n",
       " 'class_weight': None,\n",
       " 'coef0': 0.0,\n",
       " 'decision_function_shape': 'ovr',\n",
       " 'degree': 3,\n",
       " 'gamma': 'scale',\n",
       " 'kernel': 'rbf',\n",
       " 'max_iter': -1,\n",
       " 'probability': False,\n",
       " 'random_state': None,\n",
       " 'shrinking': True,\n",
       " 'tol': 0.001,\n",
       " 'verbose': False}"
      ]
     },
     "execution_count": 23,
     "metadata": {},
     "output_type": "execute_result"
    }
   ],
   "source": [
    "sv_clf = SVC()\n",
    "sv_clf.get_params()"
   ]
  },
  {
   "cell_type": "code",
   "execution_count": 24,
   "metadata": {},
   "outputs": [],
   "source": [
    "params = {\n",
    "    #'C': [0.1, 1, 5, 7, 10]\n",
    "    'C': [3, 4, 5, 6, 7]\n",
    "}"
   ]
  },
  {
   "cell_type": "code",
   "execution_count": 25,
   "metadata": {},
   "outputs": [
    {
     "name": "stdout",
     "output_type": "stream",
     "text": [
      "최고 평균 정확도: 0.9933\n",
      "최적 파라미터: {'C': 4}\n"
     ]
    }
   ],
   "source": [
    "grid_cv = GridSearchCV(sv_clf, param_grid=params, scoring='accuracy', cv=5)\n",
    "grid_cv.fit(X_train_scaled, y_train)\n",
    "print(f'최고 평균 정확도: {grid_cv.best_score_:.4f}')\n",
    "print('최적 파라미터:', grid_cv.best_params_)"
   ]
  },
  {
   "cell_type": "code",
   "execution_count": 26,
   "metadata": {},
   "outputs": [
    {
     "data": {
      "text/plain": [
       "0.9844444444444445"
      ]
     },
     "execution_count": 26,
     "metadata": {},
     "output_type": "execute_result"
    }
   ],
   "source": [
    "best_sv = grid_cv.best_estimator_\n",
    "pred = best_sv.predict(X_test_scaled)\n",
    "accuracy_score(y_test, pred)"
   ]
  },
  {
   "cell_type": "code",
   "execution_count": 27,
   "metadata": {},
   "outputs": [
    {
     "data": {
      "text/plain": [
       "['../static/model/digits_sv.pkl']"
      ]
     },
     "execution_count": 27,
     "metadata": {},
     "output_type": "execute_result"
    }
   ],
   "source": [
    "joblib.dump(best_sv, '../static/model/digits_sv.pkl')#모델저장"
   ]
  },
  {
   "cell_type": "markdown",
   "metadata": {},
   "source": [
    "### 훈련3. Random Forest"
   ]
  },
  {
   "cell_type": "code",
   "execution_count": 28,
   "metadata": {},
   "outputs": [
    {
     "data": {
      "text/plain": [
       "{'bootstrap': True,\n",
       " 'ccp_alpha': 0.0,\n",
       " 'class_weight': None,\n",
       " 'criterion': 'gini',\n",
       " 'max_depth': None,\n",
       " 'max_features': 'auto',\n",
       " 'max_leaf_nodes': None,\n",
       " 'max_samples': None,\n",
       " 'min_impurity_decrease': 0.0,\n",
       " 'min_impurity_split': None,\n",
       " 'min_samples_leaf': 1,\n",
       " 'min_samples_split': 2,\n",
       " 'min_weight_fraction_leaf': 0.0,\n",
       " 'n_estimators': 100,\n",
       " 'n_jobs': None,\n",
       " 'oob_score': False,\n",
       " 'random_state': None,\n",
       " 'verbose': 0,\n",
       " 'warm_start': False}"
      ]
     },
     "execution_count": 28,
     "metadata": {},
     "output_type": "execute_result"
    }
   ],
   "source": [
    "from sklearn.ensemble import RandomForestClassifier\n",
    "rf_clf = RandomForestClassifier()\n",
    "rf_clf.get_params()"
   ]
  },
  {
   "cell_type": "code",
   "execution_count": 29,
   "metadata": {},
   "outputs": [],
   "source": [
    "params = {\n",
    "    #'max_depth': [4, 6, 8, 10],\n",
    "    #'max_depth': [8, 12, 14, 16],\n",
    "    'max_depth': [14, 16, 18, 20],\n",
    "    'min_samples_split': [2, 3, 4]\n",
    "}"
   ]
  },
  {
   "cell_type": "code",
   "execution_count": 30,
   "metadata": {},
   "outputs": [
    {
     "name": "stdout",
     "output_type": "stream",
     "text": [
      "최고 평균 정확도: 0.9762\n",
      "최적 파라미터: {'max_depth': 14, 'min_samples_split': 3}\n"
     ]
    }
   ],
   "source": [
    "grid_cv = GridSearchCV(rf_clf, param_grid=params, scoring='accuracy', cv=5)\n",
    "grid_cv.fit(X_train_scaled, y_train)\n",
    "print(f'최고 평균 정확도: {grid_cv.best_score_:.4f}')\n",
    "print('최적 파라미터:', grid_cv.best_params_)"
   ]
  },
  {
   "cell_type": "code",
   "execution_count": 31,
   "metadata": {},
   "outputs": [
    {
     "data": {
      "text/plain": [
       "0.96"
      ]
     },
     "execution_count": 31,
     "metadata": {},
     "output_type": "execute_result"
    }
   ],
   "source": [
    "best_rf = grid_cv.best_estimator_\n",
    "pred = best_rf.predict(X_test_scaled)\n",
    "accuracy_score(y_test, pred)"
   ]
  },
  {
   "cell_type": "code",
   "execution_count": 32,
   "metadata": {},
   "outputs": [
    {
     "data": {
      "text/plain": [
       "['../static/model/digits_rf.pkl']"
      ]
     },
     "execution_count": 32,
     "metadata": {},
     "output_type": "execute_result"
    }
   ],
   "source": [
    "joblib.dump(best_rf, '../static/model/digits_rf.pkl') #모델저장"
   ]
  },
  {
   "cell_type": "markdown",
   "metadata": {},
   "source": [
    "### Test"
   ]
  },
  {
   "cell_type": "code",
   "execution_count": 39,
   "metadata": {},
   "outputs": [
    {
     "data": {
      "text/plain": [
       "(5, 64)"
      ]
     },
     "execution_count": 39,
     "metadata": {},
     "output_type": "execute_result"
    }
   ],
   "source": [
    "index = 101\n",
    "#구)scaled_test = scaler.fit_transform(df_test.drop(columns=['index','target'], axis=1))\n",
    "test_data = df_test.iloc[index:index+5, 1:-1].values #여러줄가져오는코드(여러줄가져온다는건 이미 2차원이기 때문에 reshape할필요가없다)\n",
    "#인덱스값으로부터:5개, 1번부터:끝y값빼고 쭈욱\n",
    "#만약한줄가져오고싶다면?!\n",
    "#test_data = df_test.iloc[index:index+5, 1:-1].values.reshape(1,-1) #한줄은 시리즈기때문에 reshape해줘야 2차원이 된다!\n",
    "test_data.shape"
   ]
  },
  {
   "cell_type": "code",
   "execution_count": 40,
   "metadata": {},
   "outputs": [
    {
     "data": {
      "text/plain": [
       "numpy.ndarray"
      ]
     },
     "execution_count": 40,
     "metadata": {},
     "output_type": "execute_result"
    }
   ],
   "source": [
    "type(test_data) \n",
    "#결과값 numpy.ndarray 2차원이라는 뜻"
   ]
  },
  {
   "cell_type": "code",
   "execution_count": 41,
   "metadata": {},
   "outputs": [
    {
     "data": {
      "text/plain": [
       "(5, 64)"
      ]
     },
     "execution_count": 41,
     "metadata": {},
     "output_type": "execute_result"
    }
   ],
   "source": [
    "#2차원이니까 무리없이 scaler돌아간다.\n",
    "test_scaled = scaler.transform(test_data)\n",
    "test_scaled.shape"
   ]
  },
  {
   "cell_type": "code",
   "execution_count": 42,
   "metadata": {},
   "outputs": [
    {
     "data": {
      "text/plain": [
       "array([8, 0, 0, 3, 1], dtype=int64)"
      ]
     },
     "execution_count": 42,
     "metadata": {},
     "output_type": "execute_result"
    }
   ],
   "source": [
    "label_list = target_index_list[index:index+5]#리스트슬라이싱\n",
    "label_list"
   ]
  },
  {
   "cell_type": "code",
   "execution_count": 43,
   "metadata": {},
   "outputs": [],
   "source": [
    "pred_lr = best_lr.predict(test_data) #LogisticRegression\n",
    "pred_sv = best_sv.predict(test_data) #svc\n",
    "pred_rf = best_rf.predict(test_data) #RandomForest"
   ]
  },
  {
   "cell_type": "code",
   "execution_count": 44,
   "metadata": {},
   "outputs": [],
   "source": [
    "index_list = img_index_list[index:index+5] #이미지인덱스에서 5개를 가져와 index_list만듦"
   ]
  },
  {
   "cell_type": "code",
   "execution_count": 45,
   "metadata": {},
   "outputs": [],
   "source": [
    "result_dict = {'index':index_list, 'label':label_list,\n",
    "               'pred_lr':pred_lr, 'pred_sv':pred_sv, 'pred_rf':pred_rf}\n",
    "#wine_model만봐도 pred_lr[0]을줘야 값이 나왔는데\n",
    "#5개의 데이터를 리스트로 갈것이기 때문에! 그럴필요가없다\n",
    "#차원맞추고 리스트만드는 중요중요\n",
    "#정신똑바로차리고 따라가기 ㅋㅋ"
   ]
  },
  {
   "cell_type": "code",
   "execution_count": 46,
   "metadata": {},
   "outputs": [
    {
     "data": {
      "text/plain": [
       "{'index': array([1781,   10,   48,  865,   93], dtype=int64),\n",
       " 'label': array([8, 0, 0, 3, 1], dtype=int64),\n",
       " 'pred_lr': array([8, 0, 0, 3, 1], dtype=int64),\n",
       " 'pred_sv': array([8, 0, 0, 3, 1], dtype=int64),\n",
       " 'pred_rf': array([1, 0, 0, 3, 1], dtype=int64)}"
      ]
     },
     "execution_count": 46,
     "metadata": {},
     "output_type": "execute_result"
    }
   ],
   "source": [
    "result_dict\n",
    "#결과값 이것이 레이블의 리스트다!!!! 중요중요\n",
    "# {'index': array([1781,   10,   48,  865,   93], dtype=int64),\n",
    "#  'label': array([8, 0, 0, 3, 1], dtype=int64),\n",
    "#  'pred_lr': array([8, 0, 0, 3, 1], dtype=int64),\n",
    "#  'pred_sv': array([8, 0, 0, 3, 1], dtype=int64),\n",
    "#  'pred_rf': array([1, 0, 0, 3, 1], dtype=int64)}\n",
    "#딕셔너리의 리스트를 만들수 있고 (NodeJS: Object의 Array)\n",
    "#리스트의 딕셔너리를 만들수 있다 (NodeJS: Array의 Object)\n",
    "#자료구조 자유자재로 만들수있어야 좋은개발자><\n",
    "#이 구조를 어떻게 가져갈것인가 생각은\n",
    "#digits_res.html을 참고해야한다. 아웃풋설계에 맞춰서\n",
    "#한줄에 레이블결과가 쭉 나오는데 어떻게해야 편할지\n",
    "# 여긴 가로: (분류기지칭하고 리스트5개나오게)=\"리스트의 딕셔너리\"로 가는게 맞다\n",
    "#세로로 나오게하려면 \"딕셔너리의 리스트\"로 가시고;ㅁ;... 이해안감 ㅠㅠ"
   ]
  },
  {
   "cell_type": "code",
   "execution_count": 47,
   "metadata": {},
   "outputs": [],
   "source": [
    "#이지미파일위드아웃익스텐션 ㅋ 걍 교수님이 지으셨다고\n",
    "img_file_wo_ext = '../static/img/digit'"
   ]
  },
  {
   "cell_type": "code",
   "execution_count": 48,
   "metadata": {},
   "outputs": [
    {
     "data": {
      "text/plain": [
       "array([1781,   10,   48,  865,   93], dtype=int64)"
      ]
     },
     "execution_count": 48,
     "metadata": {},
     "output_type": "execute_result"
    }
   ],
   "source": [
    "index_list"
   ]
  },
  {
   "cell_type": "code",
   "execution_count": 49,
   "metadata": {},
   "outputs": [
    {
     "data": {
      "image/png": "[encoded data removed]",
      "image/svg+xml": [
       "<?xml version=\"1.0\" encoding=\"utf-8\" standalone=\"no\"?>\r\n",
       "<!DOCTYPE svg PUBLIC \"-//W3C//DTD SVG 1.1//EN\"\r\n",
       "  \"http://www.w3.org/Graphics/SVG/1.1/DTD/svg11.dtd\">\r\n",
       "<!-- Created with matplotlib (https://matplotlib.org/) -->\r\n",
       "<svg height=\"126.62pt\" version=\"1.1\" viewBox=\"0 0 126.62 126.62\" width=\"126.62pt\" xmlns=\"http://www.w3.org/2000/svg\" xmlns:xlink=\"http://www.w3.org/1999/xlink\">\r\n",
       " <metadata>\r\n",
       "  <rdf:RDF xmlns:cc=\"http://creativecommons.org/ns#\" xmlns:dc=\"http://purl.org/dc/elements/1.1/\" xmlns:rdf=\"http://www.w3.org/1999/02/22-rdf-syntax-ns#\">\r\n",
       "   <cc:Work>\r\n",
       "    <dc:type rdf:resource=\"http://purl.org/dc/dcmitype/StillImage\"/>\r\n",
       "    <dc:date>2021-01-23T01:54:46.779301</dc:date>\r\n",
       "    <dc:format>image/svg+xml</dc:format>\r\n",
       "    <dc:creator>\r\n",
       "     <cc:Agent>\r\n",
       "      <dc:title>Matplotlib v3.3.2, https://matplotlib.org/</dc:title>\r\n",
       "     </cc:Agent>\r\n",
       "    </dc:creator>\r\n",
       "   </cc:Work>\r\n",
       "  </rdf:RDF>\r\n",
       " </metadata>\r\n",
       " <defs>\r\n",
       "  <style type=\"text/css\">*{stroke-linecap:butt;stroke-linejoin:round;}</style>\r\n",
       " </defs>\r\n",
       " <g id=\"figure_1\">\r\n",
       "  <g id=\"patch_1\">\r\n",
       "   <path d=\"M 0 126.62 \r\n",
       "L 126.62 126.62 \r\n",
       "L 126.62 0 \r\n",
       "L 0 0 \r\n",
       "z\r\n",
       "\" style=\"fill:none;\"/>\r\n",
       "  </g>\r\n",
       "  <g id=\"axes_1\">\r\n",
       "   <g id=\"patch_2\">\r\n",
       "    <path d=\"M 10.7 115.92 \r\n",
       "L 119.42 115.92 \r\n",
       "L 119.42 7.2 \r\n",
       "L 10.7 7.2 \r\n",
       "z\r\n",
       "\" style=\"fill:#ffffff;\"/>\r\n",
       "   </g>\r\n",
       "   <g clip-path=\"url(#pd8b79b3efa)\">\r\n",
       "    <image height=\"109\" id=\"image11066e8e72\" transform=\"scale(1 -1)translate(0 -109)\" width=\"109\" x=\"10.7\" xlink:href=\"data:image/png;base64,\r\n",
       "iVBORw0KGgoAAAANSUhEUgAAAG0AAABtCAYAAACr+O9WAAAB70lEQVR4nO3cwY2CUBRGYZzMXjtQO7ATLYESsAIsAUqwA+mADmxBK5AOmA5M+MO85CTn299czMnbPAmbeZ7nKjBN0+KZuq6TVdUwDItntttttKvrumgu/W2Jn2KbtBqjARkNyGhARgMyGpDRgIwGZDQgowEZDchoQEYD2qS3/MlteHqDfrlcFs+M4xjter1exeZ2u120y5MGZDQgowEZDchoQEYDMhqQ0YCMBmQ0IKMBGQ0ovjBOXtVOLn6rqqo+n8/imcfjEe1qmiaaS16TT3nSgIwGZDQgowEZDchoQEYDMhqQ0YCMBmQ0IKMBGQ0ovuVPHA6HUqviV67TZ0z/VUh40oCMBmQ0IKMBGQ3IaEBGAzIakNGAjAZkNCCjARkNqOgtf/rxl+v1uu6DfPF8PqO50+m07oN84UkDMhqQ0YCMBmQ0IKMBGQ3IaEBGAzIakNGAjAb0W3JZ+iXukt7vdzTnhbG+MhqQ0YCMBmQ0IKMBGQ3IaEBGAzIakNGAjAZkNKD4tfDkxv54PCarIm3bRnO3223dB/kHnjQgowEZDchoQEYDMhqQ0YCMBmQ0IKMBGQ3IaEBFvyNS13U0d7/fF8/s9/toV9/30dz5fI7mEp40IKMBGQ3IaEBGAzIakNGAjAZkNCCjARkNyGhARgP6A0BvWI0z/sryAAAAAElFTkSuQmCC\" y=\"-6.92\"/>\r\n",
       "   </g>\r\n",
       "   <g id=\"matplotlib.axis_1\"/>\r\n",
       "   <g id=\"matplotlib.axis_2\"/>\r\n",
       "   <g id=\"patch_3\">\r\n",
       "    <path d=\"M 10.7 115.92 \r\n",
       "L 10.7 7.2 \r\n",
       "\" style=\"fill:none;stroke:#000000;stroke-linecap:square;stroke-linejoin:miter;stroke-width:0.8;\"/>\r\n",
       "   </g>\r\n",
       "   <g id=\"patch_4\">\r\n",
       "    <path d=\"M 119.42 115.92 \r\n",
       "L 119.42 7.2 \r\n",
       "\" style=\"fill:none;stroke:#000000;stroke-linecap:square;stroke-linejoin:miter;stroke-width:0.8;\"/>\r\n",
       "   </g>\r\n",
       "   <g id=\"patch_5\">\r\n",
       "    <path d=\"M 10.7 115.92 \r\n",
       "L 119.42 115.92 \r\n",
       "\" style=\"fill:none;stroke:#000000;stroke-linecap:square;stroke-linejoin:miter;stroke-width:0.8;\"/>\r\n",
       "   </g>\r\n",
       "   <g id=\"patch_6\">\r\n",
       "    <path d=\"M 10.7 7.2 \r\n",
       "L 119.42 7.2 \r\n",
       "\" style=\"fill:none;stroke:#000000;stroke-linecap:square;stroke-linejoin:miter;stroke-width:0.8;\"/>\r\n",
       "   </g>\r\n",
       "  </g>\r\n",
       " </g>\r\n",
       " <defs>\r\n",
       "  <clipPath id=\"pd8b79b3efa\">\r\n",
       "   <rect height=\"108.72\" width=\"108.72\" x=\"10.7\" y=\"7.2\"/>\r\n",
       "  </clipPath>\r\n",
       " </defs>\r\n",
       "</svg>\r\n"
      ],
      "text/plain": [
       "<Figure size 144x144 with 1 Axes>"
      ]
     },
     "metadata": {},
     "output_type": "display_data"
    },
    {
     "data": {
      "image/png": "[encoded data removed]",
      "image/svg+xml": [
       "<?xml version=\"1.0\" encoding=\"utf-8\" standalone=\"no\"?>\r\n",
       "<!DOCTYPE svg PUBLIC \"-//W3C//DTD SVG 1.1//EN\"\r\n",
       "  \"http://www.w3.org/Graphics/SVG/1.1/DTD/svg11.dtd\">\r\n",
       "<!-- Created with matplotlib (https://matplotlib.org/) -->\r\n",
       "<svg height=\"126.62pt\" version=\"1.1\" viewBox=\"0 0 126.62 126.62\" width=\"126.62pt\" xmlns=\"http://www.w3.org/2000/svg\" xmlns:xlink=\"http://www.w3.org/1999/xlink\">\r\n",
       " <metadata>\r\n",
       "  <rdf:RDF xmlns:cc=\"http://creativecommons.org/ns#\" xmlns:dc=\"http://purl.org/dc/elements/1.1/\" xmlns:rdf=\"http://www.w3.org/1999/02/22-rdf-syntax-ns#\">\r\n",
       "   <cc:Work>\r\n",
       "    <dc:type rdf:resource=\"http://purl.org/dc/dcmitype/StillImage\"/>\r\n",
       "    <dc:date>2021-01-23T01:54:46.813179</dc:date>\r\n",
       "    <dc:format>image/svg+xml</dc:format>\r\n",
       "    <dc:creator>\r\n",
       "     <cc:Agent>\r\n",
       "      <dc:title>Matplotlib v3.3.2, https://matplotlib.org/</dc:title>\r\n",
       "     </cc:Agent>\r\n",
       "    </dc:creator>\r\n",
       "   </cc:Work>\r\n",
       "  </rdf:RDF>\r\n",
       " </metadata>\r\n",
       " <defs>\r\n",
       "  <style type=\"text/css\">*{stroke-linecap:butt;stroke-linejoin:round;}</style>\r\n",
       " </defs>\r\n",
       " <g id=\"figure_1\">\r\n",
       "  <g id=\"patch_1\">\r\n",
       "   <path d=\"M 0 126.62 \r\n",
       "L 126.62 126.62 \r\n",
       "L 126.62 0 \r\n",
       "L 0 0 \r\n",
       "z\r\n",
       "\" style=\"fill:none;\"/>\r\n",
       "  </g>\r\n",
       "  <g id=\"axes_1\">\r\n",
       "   <g id=\"patch_2\">\r\n",
       "    <path d=\"M 10.7 115.92 \r\n",
       "L 119.42 115.92 \r\n",
       "L 119.42 7.2 \r\n",
       "L 10.7 7.2 \r\n",
       "z\r\n",
       "\" style=\"fill:#ffffff;\"/>\r\n",
       "   </g>\r\n",
       "   <g clip-path=\"url(#p8c58c2ccdc)\">\r\n",
       "    <image height=\"109\" id=\"image538cbdf8ae\" transform=\"scale(1 -1)translate(0 -109)\" width=\"109\" x=\"10.7\" xlink:href=\"data:image/png;base64,\r\n",
       "iVBORw0KGgoAAAANSUhEUgAAAG0AAABtCAYAAACr+O9WAAAB10lEQVR4nO3dQY2EMBxG8bLZO0hAAg4GB1hAAhKQMjjAAg5GCg665z3yZdPkZd/v/k8zeemlNJ2u1lpLI/d9R3Pbtj2e+Xw+0Vrv9zuam6Ypmkt8NVtJf8ZoQEYDMhqQ0YCMBmQ0IKMBGQ3IaEBGAzIakNGAupan/PM8t1qqjOPYbK1S8q8DCXcakNGAjAZkNCCjARkNyGhARgMyGpDRgIwGZDSg73QwueJ9XVe01nmej2der1e01rqu0VxyDT29Su5OAzIakNGAjAZkNCCjARkNyGhARgMyGpDRgIwGZDSg+JQ/fVwl0ff945lhGKK10pP35EuEp/z/iNGAjAZkNCCjARkNyGhARgMyGpDRgIwGZDQgowHFp/wtnzTXb+40IKMBGQ3IaEBGAzIakNGAjAZkNCCjARkNyGhATR9/SSUvcacvk7f8XSl3GpDRgIwGZDQgowEZDchoQEYDMhqQ0YCMBmQ0IKMBxaf8yX9uLssSrXUcx+OZ9D9Bk0dcSill3/doLuFOAzIakNGAjAZkNCCjARkNyGhARgMyGpDRgIwG1NVaa6vF0ivXyWFscpW8lPw6eXrQnHCnARkNyGhARgMyGpDRgIwGZDQgowEZDchoQEYDMhrQDx40Q8NZAea6AAAAAElFTkSuQmCC\" y=\"-6.92\"/>\r\n",
       "   </g>\r\n",
       "   <g id=\"matplotlib.axis_1\"/>\r\n",
       "   <g id=\"matplotlib.axis_2\"/>\r\n",
       "   <g id=\"patch_3\">\r\n",
       "    <path d=\"M 10.7 115.92 \r\n",
       "L 10.7 7.2 \r\n",
       "\" style=\"fill:none;stroke:#000000;stroke-linecap:square;stroke-linejoin:miter;stroke-width:0.8;\"/>\r\n",
       "   </g>\r\n",
       "   <g id=\"patch_4\">\r\n",
       "    <path d=\"M 119.42 115.92 \r\n",
       "L 119.42 7.2 \r\n",
       "\" style=\"fill:none;stroke:#000000;stroke-linecap:square;stroke-linejoin:miter;stroke-width:0.8;\"/>\r\n",
       "   </g>\r\n",
       "   <g id=\"patch_5\">\r\n",
       "    <path d=\"M 10.7 115.92 \r\n",
       "L 119.42 115.92 \r\n",
       "\" style=\"fill:none;stroke:#000000;stroke-linecap:square;stroke-linejoin:miter;stroke-width:0.8;\"/>\r\n",
       "   </g>\r\n",
       "   <g id=\"patch_6\">\r\n",
       "    <path d=\"M 10.7 7.2 \r\n",
       "L 119.42 7.2 \r\n",
       "\" style=\"fill:none;stroke:#000000;stroke-linecap:square;stroke-linejoin:miter;stroke-width:0.8;\"/>\r\n",
       "   </g>\r\n",
       "  </g>\r\n",
       " </g>\r\n",
       " <defs>\r\n",
       "  <clipPath id=\"p8c58c2ccdc\">\r\n",
       "   <rect height=\"108.72\" width=\"108.72\" x=\"10.7\" y=\"7.2\"/>\r\n",
       "  </clipPath>\r\n",
       " </defs>\r\n",
       "</svg>\r\n"
      ],
      "text/plain": [
       "<Figure size 144x144 with 1 Axes>"
      ]
     },
     "metadata": {},
     "output_type": "display_data"
    },
    {
     "data": {
      "image/png": "[encoded data removed]",
      "image/svg+xml": [
       "<?xml version=\"1.0\" encoding=\"utf-8\" standalone=\"no\"?>\r\n",
       "<!DOCTYPE svg PUBLIC \"-//W3C//DTD SVG 1.1//EN\"\r\n",
       "  \"http://www.w3.org/Graphics/SVG/1.1/DTD/svg11.dtd\">\r\n",
       "<!-- Created with matplotlib (https://matplotlib.org/) -->\r\n",
       "<svg height=\"126.62pt\" version=\"1.1\" viewBox=\"0 0 126.62 126.62\" width=\"126.62pt\" xmlns=\"http://www.w3.org/2000/svg\" xmlns:xlink=\"http://www.w3.org/1999/xlink\">\r\n",
       " <metadata>\r\n",
       "  <rdf:RDF xmlns:cc=\"http://creativecommons.org/ns#\" xmlns:dc=\"http://purl.org/dc/elements/1.1/\" xmlns:rdf=\"http://www.w3.org/1999/02/22-rdf-syntax-ns#\">\r\n",
       "   <cc:Work>\r\n",
       "    <dc:type rdf:resource=\"http://purl.org/dc/dcmitype/StillImage\"/>\r\n",
       "    <dc:date>2021-01-23T01:54:46.851588</dc:date>\r\n",
       "    <dc:format>image/svg+xml</dc:format>\r\n",
       "    <dc:creator>\r\n",
       "     <cc:Agent>\r\n",
       "      <dc:title>Matplotlib v3.3.2, https://matplotlib.org/</dc:title>\r\n",
       "     </cc:Agent>\r\n",
       "    </dc:creator>\r\n",
       "   </cc:Work>\r\n",
       "  </rdf:RDF>\r\n",
       " </metadata>\r\n",
       " <defs>\r\n",
       "  <style type=\"text/css\">*{stroke-linecap:butt;stroke-linejoin:round;}</style>\r\n",
       " </defs>\r\n",
       " <g id=\"figure_1\">\r\n",
       "  <g id=\"patch_1\">\r\n",
       "   <path d=\"M 0 126.62 \r\n",
       "L 126.62 126.62 \r\n",
       "L 126.62 0 \r\n",
       "L 0 0 \r\n",
       "z\r\n",
       "\" style=\"fill:none;\"/>\r\n",
       "  </g>\r\n",
       "  <g id=\"axes_1\">\r\n",
       "   <g id=\"patch_2\">\r\n",
       "    <path d=\"M 10.7 115.92 \r\n",
       "L 119.42 115.92 \r\n",
       "L 119.42 7.2 \r\n",
       "L 10.7 7.2 \r\n",
       "z\r\n",
       "\" style=\"fill:#ffffff;\"/>\r\n",
       "   </g>\r\n",
       "   <g clip-path=\"url(#p16ec07be69)\">\r\n",
       "    <image height=\"109\" id=\"image50eb22731d\" transform=\"scale(1 -1)translate(0 -109)\" width=\"109\" x=\"10.7\" xlink:href=\"data:image/png;base64,\r\n",
       "iVBORw0KGgoAAAANSUhEUgAAAG0AAABtCAYAAACr+O9WAAAB6ElEQVR4nO3dUY2EMBhF4c5mBCABCUjAAUhAyowDcIAEJCABCSNhHLAONunNpslJzvf+pw8nfSlNedz3fZdGzvOM5l6vV/XMdV3RWuu6RnPLskRziZ9mK+nfGA3IaEBGAzIakNGAjAZkNCCjARkNyGhARgMyGtCj5Sl/3/fR3DAM1TPzPEdrJV8USill27bqmWmaorXcaUBGAzIakNGAjAZkNCCjARkNyGhARgMyGpDRgJ7pYHLt+vv9Rmvt+14903VdtFZyOF1KfuU94U4DMhqQ0YCMBmQ0IKMBGQ3IaEBGAzIakNGAjAZkNKD4lP84juqZ9OT98/lUz6Sn9emXiHQu4U4DMhqQ0YCMBmQ0IKMBGQ3IaEBGAzIakNGAjAZkNKD4lH8cx+qZ9/sdrZV8UUhP+dMvES2504CMBmQ0IKMBGQ3IaEBGAzIakNGAjAZkNCCjAcUHxi0PVtNXxhPpP0GTB2pS7jQgowEZDchoQEYDMhqQ0YCMBmQ0IKMBGQ3IaEBGA2r6T9BlWaK55Fp4cm29lPypdh9/0Z+MBmQ0IKMBGQ3IaEBGAzIakNGAjAZkNCCjATU9ME5e/S4lexMkvUqeXu9O3y1JuNOAjAZkNCCjARkNyGhARgMyGpDRgIwGZDQgowEZDegX471NMk5f1eoAAAAASUVORK5CYII=\" y=\"-6.92\"/>\r\n",
       "   </g>\r\n",
       "   <g id=\"matplotlib.axis_1\"/>\r\n",
       "   <g id=\"matplotlib.axis_2\"/>\r\n",
       "   <g id=\"patch_3\">\r\n",
       "    <path d=\"M 10.7 115.92 \r\n",
       "L 10.7 7.2 \r\n",
       "\" style=\"fill:none;stroke:#000000;stroke-linecap:square;stroke-linejoin:miter;stroke-width:0.8;\"/>\r\n",
       "   </g>\r\n",
       "   <g id=\"patch_4\">\r\n",
       "    <path d=\"M 119.42 115.92 \r\n",
       "L 119.42 7.2 \r\n",
       "\" style=\"fill:none;stroke:#000000;stroke-linecap:square;stroke-linejoin:miter;stroke-width:0.8;\"/>\r\n",
       "   </g>\r\n",
       "   <g id=\"patch_5\">\r\n",
       "    <path d=\"M 10.7 115.92 \r\n",
       "L 119.42 115.92 \r\n",
       "\" style=\"fill:none;stroke:#000000;stroke-linecap:square;stroke-linejoin:miter;stroke-width:0.8;\"/>\r\n",
       "   </g>\r\n",
       "   <g id=\"patch_6\">\r\n",
       "    <path d=\"M 10.7 7.2 \r\n",
       "L 119.42 7.2 \r\n",
       "\" style=\"fill:none;stroke:#000000;stroke-linecap:square;stroke-linejoin:miter;stroke-width:0.8;\"/>\r\n",
       "   </g>\r\n",
       "  </g>\r\n",
       " </g>\r\n",
       " <defs>\r\n",
       "  <clipPath id=\"p16ec07be69\">\r\n",
       "   <rect height=\"108.72\" width=\"108.72\" x=\"10.7\" y=\"7.2\"/>\r\n",
       "  </clipPath>\r\n",
       " </defs>\r\n",
       "</svg>\r\n"
      ],
      "text/plain": [
       "<Figure size 144x144 with 1 Axes>"
      ]
     },
     "metadata": {},
     "output_type": "display_data"
    },
    {
     "data": {
      "image/png": "[encoded data removed]",
      "image/svg+xml": [
       "<?xml version=\"1.0\" encoding=\"utf-8\" standalone=\"no\"?>\r\n",
       "<!DOCTYPE svg PUBLIC \"-//W3C//DTD SVG 1.1//EN\"\r\n",
       "  \"http://www.w3.org/Graphics/SVG/1.1/DTD/svg11.dtd\">\r\n",
       "<!-- Created with matplotlib (https://matplotlib.org/) -->\r\n",
       "<svg height=\"126.62pt\" version=\"1.1\" viewBox=\"0 0 126.62 126.62\" width=\"126.62pt\" xmlns=\"http://www.w3.org/2000/svg\" xmlns:xlink=\"http://www.w3.org/1999/xlink\">\r\n",
       " <metadata>\r\n",
       "  <rdf:RDF xmlns:cc=\"http://creativecommons.org/ns#\" xmlns:dc=\"http://purl.org/dc/elements/1.1/\" xmlns:rdf=\"http://www.w3.org/1999/02/22-rdf-syntax-ns#\">\r\n",
       "   <cc:Work>\r\n",
       "    <dc:type rdf:resource=\"http://purl.org/dc/dcmitype/StillImage\"/>\r\n",
       "    <dc:date>2021-01-23T01:54:46.892395</dc:date>\r\n",
       "    <dc:format>image/svg+xml</dc:format>\r\n",
       "    <dc:creator>\r\n",
       "     <cc:Agent>\r\n",
       "      <dc:title>Matplotlib v3.3.2, https://matplotlib.org/</dc:title>\r\n",
       "     </cc:Agent>\r\n",
       "    </dc:creator>\r\n",
       "   </cc:Work>\r\n",
       "  </rdf:RDF>\r\n",
       " </metadata>\r\n",
       " <defs>\r\n",
       "  <style type=\"text/css\">*{stroke-linecap:butt;stroke-linejoin:round;}</style>\r\n",
       " </defs>\r\n",
       " <g id=\"figure_1\">\r\n",
       "  <g id=\"patch_1\">\r\n",
       "   <path d=\"M 0 126.62 \r\n",
       "L 126.62 126.62 \r\n",
       "L 126.62 0 \r\n",
       "L 0 0 \r\n",
       "z\r\n",
       "\" style=\"fill:none;\"/>\r\n",
       "  </g>\r\n",
       "  <g id=\"axes_1\">\r\n",
       "   <g id=\"patch_2\">\r\n",
       "    <path d=\"M 10.7 115.92 \r\n",
       "L 119.42 115.92 \r\n",
       "L 119.42 7.2 \r\n",
       "L 10.7 7.2 \r\n",
       "z\r\n",
       "\" style=\"fill:#ffffff;\"/>\r\n",
       "   </g>\r\n",
       "   <g clip-path=\"url(#p809edb6a25)\">\r\n",
       "    <image height=\"109\" id=\"image1a70b53cea\" transform=\"scale(1 -1)translate(0 -109)\" width=\"109\" x=\"10.7\" xlink:href=\"data:image/png;base64,\r\n",
       "iVBORw0KGgoAAAANSUhEUgAAAG0AAABtCAYAAACr+O9WAAAB4klEQVR4nO3cUY2DQBhF4elmBVQCEsABDioBCZVA6wAJrRIkgIRKwAHroNm5adg9yfne/wzJybxMp3Pa930vgXVdq2emaUqWKs/nM5pLjOMYzd1ut89+yBtfh62kjzEakNGAjAZkNCCjARkNyGhARgMyGpDRgIwGZDSgU3rKv21b9czr9UqWKk3TVM+kvyjc7/dobp7n6pm+76O13GlARgMyGpDRgIwGZDQgowEZDchoQEYDMhqQ0YDiA+P/Lrm2XkopXddFcx4Y6y2jARkNyGhARgMyGpDRgIwGZDQgowEZDchoQEYD+v7rD/iN5Ip3ei18GIZoLj2xT7jTgIwGZDQgowEZDchoQEYDMhqQ0YCMBmQ0IKMBGQ3o0Lv8yYMxpZTStm31zPl8jtZK/wNwJHcakNGAjAZkNCCjARkNyGhARgMyGpDRgIwGZDQgxOMvySFu+ojLsizRXHKonXKnARkNyGhARgMyGpDRgIwGZDQgowEZDchoQEYDMhpQ/PjLkSfv4zhGc4n06vqR3GlARgMyGpDRgIwGZDQgowEZDchoQEYDMhqQ0YDiA+OmaapnLpdLtNbj8aieuV6v0VpHXu9OudOAjAZkNCCjARkNyGhARgMyGpDRgIwGZDQgowEZDegHbnlNX/WEwQMAAAAASUVORK5CYII=\" y=\"-6.92\"/>\r\n",
       "   </g>\r\n",
       "   <g id=\"matplotlib.axis_1\"/>\r\n",
       "   <g id=\"matplotlib.axis_2\"/>\r\n",
       "   <g id=\"patch_3\">\r\n",
       "    <path d=\"M 10.7 115.92 \r\n",
       "L 10.7 7.2 \r\n",
       "\" style=\"fill:none;stroke:#000000;stroke-linecap:square;stroke-linejoin:miter;stroke-width:0.8;\"/>\r\n",
       "   </g>\r\n",
       "   <g id=\"patch_4\">\r\n",
       "    <path d=\"M 119.42 115.92 \r\n",
       "L 119.42 7.2 \r\n",
       "\" style=\"fill:none;stroke:#000000;stroke-linecap:square;stroke-linejoin:miter;stroke-width:0.8;\"/>\r\n",
       "   </g>\r\n",
       "   <g id=\"patch_5\">\r\n",
       "    <path d=\"M 10.7 115.92 \r\n",
       "L 119.42 115.92 \r\n",
       "\" style=\"fill:none;stroke:#000000;stroke-linecap:square;stroke-linejoin:miter;stroke-width:0.8;\"/>\r\n",
       "   </g>\r\n",
       "   <g id=\"patch_6\">\r\n",
       "    <path d=\"M 10.7 7.2 \r\n",
       "L 119.42 7.2 \r\n",
       "\" style=\"fill:none;stroke:#000000;stroke-linecap:square;stroke-linejoin:miter;stroke-width:0.8;\"/>\r\n",
       "   </g>\r\n",
       "  </g>\r\n",
       " </g>\r\n",
       " <defs>\r\n",
       "  <clipPath id=\"p809edb6a25\">\r\n",
       "   <rect height=\"108.72\" width=\"108.72\" x=\"10.7\" y=\"7.2\"/>\r\n",
       "  </clipPath>\r\n",
       " </defs>\r\n",
       "</svg>\r\n"
      ],
      "text/plain": [
       "<Figure size 144x144 with 1 Axes>"
      ]
     },
     "metadata": {},
     "output_type": "display_data"
    },
    {
     "data": {
      "image/png": "[encoded data removed]",
      "image/svg+xml": [
       "<?xml version=\"1.0\" encoding=\"utf-8\" standalone=\"no\"?>\r\n",
       "<!DOCTYPE svg PUBLIC \"-//W3C//DTD SVG 1.1//EN\"\r\n",
       "  \"http://www.w3.org/Graphics/SVG/1.1/DTD/svg11.dtd\">\r\n",
       "<!-- Created with matplotlib (https://matplotlib.org/) -->\r\n",
       "<svg height=\"126.62pt\" version=\"1.1\" viewBox=\"0 0 126.62 126.62\" width=\"126.62pt\" xmlns=\"http://www.w3.org/2000/svg\" xmlns:xlink=\"http://www.w3.org/1999/xlink\">\r\n",
       " <metadata>\r\n",
       "  <rdf:RDF xmlns:cc=\"http://creativecommons.org/ns#\" xmlns:dc=\"http://purl.org/dc/elements/1.1/\" xmlns:rdf=\"http://www.w3.org/1999/02/22-rdf-syntax-ns#\">\r\n",
       "   <cc:Work>\r\n",
       "    <dc:type rdf:resource=\"http://purl.org/dc/dcmitype/StillImage\"/>\r\n",
       "    <dc:date>2021-01-23T01:54:46.928283</dc:date>\r\n",
       "    <dc:format>image/svg+xml</dc:format>\r\n",
       "    <dc:creator>\r\n",
       "     <cc:Agent>\r\n",
       "      <dc:title>Matplotlib v3.3.2, https://matplotlib.org/</dc:title>\r\n",
       "     </cc:Agent>\r\n",
       "    </dc:creator>\r\n",
       "   </cc:Work>\r\n",
       "  </rdf:RDF>\r\n",
       " </metadata>\r\n",
       " <defs>\r\n",
       "  <style type=\"text/css\">*{stroke-linecap:butt;stroke-linejoin:round;}</style>\r\n",
       " </defs>\r\n",
       " <g id=\"figure_1\">\r\n",
       "  <g id=\"patch_1\">\r\n",
       "   <path d=\"M 0 126.62 \r\n",
       "L 126.62 126.62 \r\n",
       "L 126.62 0 \r\n",
       "L 0 0 \r\n",
       "z\r\n",
       "\" style=\"fill:none;\"/>\r\n",
       "  </g>\r\n",
       "  <g id=\"axes_1\">\r\n",
       "   <g id=\"patch_2\">\r\n",
       "    <path d=\"M 10.7 115.92 \r\n",
       "L 119.42 115.92 \r\n",
       "L 119.42 7.2 \r\n",
       "L 10.7 7.2 \r\n",
       "z\r\n",
       "\" style=\"fill:#ffffff;\"/>\r\n",
       "   </g>\r\n",
       "   <g clip-path=\"url(#p3e263bff52)\">\r\n",
       "    <image height=\"109\" id=\"imagef54ac3006d\" transform=\"scale(1 -1)translate(0 -109)\" width=\"109\" x=\"10.7\" xlink:href=\"data:image/png;base64,\r\n",
       "iVBORw0KGgoAAAANSUhEUgAAAG0AAABtCAYAAACr+O9WAAABpklEQVR4nO3dwWlCQRRA0SSkIEvQSrQTtRKxA+3ADrQFO7ADs80qyR/CTw7cs3/MwOVtRvi+Pp/P58s/t9vtJs/s9/uhs7bb7dDcyB1Hvc12Un5N0UBFAxUNVDRQ0UBFAxUNVDRQ0UBFAxUNVDTQ+19f4Cdut9tsZ202m9nOGtWmgYoGKhqoaKCigYoGKhqoaKCigYoGKhqoaKAejEFtGqhooKKBigYqGqhooKKBigYqGqhooKKBigYqGmj4lf98Pk+euV6vo8flkzYNVDRQ0UBFAxUNVDRQ0UBFAxUNVDRQ0UBFAxUNNPzKfzgcJs+M/DIwt8fj8ddX+FabBioaqGigooGKBioaqGigooGKBioaqGigooGGH4xPp9PkmcvlMnTWarUamhtxv9+H5haLxe9e5AttGqhooKKBigYqGqhooKKBigYqGqhooKKBigYqGmjWT7wvl8uhufV6PXnmeDwOnSVo00BFAxUNVDRQ0UBFAxUNVDRQ0UBFAxUNVDQQ8Z+gwrc95tSmgYoGKhqoaKCigYoGKhqoaKCigYoGKhqoaKCigT4AfHgq+tmBpKEAAAAASUVORK5CYII=\" y=\"-6.92\"/>\r\n",
       "   </g>\r\n",
       "   <g id=\"matplotlib.axis_1\"/>\r\n",
       "   <g id=\"matplotlib.axis_2\"/>\r\n",
       "   <g id=\"patch_3\">\r\n",
       "    <path d=\"M 10.7 115.92 \r\n",
       "L 10.7 7.2 \r\n",
       "\" style=\"fill:none;stroke:#000000;stroke-linecap:square;stroke-linejoin:miter;stroke-width:0.8;\"/>\r\n",
       "   </g>\r\n",
       "   <g id=\"patch_4\">\r\n",
       "    <path d=\"M 119.42 115.92 \r\n",
       "L 119.42 7.2 \r\n",
       "\" style=\"fill:none;stroke:#000000;stroke-linecap:square;stroke-linejoin:miter;stroke-width:0.8;\"/>\r\n",
       "   </g>\r\n",
       "   <g id=\"patch_5\">\r\n",
       "    <path d=\"M 10.7 115.92 \r\n",
       "L 119.42 115.92 \r\n",
       "\" style=\"fill:none;stroke:#000000;stroke-linecap:square;stroke-linejoin:miter;stroke-width:0.8;\"/>\r\n",
       "   </g>\r\n",
       "   <g id=\"patch_6\">\r\n",
       "    <path d=\"M 10.7 7.2 \r\n",
       "L 119.42 7.2 \r\n",
       "\" style=\"fill:none;stroke:#000000;stroke-linecap:square;stroke-linejoin:miter;stroke-width:0.8;\"/>\r\n",
       "   </g>\r\n",
       "  </g>\r\n",
       " </g>\r\n",
       " <defs>\r\n",
       "  <clipPath id=\"p3e263bff52\">\r\n",
       "   <rect height=\"108.72\" width=\"108.72\" x=\"10.7\" y=\"7.2\"/>\r\n",
       "  </clipPath>\r\n",
       " </defs>\r\n",
       "</svg>\r\n"
      ],
      "text/plain": [
       "<Figure size 144x144 with 1 Axes>"
      ]
     },
     "metadata": {},
     "output_type": "display_data"
    }
   ],
   "source": [
    "for k, i in enumerate(index_list):\n",
    "    plt.figure(figsize=(2,2))\n",
    "    plt.xticks([]); plt.yticks([]) #눈금없애고\n",
    "    img_file = img_file_wo_ext + str(k+1) + '.png' #enumerate의 k값 0 1 2 3 4인데 jinja의 루프가 1부터 돌아가니까 +1해준거임^^\n",
    "    plt.imshow(digits.images[i], cmap=plt.cm.binary, interpolation='nearest')#index_list의 값이 i에 들어간다\n",
    "    plt.savefig(img_file)"
   ]
  },
  {
   "cell_type": "code",
   "execution_count": null,
   "metadata": {},
   "outputs": [],
   "source": []
  }
 ],
 "metadata": {
  "kernelspec": {
   "display_name": "Python 3",
   "language": "python",
   "name": "python3"
  },
  "language_info": {
   "codemirror_mode": {
    "name": "ipython",
    "version": 3
   },
   "file_extension": ".py",
   "mimetype": "text/x-python",
   "name": "python",
   "nbconvert_exporter": "python",
   "pygments_lexer": "ipython3",
   "version": "3.8.5"
  }
 },
 "nbformat": 4,
 "nbformat_minor": 2
}
