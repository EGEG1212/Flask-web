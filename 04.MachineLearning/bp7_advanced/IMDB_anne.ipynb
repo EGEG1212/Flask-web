{
 "metadata": {
  "language_info": {
   "codemirror_mode": {
    "name": "ipython",
    "version": 3
   },
   "file_extension": ".py",
   "mimetype": "text/x-python",
   "name": "python",
   "nbconvert_exporter": "python",
   "pygments_lexer": "ipython3",
   "version": "3.8.5-final"
  },
  "orig_nbformat": 2,
  "kernelspec": {
   "name": "python3",
   "display_name": "Python 3",
   "language": "python"
  }
 },
 "nbformat": 4,
 "nbformat_minor": 2,
 "cells": [
  {
   "cell_type": "code",
   "execution_count": 12,
   "metadata": {},
   "outputs": [],
   "source": [
    "# 진짜진짜 나혼자 도전이다 ㅋ.ㅋ 망할지라도 ㅋㅋㅋ\n",
    "import numpy as np\n",
    "import pandas as pd"
   ]
  },
  {
   "cell_type": "code",
   "execution_count": 13,
   "metadata": {},
   "outputs": [
    {
     "output_type": "execute_result",
     "data": {
      "text/plain": [
       "         id  sentiment                                             review\n",
       "0  \"5814_8\"          1  \"With all this stuff going down at the moment ...\n",
       "1  \"2381_9\"          1  \"\\\"The Classic War of the Worlds\\\" by Timothy ...\n",
       "2  \"7759_3\"          0  \"The film starts with a manager (Nicholas Bell..."
      ],
      "text/html": "<div>\n<style scoped>\n    .dataframe tbody tr th:only-of-type {\n        vertical-align: middle;\n    }\n\n    .dataframe tbody tr th {\n        vertical-align: top;\n    }\n\n    .dataframe thead th {\n        text-align: right;\n    }\n</style>\n<table border=\"1\" class=\"dataframe\">\n  <thead>\n    <tr style=\"text-align: right;\">\n      <th></th>\n      <th>id</th>\n      <th>sentiment</th>\n      <th>review</th>\n    </tr>\n  </thead>\n  <tbody>\n    <tr>\n      <th>0</th>\n      <td>\"5814_8\"</td>\n      <td>1</td>\n      <td>\"With all this stuff going down at the moment ...</td>\n    </tr>\n    <tr>\n      <th>1</th>\n      <td>\"2381_9\"</td>\n      <td>1</td>\n      <td>\"\\\"The Classic War of the Worlds\\\" by Timothy ...</td>\n    </tr>\n    <tr>\n      <th>2</th>\n      <td>\"7759_3\"</td>\n      <td>0</td>\n      <td>\"The film starts with a manager (Nicholas Bell...</td>\n    </tr>\n  </tbody>\n</table>\n</div>"
     },
     "metadata": {},
     "execution_count": 13
    }
   ],
   "source": [
    "df = pd.read_csv('../static/data/IMDB/labeledTrainData.tsv', header=0, sep='\\t', quoting=3)\n",
    "df.head(3)"
   ]
  },
  {
   "cell_type": "code",
   "execution_count": 14,
   "metadata": {},
   "outputs": [
    {
     "output_type": "stream",
     "name": "stdout",
     "text": [
      "<class 'pandas.core.frame.DataFrame'>\nRangeIndex: 25000 entries, 0 to 24999\nData columns (total 3 columns):\n #   Column     Non-Null Count  Dtype \n---  ------     --------------  ----- \n 0   id         25000 non-null  object\n 1   sentiment  25000 non-null  int64 \n 2   review     25000 non-null  object\ndtypes: int64(1), object(2)\nmemory usage: 586.1+ KB\n"
     ]
    }
   ],
   "source": [
    "df.info()"
   ]
  },
  {
   "cell_type": "code",
   "execution_count": 15,
   "metadata": {},
   "outputs": [
    {
     "output_type": "execute_result",
     "data": {
      "text/plain": [
       "'\"With all this stuff going down at the moment with MJ i\\'ve started listening to his music, watching the odd documentary here and there, watched The Wiz and watched Moonwalker again. Maybe i just want to get a certain insight into this guy who i thought was really cool in the eighties just to maybe make up my mind whether he is guilty or innocent. Moonwalker is part biography, part feature film which i remember going to see at the cinema when it was originally released. Some of it has subtle messages about MJ\\'s feeling towards the press and also the obvious message of drugs are bad m\\'kay.<br /><br />Visually impressive but of course this is all about Michael Jackson so unless you remotely like MJ in anyway then you are going to hate this and find it boring. Some may call MJ an egotist for consenting to the making of this movie BUT MJ and most of his fans would say that he made it for the fans which if true is really nice of him.<br /><br />The actual feature film bit when it finally sta'"
      ]
     },
     "metadata": {},
     "execution_count": 15
    }
   ],
   "source": [
    "df.review[0][:1000] #첫번째글. 1000번캐릭터까지확인\n",
    "#<br /><br /> 태그가 있다"
   ]
  },
  {
   "cell_type": "code",
   "execution_count": 16,
   "metadata": {},
   "outputs": [],
   "source": [
    "# <br />태그는 공백으로 변환\n",
    "df['review'] = df.review.str.replace('<br />', ' ')"
   ]
  },
  {
   "cell_type": "code",
   "execution_count": 17,
   "metadata": {},
   "outputs": [],
   "source": [
    "# 영어 이외의 문자는 공백으로 변환(제거)\n",
    "import re\n",
    "\n",
    "df['review'] = df.review.apply(lambda x: re.sub('[^a-zA-Z]', ' ', x)) # X에 대해서 [^a-zA-Z]아닌놈^들은 공백으로 바꿔라"
   ]
  },
  {
   "cell_type": "code",
   "execution_count": 18,
   "metadata": {},
   "outputs": [
    {
     "output_type": "execute_result",
     "data": {
      "text/plain": [
       "((17500, 1), (7500, 1))"
      ]
     },
     "metadata": {},
     "execution_count": 18
    }
   ],
   "source": [
    "from sklearn.model_selection import train_test_split\n",
    "\n",
    "feature_df = df.drop(['id', 'sentiment'], axis=1, inplace=False)\n",
    "X_train, X_test, y_train, y_test = train_test_split(\n",
    "    feature_df, df.sentiment, test_size=0.3, random_state=156 #feature_df데이터프레임을 줬더니, 아래서 컬럼지점해줘야하더라.. /y값 시리즈 df.sentiment 로 줌\n",
    ")\n",
    "X_train.shape, X_test.shape"
   ]
  },
  {
   "cell_type": "code",
   "execution_count": 19,
   "metadata": {},
   "outputs": [
    {
     "output_type": "execute_result",
     "data": {
      "text/plain": [
       "                                                  review\n",
       "3724    This version moved a little slow for my taste...\n",
       "23599   I really enjoyed this film because I have a t...\n",
       "11331   Saw this in the theater in     and fell out o...\n",
       "15745   Recently I was looking for the newly issued W...\n",
       "845     Escaping the life of being pimped by her fath..."
      ],
      "text/html": "<div>\n<style scoped>\n    .dataframe tbody tr th:only-of-type {\n        vertical-align: middle;\n    }\n\n    .dataframe tbody tr th {\n        vertical-align: top;\n    }\n\n    .dataframe thead th {\n        text-align: right;\n    }\n</style>\n<table border=\"1\" class=\"dataframe\">\n  <thead>\n    <tr style=\"text-align: right;\">\n      <th></th>\n      <th>review</th>\n    </tr>\n  </thead>\n  <tbody>\n    <tr>\n      <th>3724</th>\n      <td>This version moved a little slow for my taste...</td>\n    </tr>\n    <tr>\n      <th>23599</th>\n      <td>I really enjoyed this film because I have a t...</td>\n    </tr>\n    <tr>\n      <th>11331</th>\n      <td>Saw this in the theater in     and fell out o...</td>\n    </tr>\n    <tr>\n      <th>15745</th>\n      <td>Recently I was looking for the newly issued W...</td>\n    </tr>\n    <tr>\n      <th>845</th>\n      <td>Escaping the life of being pimped by her fath...</td>\n    </tr>\n  </tbody>\n</table>\n</div>"
     },
     "metadata": {},
     "execution_count": 19
    }
   ],
   "source": [
    "X_train.head()"
   ]
  },
  {
   "cell_type": "code",
   "execution_count": 20,
   "metadata": {},
   "outputs": [
    {
     "output_type": "execute_result",
     "data": {
      "text/plain": [
       "3724     0\n",
       "23599    1\n",
       "11331    1\n",
       "15745    1\n",
       "845      1\n",
       "Name: sentiment, dtype: int64"
      ]
     },
     "metadata": {},
     "execution_count": 20
    }
   ],
   "source": [
    "y_train.head()"
   ]
  },
  {
   "cell_type": "code",
   "execution_count": 42,
   "metadata": {},
   "outputs": [],
   "source": [
    "df_test =pd.DataFrame(data=X_test, columns=X_test.columns)\n",
    "df_test['target'] = y_test"
   ]
  },
  {
   "cell_type": "code",
   "execution_count": 43,
   "metadata": {},
   "outputs": [
    {
     "output_type": "execute_result",
     "data": {
      "text/plain": [
       "                                                  review  target\n",
       "1692    My girlfriend and I were stunned by how bad t...       0\n",
       "13392   What do you expect when there is no script to...       0\n",
       "21063   This is a German film from      that is somet...       0\n",
       "10335   Richard Tyler is a little boy who is scared o...       0\n",
       "16847   I run a group to stop comedian exploitation a...       0\n",
       "...                                                  ...     ...\n",
       "14848   If you like to comment on films where the scr...       0\n",
       "8450    First  let me say that Notorious is an absolu...       1\n",
       "8221    Realistic movie sure except for the fact that...       0\n",
       "10638   I will spend a few days dedicated to Ron Howa...       0\n",
       "20673   Jerry spies Tom listening to a creepy story o...       0\n",
       "\n",
       "[7500 rows x 2 columns]"
      ],
      "text/html": "<div>\n<style scoped>\n    .dataframe tbody tr th:only-of-type {\n        vertical-align: middle;\n    }\n\n    .dataframe tbody tr th {\n        vertical-align: top;\n    }\n\n    .dataframe thead th {\n        text-align: right;\n    }\n</style>\n<table border=\"1\" class=\"dataframe\">\n  <thead>\n    <tr style=\"text-align: right;\">\n      <th></th>\n      <th>review</th>\n      <th>target</th>\n    </tr>\n  </thead>\n  <tbody>\n    <tr>\n      <th>1692</th>\n      <td>My girlfriend and I were stunned by how bad t...</td>\n      <td>0</td>\n    </tr>\n    <tr>\n      <th>13392</th>\n      <td>What do you expect when there is no script to...</td>\n      <td>0</td>\n    </tr>\n    <tr>\n      <th>21063</th>\n      <td>This is a German film from      that is somet...</td>\n      <td>0</td>\n    </tr>\n    <tr>\n      <th>10335</th>\n      <td>Richard Tyler is a little boy who is scared o...</td>\n      <td>0</td>\n    </tr>\n    <tr>\n      <th>16847</th>\n      <td>I run a group to stop comedian exploitation a...</td>\n      <td>0</td>\n    </tr>\n    <tr>\n      <th>...</th>\n      <td>...</td>\n      <td>...</td>\n    </tr>\n    <tr>\n      <th>14848</th>\n      <td>If you like to comment on films where the scr...</td>\n      <td>0</td>\n    </tr>\n    <tr>\n      <th>8450</th>\n      <td>First  let me say that Notorious is an absolu...</td>\n      <td>1</td>\n    </tr>\n    <tr>\n      <th>8221</th>\n      <td>Realistic movie sure except for the fact that...</td>\n      <td>0</td>\n    </tr>\n    <tr>\n      <th>10638</th>\n      <td>I will spend a few days dedicated to Ron Howa...</td>\n      <td>0</td>\n    </tr>\n    <tr>\n      <th>20673</th>\n      <td>Jerry spies Tom listening to a creepy story o...</td>\n      <td>0</td>\n    </tr>\n  </tbody>\n</table>\n<p>7500 rows × 2 columns</p>\n</div>"
     },
     "metadata": {},
     "execution_count": 43
    }
   ],
   "source": [
    "df_test"
   ]
  },
  {
   "cell_type": "code",
   "execution_count": 44,
   "metadata": {},
   "outputs": [],
   "source": [
    "#웹에서 쓸 테스트이터저장.. 그런데 전체아니고 테스트데이터만 저장하면 되나?\n",
    "#인덱스/리뷰/타겟 (문제,정답까지 같이 만든느거 맞나?)\n",
    "df_test.to_csv('../static/data/IMDB/test.csv', index=False)"
   ]
  },
  {
   "cell_type": "code",
   "execution_count": 21,
   "metadata": {},
   "outputs": [],
   "source": [
    "from sklearn.feature_extraction.text import CountVectorizer, TfidfVectorizer\n",
    "from sklearn.linear_model import LogisticRegression\n",
    "from sklearn.metrics import accuracy_score"
   ]
  },
  {
   "cell_type": "code",
   "execution_count": 22,
   "metadata": {},
   "outputs": [],
   "source": [
    "#CountVectorizer의 경우,\n",
    "count_vect = CountVectorizer(stop_words='english', ngram_range=(1,2))\n",
    "count_vect.fit(X_train.review) #df다보니 컬럼지정해줘야함 .review\n",
    "X_train_count = count_vect.transform(X_train.review) # 꼭 두단계를 거쳐야 train, test같은 인덱스를 가짐\n",
    "X_test_count = count_vect.transform(X_test.review)"
   ]
  },
  {
   "cell_type": "code",
   "execution_count": 24,
   "metadata": {},
   "outputs": [
    {
     "output_type": "execute_result",
     "data": {
      "text/plain": [
       "((17500, 1296566), (7500, 1296566))"
      ]
     },
     "metadata": {},
     "execution_count": 24
    }
   ],
   "source": [
    "X_train_count.shape, X_test_count.shape"
   ]
  },
  {
   "cell_type": "code",
   "execution_count": 25,
   "metadata": {},
   "outputs": [
    {
     "output_type": "execute_result",
     "data": {
      "text/plain": [
       "0.886"
      ]
     },
     "metadata": {},
     "execution_count": 25
    }
   ],
   "source": [
    "lr_clf = LogisticRegression(C=10)\n",
    "lr_clf.fit(X_train_count, y_train)\n",
    "pred = lr_clf.predict(X_test_count)\n",
    "accuracy_score(y_test, pred) #결과값 정확도0.886 88%"
   ]
  },
  {
   "cell_type": "code",
   "execution_count": 26,
   "metadata": {},
   "outputs": [],
   "source": [
    "#TfidfVectorizer\n",
    "tfidf_vect = TfidfVectorizer(stop_words='english', ngram_range=(1,2))\n",
    "tfidf_vect.fit(X_train.review)\n",
    "X_train_tfidf = tfidf_vect.transform(X_train.review) # 꼭 두단계를 거쳐야 train, test같은 인덱스를 가짐\n",
    "X_test_tfidf = tfidf_vect.transform(X_test.review)"
   ]
  },
  {
   "cell_type": "code",
   "execution_count": 27,
   "metadata": {},
   "outputs": [
    {
     "output_type": "execute_result",
     "data": {
      "text/plain": [
       "['../static/model/imdb_lr.pkl']"
      ]
     },
     "metadata": {},
     "execution_count": 27
    }
   ],
   "source": [
    "#모델저장\n",
    "import joblib\n",
    "joblib.dump(tfidf_vect, '../static/model/imdb_vect.pkl') #피클데이터라 뒤에 .pkl붙여주는게 관례\n",
    "joblib.dump(lr_clf, '../static/model/imdb_lr.pkl')"
   ]
  },
  {
   "cell_type": "code",
   "execution_count": 28,
   "metadata": {},
   "outputs": [],
   "source": [
    "#모델불러오기\n",
    "new_vect = joblib.load('../static/model/imdb_vect.pkl')\n",
    "new_lr = joblib.load('../static/model/imdb_lr.pkl')"
   ]
  },
  {
   "cell_type": "code",
   "execution_count": 29,
   "metadata": {},
   "outputs": [
    {
     "output_type": "execute_result",
     "data": {
      "text/plain": [
       "0.8936"
      ]
     },
     "metadata": {},
     "execution_count": 29
    }
   ],
   "source": [
    "#왜 count만하고 tfidf는 안했지?\n",
    "lr_clf = LogisticRegression(C=10)\n",
    "lr_clf.fit(X_train_tfidf, y_train)\n",
    "pred = lr_clf.predict(X_test_tfidf)\n",
    "accuracy_score(y_test, pred) #결과값0.8936"
   ]
  },
  {
   "cell_type": "code",
   "execution_count": 23,
   "metadata": {},
   "outputs": [],
   "source": [
    "#이건뭐지? 갑툭\n",
    "new_X_test = new_vect.transform(X_test.review)"
   ]
  },
  {
   "cell_type": "code",
   "execution_count": 24,
   "metadata": {},
   "outputs": [
    {
     "output_type": "execute_result",
     "data": {
      "text/plain": [
       "0.8648"
      ]
     },
     "metadata": {},
     "execution_count": 24
    }
   ],
   "source": [
    "pred = new_lr.predict(new_X_test)\n",
    "accuracy_score(y_test, pred)"
   ]
  },
  {
   "cell_type": "code",
   "execution_count": 30,
   "metadata": {},
   "outputs": [
    {
     "output_type": "stream",
     "name": "stdout",
     "text": [
      "Count Vectorizer + Logistic Regression 정확도: 0.8865\n"
     ]
    }
   ],
   "source": [
    "#파이프라인 학습/예측 평가 (coun + lr)\n",
    "from sklearn.pipeline import Pipeline\n",
    "\n",
    "pipeline = Pipeline([\n",
    "    ('count_vect', CountVectorizer(stop_words='english', ngram_range=(1,2))),\n",
    "    ('lr_clf', LogisticRegression(C=5))\n",
    "])\n",
    "\n",
    "pipeline.fit(X_train.review, y_train)\n",
    "pred = pipeline.predict(X_test.review)\n",
    "acc = accuracy_score(y_test, pred)\n",
    "print(f'Count Vectorizer + Logistic Regression 정확도: {acc:.4f}')\n",
    "#10:03~ 결과값 0.8860........................................................파람지정안헀으니기본으로되는건가 그리드서치cv해야하나?"
   ]
  },
  {
   "cell_type": "code",
   "execution_count": 31,
   "metadata": {},
   "outputs": [
    {
     "output_type": "execute_result",
     "data": {
      "text/plain": [
       "['../static/model/IMDB_count_lr.pkl']"
      ]
     },
     "metadata": {},
     "execution_count": 31
    }
   ],
   "source": [
    "joblib.dump(pipeline, '../static/model/IMDB_count_lr.pkl')"
   ]
  },
  {
   "cell_type": "code",
   "execution_count": 31,
   "metadata": {},
   "outputs": [],
   "source": [
    "#..................이거왜.......................여기부터\n",
    "new_pipe = joblib.load('../static/model/pipeline.pkl')"
   ]
  },
  {
   "cell_type": "code",
   "execution_count": 32,
   "metadata": {},
   "outputs": [
    {
     "output_type": "stream",
     "name": "stdout",
     "text": [
      "Count Vectorizer + Logistic Regression 정확도: 0.8865\n"
     ]
    }
   ],
   "source": [
    "pred = new_pipe.predict(X_test.review)\n",
    "acc = accuracy_score(y_test, pred)\n",
    "print(f'Count Vectorizer + Logistic Regression 정확도: {acc:.4f}')\n",
    "#저장한 모델도 위와같은 결과 정확도 0.8860"
   ]
  },
  {
   "cell_type": "code",
   "execution_count": 33,
   "metadata": {},
   "outputs": [
    {
     "output_type": "execute_result",
     "data": {
      "text/plain": [
       "dict_keys(['analyzer', 'binary', 'decode_error', 'dtype', 'encoding', 'input', 'lowercase', 'max_df', 'max_features', 'min_df', 'ngram_range', 'norm', 'preprocessor', 'smooth_idf', 'stop_words', 'strip_accents', 'sublinear_tf', 'token_pattern', 'tokenizer', 'use_idf', 'vocabulary'])"
      ]
     },
     "metadata": {},
     "execution_count": 33
    }
   ],
   "source": [
    "new_vect.get_params().keys()"
   ]
  },
  {
   "cell_type": "code",
   "execution_count": 34,
   "metadata": {},
   "outputs": [
    {
     "output_type": "error",
     "ename": "NameError",
     "evalue": "name 'GridSearchCV' is not defined",
     "traceback": [
      "\u001b[1;31m---------------------------------------------------------------------------\u001b[0m",
      "\u001b[1;31mNameError\u001b[0m                                 Traceback (most recent call last)",
      "\u001b[1;32m<ipython-input-34-908d2f530d30>\u001b[0m in \u001b[0;36m<module>\u001b[1;34m\u001b[0m\n\u001b[0;32m     10\u001b[0m }\n\u001b[0;32m     11\u001b[0m \u001b[1;33m\u001b[0m\u001b[0m\n\u001b[1;32m---> 12\u001b[1;33m \u001b[0mgrid_pipe\u001b[0m \u001b[1;33m=\u001b[0m \u001b[0mGridSearchCV\u001b[0m\u001b[1;33m(\u001b[0m\u001b[0mpipeline\u001b[0m\u001b[1;33m,\u001b[0m \u001b[0mparam_grid\u001b[0m\u001b[1;33m=\u001b[0m\u001b[0mparams\u001b[0m\u001b[1;33m,\u001b[0m \u001b[0mcv\u001b[0m\u001b[1;33m=\u001b[0m\u001b[1;36m3\u001b[0m\u001b[1;33m,\u001b[0m \u001b[0mscoring\u001b[0m\u001b[1;33m=\u001b[0m\u001b[1;34m'accuracy'\u001b[0m\u001b[1;33m,\u001b[0m \u001b[0mverbose\u001b[0m\u001b[1;33m=\u001b[0m\u001b[1;36m1\u001b[0m\u001b[1;33m)\u001b[0m \u001b[1;31m# n_jobs=-1\u001b[0m\u001b[1;33m\u001b[0m\u001b[1;33m\u001b[0m\u001b[0m\n\u001b[0m\u001b[0;32m     13\u001b[0m \u001b[0mgrid_pipe\u001b[0m\u001b[1;33m.\u001b[0m\u001b[0mfit\u001b[0m\u001b[1;33m(\u001b[0m\u001b[0mX_train\u001b[0m\u001b[1;33m.\u001b[0m\u001b[0mreview\u001b[0m\u001b[1;33m,\u001b[0m \u001b[0my_train\u001b[0m\u001b[1;33m)\u001b[0m\u001b[1;33m\u001b[0m\u001b[1;33m\u001b[0m\u001b[0m\n\u001b[0;32m     14\u001b[0m \u001b[0mprint\u001b[0m\u001b[1;33m(\u001b[0m\u001b[0mgrid_pipe\u001b[0m\u001b[1;33m.\u001b[0m\u001b[0mbest_params_\u001b[0m\u001b[1;33m,\u001b[0m \u001b[0mgrid_pipe\u001b[0m\u001b[1;33m.\u001b[0m\u001b[0mbest_score_\u001b[0m\u001b[1;33m)\u001b[0m\u001b[1;33m\u001b[0m\u001b[1;33m\u001b[0m\u001b[0m\n",
      "\u001b[1;31mNameError\u001b[0m: name 'GridSearchCV' is not defined"
     ]
    }
   ],
   "source": [
    "from sklearn.pipeline import Pipeline\n",
    "\n",
    "pipeline = Pipeline([\n",
    "    ('new_vect', CountVectorizer(stop_words='english', ngram_range=(1,2))),\n",
    "    ('new_lr', LogisticRegression(C=5))\n",
    "])\n",
    "params = {\n",
    "    'new_vect__max_df': [100], #300 500\n",
    "    'new_lr__C': [1]  #5, 10\n",
    "}\n",
    "\n",
    "grid_pipe = GridSearchCV(pipeline, param_grid=params, cv=3, scoring='accuracy', verbose=1) # n_jobs=-1\n",
    "grid_pipe.fit(X_train.review, y_train)\n",
    "print(grid_pipe.best_params_, grid_pipe.best_score_)\n",
    "#..................이거왜.......................................여기까지"
   ]
  },
  {
   "cell_type": "code",
   "execution_count": 32,
   "metadata": {},
   "outputs": [
    {
     "output_type": "stream",
     "name": "stdout",
     "text": [
      "Tfidf Vectorizer + Logistic Regression 정확도: 0.8916\n"
     ]
    }
   ],
   "source": [
    "#파이프라인 학습/예측 평가 (tfidf + lr)\n",
    "from sklearn.pipeline import Pipeline\n",
    "\n",
    "pipeline = Pipeline([\n",
    "    ('tfidf_vect', TfidfVectorizer(stop_words='english', ngram_range=(1,2))),\n",
    "    ('lr_clf', LogisticRegression(C=5))\n",
    "])\n",
    "\n",
    "pipeline.fit(X_train.review, y_train)\n",
    "pred = pipeline.predict(X_test.review)\n",
    "acc = accuracy_score(y_test, pred)\n",
    "print(f'Tfidf Vectorizer + Logistic Regression 정확도: {acc:.4f}')"
   ]
  },
  {
   "cell_type": "code",
   "execution_count": 33,
   "metadata": {},
   "outputs": [
    {
     "output_type": "execute_result",
     "data": {
      "text/plain": [
       "['../static/model/IMDB_tfidf_lr.pkl']"
      ]
     },
     "metadata": {},
     "execution_count": 33
    }
   ],
   "source": [
    "joblib.dump(pipeline, '../static/model/IMDB_tfidf_lr.pkl')"
   ]
  },
  {
   "cell_type": "code",
   "execution_count": 65,
   "metadata": {},
   "outputs": [
    {
     "output_type": "stream",
     "name": "stdout",
     "text": [
      "Tfidf Vectorizer + SVC정확도: 0.8860\n"
     ]
    }
   ],
   "source": [
    "#파이프라인 학습/예측 평가 (tfidf + svc)\n",
    "from sklearn.svm import SVC\n",
    "from sklearn.pipeline import Pipeline\n",
    "\n",
    "pipeline = Pipeline([\n",
    "    ('tfidf_vect', TfidfVectorizer(stop_words='english', ngram_range=(1,2))),\n",
    "    ('svc', SVC())\n",
    "])\n",
    "\n",
    "pipeline.fit(X_train.review, y_train)\n",
    "pred = pipeline.predict(X_test.review)\n",
    "acc = accuracy_score(y_test, pred)\n",
    "print(f'Tfidf Vectorizer + SVC정확도: {acc:.4f}')\n",
    "#11:49-12:15 (25분소요) #정확도0.8860"
   ]
  },
  {
   "cell_type": "code",
   "execution_count": 66,
   "metadata": {},
   "outputs": [
    {
     "output_type": "execute_result",
     "data": {
      "text/plain": [
       "['../static/model/IMDB_tfidf_sv.pkl']"
      ]
     },
     "metadata": {},
     "execution_count": 66
    }
   ],
   "source": [
    "joblib.dump(pipeline, '../static/model/IMDB_tfidf_sv.pkl')"
   ]
  },
  {
   "cell_type": "code",
   "execution_count": 67,
   "metadata": {},
   "outputs": [],
   "source": [
    "#TEST\n",
    "# 도즈언~~~~\n",
    "count_lr = joblib.load('../static/model/IMDB_count_lr.pkl')\n",
    "tfidf_lr = joblib.load('../static/model/IMDB_tfidf_lr.pkl')\n",
    "tfidf_sv = joblib.load('../static/model/IMDB_tfidf_sv.pkl')"
   ]
  },
  {
   "cell_type": "code",
   "execution_count": 48,
   "metadata": {},
   "outputs": [],
   "source": [
    "df = pd.read_csv('../static/data/IMDB/test.csv')"
   ]
  },
  {
   "cell_type": "code",
   "execution_count": 52,
   "metadata": {},
   "outputs": [],
   "source": [
    "index=7496"
   ]
  },
  {
   "cell_type": "code",
   "execution_count": 49,
   "metadata": {},
   "outputs": [
    {
     "output_type": "execute_result",
     "data": {
      "text/plain": [
       "                                                 review  target\n",
       "0      My girlfriend and I were stunned by how bad t...       0\n",
       "1      What do you expect when there is no script to...       0\n",
       "2      This is a German film from      that is somet...       0\n",
       "3      Richard Tyler is a little boy who is scared o...       0\n",
       "4      I run a group to stop comedian exploitation a...       0\n",
       "...                                                 ...     ...\n",
       "7495   If you like to comment on films where the scr...       0\n",
       "7496   First  let me say that Notorious is an absolu...       1\n",
       "7497   Realistic movie sure except for the fact that...       0\n",
       "7498   I will spend a few days dedicated to Ron Howa...       0\n",
       "7499   Jerry spies Tom listening to a creepy story o...       0\n",
       "\n",
       "[7500 rows x 2 columns]"
      ],
      "text/html": "<div>\n<style scoped>\n    .dataframe tbody tr th:only-of-type {\n        vertical-align: middle;\n    }\n\n    .dataframe tbody tr th {\n        vertical-align: top;\n    }\n\n    .dataframe thead th {\n        text-align: right;\n    }\n</style>\n<table border=\"1\" class=\"dataframe\">\n  <thead>\n    <tr style=\"text-align: right;\">\n      <th></th>\n      <th>review</th>\n      <th>target</th>\n    </tr>\n  </thead>\n  <tbody>\n    <tr>\n      <th>0</th>\n      <td>My girlfriend and I were stunned by how bad t...</td>\n      <td>0</td>\n    </tr>\n    <tr>\n      <th>1</th>\n      <td>What do you expect when there is no script to...</td>\n      <td>0</td>\n    </tr>\n    <tr>\n      <th>2</th>\n      <td>This is a German film from      that is somet...</td>\n      <td>0</td>\n    </tr>\n    <tr>\n      <th>3</th>\n      <td>Richard Tyler is a little boy who is scared o...</td>\n      <td>0</td>\n    </tr>\n    <tr>\n      <th>4</th>\n      <td>I run a group to stop comedian exploitation a...</td>\n      <td>0</td>\n    </tr>\n    <tr>\n      <th>...</th>\n      <td>...</td>\n      <td>...</td>\n    </tr>\n    <tr>\n      <th>7495</th>\n      <td>If you like to comment on films where the scr...</td>\n      <td>0</td>\n    </tr>\n    <tr>\n      <th>7496</th>\n      <td>First  let me say that Notorious is an absolu...</td>\n      <td>1</td>\n    </tr>\n    <tr>\n      <th>7497</th>\n      <td>Realistic movie sure except for the fact that...</td>\n      <td>0</td>\n    </tr>\n    <tr>\n      <th>7498</th>\n      <td>I will spend a few days dedicated to Ron Howa...</td>\n      <td>0</td>\n    </tr>\n    <tr>\n      <th>7499</th>\n      <td>Jerry spies Tom listening to a creepy story o...</td>\n      <td>0</td>\n    </tr>\n  </tbody>\n</table>\n<p>7500 rows × 2 columns</p>\n</div>"
     },
     "metadata": {},
     "execution_count": 49
    }
   ],
   "source": [
    "df #7499개있음"
   ]
  },
  {
   "cell_type": "code",
   "execution_count": 53,
   "metadata": {},
   "outputs": [
    {
     "output_type": "execute_result",
     "data": {
      "text/plain": [
       "1"
      ]
     },
     "metadata": {},
     "execution_count": 53
    }
   ],
   "source": [
    "label = df.target[index] \n",
    "label"
   ]
  },
  {
   "cell_type": "code",
   "execution_count": 54,
   "metadata": {},
   "outputs": [
    {
     "output_type": "execute_result",
     "data": {
      "text/plain": [
       "' If you like to comment on films where the script arrive halfway the movie then this is the one  A setting and acting as in a Porn movie but nothing is happening only some groping and touching of the third kind  Which actually becomes very boring after    minutes of touchy feely but no action  A few of the actors I ve seen in real x rated movies and there their acting then was a lot better  All the special effects are done by the great   Rondo   Whom performs all the magic whit his mind  A cult movie is written on the box  Does that mean that this film is not to be watched at all     Get drunk with some friends and watch this movie on new years eve ore thanks giving  '"
      ]
     },
     "metadata": {},
     "execution_count": 54
    }
   ],
   "source": [
    "df.review[7495]\n",
    "#예를들어 7495번 하면 스트링이 나온다;;(스칼라) "
   ]
  },
  {
   "cell_type": "code",
   "execution_count": 56,
   "metadata": {},
   "outputs": [
    {
     "output_type": "execute_result",
     "data": {
      "text/plain": [
       "[' First  let me say that Notorious is an absolutely charming film  very lovingly rendered of its time and subject s   Gretchen Mol is utterly  painfully convincing  the very soul of the contradictions smoothly reified by Ms  Page herself  Irving and Paula Klaw are richly drawn as the working class stiffs they were  having met Paula at Movie Star News in      I can say that Lili Taylor s performance is unimpeachable   and Jared Harris as John Willie  Coutts  is an adoringly debauched genius  Anyone with an interest in the recorded history of American attitudes toward sexuality must see this movie  in a theater preferably  where votes made with dollars count more   Second  I will allow that I am a producer of material similar to that for which the Klaws would become famous  which is no way affects my estimation of Ms  Harron s work as the splendid piece that it is  but does condition my view of Notorious as an act of political resistance of the first order  Ms  Harron has crafted a work of subtle subversion  Along with V for Vendetta  it is a movie about another time for our times   Few readers of this site will be aware that the government they will see enacted in Notorious  through transcription of the very words uttered in closed Senate committee hearings  is a very close approximation of the one they live under right now  While Ms  Harron expressly disallows that she has a political agenda appended to this film  her faithfulness to the facts  and the respectful and unsensational way in which she renders them  synchronizes Notorious with the present day  The very acts that Notorious portrays in loving and accurate detail are defined as obscene by the Communications Decency Act  recently brought to the Supreme Court as a First Amendment case and turned back there at the behest of the Bush administration  In other words  the delicate and ineffectual bondage depicted in Notorious is indictable today by Federal prosecutors in whatever  hostile  jurisdiction they choose  Of course  there were no hearings in the Senate or elsewhere on this matter when the CDA was passed  Of course you know nothing about it  because you don t want people in Peoria telling you what you can and cannot look at  likewise  people in Peoria probably don t want me telling them what they re allowed to view   Of course Notorious will never be indicted  It s Hollywood  It s lawyered up  Countless Klaws will  however  continue to be steamrolled by a puritanical bureaucracy that has not advanced its aesthetic  moral or biological composition much in     years   In addition  Notorious posts no    USC      compliance statement  which is mandated by the unnoticed   earmark   recently voted into law  If any media contains images of   sadomasochistic restraint   it is required to make available  ex warrant  records of age and circumstance of all performers  Notorious fails in this regard also   In addition to being a splendid piece of entertainment and an  nearly  accurate historical document  Notorious will be the litmus against which the Bush Justice Department is itself judged with respect to the   th  Equal Protection  Amendment and on perhaps several other Constitutional grounds  In this regard alone  a debt of gratitude is owed Mary Harron  You ll be grateful in any case  Constitutional or otherwise  if you see this film  ']"
      ]
     },
     "metadata": {},
     "execution_count": 56
    }
   ],
   "source": [
    "# test_data 1차원으로 만드는 방법 1. [리스트]\n",
    "test_review = []\n",
    "test_review.append(df.review[index]) # 스트링을 통채로 어펜드해야함\n",
    "test_review"
   ]
  },
  {
   "cell_type": "code",
   "execution_count": 57,
   "metadata": {},
   "outputs": [
    {
     "output_type": "execute_result",
     "data": {
      "text/plain": [
       "array([' First  let me say that Notorious is an absolutely charming film  very lovingly rendered of its time and subject s   Gretchen Mol is utterly  painfully convincing  the very soul of the contradictions smoothly reified by Ms  Page herself  Irving and Paula Klaw are richly drawn as the working class stiffs they were  having met Paula at Movie Star News in      I can say that Lili Taylor s performance is unimpeachable   and Jared Harris as John Willie  Coutts  is an adoringly debauched genius  Anyone with an interest in the recorded history of American attitudes toward sexuality must see this movie  in a theater preferably  where votes made with dollars count more   Second  I will allow that I am a producer of material similar to that for which the Klaws would become famous  which is no way affects my estimation of Ms  Harron s work as the splendid piece that it is  but does condition my view of Notorious as an act of political resistance of the first order  Ms  Harron has crafted a work of subtle subversion  Along with V for Vendetta  it is a movie about another time for our times   Few readers of this site will be aware that the government they will see enacted in Notorious  through transcription of the very words uttered in closed Senate committee hearings  is a very close approximation of the one they live under right now  While Ms  Harron expressly disallows that she has a political agenda appended to this film  her faithfulness to the facts  and the respectful and unsensational way in which she renders them  synchronizes Notorious with the present day  The very acts that Notorious portrays in loving and accurate detail are defined as obscene by the Communications Decency Act  recently brought to the Supreme Court as a First Amendment case and turned back there at the behest of the Bush administration  In other words  the delicate and ineffectual bondage depicted in Notorious is indictable today by Federal prosecutors in whatever  hostile  jurisdiction they choose  Of course  there were no hearings in the Senate or elsewhere on this matter when the CDA was passed  Of course you know nothing about it  because you don t want people in Peoria telling you what you can and cannot look at  likewise  people in Peoria probably don t want me telling them what they re allowed to view   Of course Notorious will never be indicted  It s Hollywood  It s lawyered up  Countless Klaws will  however  continue to be steamrolled by a puritanical bureaucracy that has not advanced its aesthetic  moral or biological composition much in     years   In addition  Notorious posts no    USC      compliance statement  which is mandated by the unnoticed   earmark   recently voted into law  If any media contains images of   sadomasochistic restraint   it is required to make available  ex warrant  records of age and circumstance of all performers  Notorious fails in this regard also   In addition to being a splendid piece of entertainment and an  nearly  accurate historical document  Notorious will be the litmus against which the Bush Justice Department is itself judged with respect to the   th  Equal Protection  Amendment and on perhaps several other Constitutional grounds  In this regard alone  a debt of gratitude is owed Mary Harron  You ll be grateful in any case  Constitutional or otherwise  if you see this film  '],\n",
       "      dtype=object)"
      ]
     },
     "metadata": {},
     "execution_count": 57
    }
   ],
   "source": [
    "# test_data 1차원으로 만드는 방법 1. [리스트]\n",
    "test_review = df.iloc[index:index+1, 0].values \n",
    "test_review"
   ]
  },
  {
   "cell_type": "code",
   "execution_count": 68,
   "metadata": {},
   "outputs": [],
   "source": [
    "#로딩한모델 count_lr / tfidf_lr / tfsvc\n",
    "count_pred = count_lr.predict(test_review)\n",
    "tfidf_pred = tfidf_lr.predict(test_review)\n",
    "tfsvc_pred = tfidf_sv.predict(test_review)"
   ]
  },
  {
   "cell_type": "code",
   "execution_count": 69,
   "metadata": {},
   "outputs": [
    {
     "output_type": "stream",
     "name": "stdout",
     "text": [
      "1 1\n1 1\n1 1\n"
     ]
    }
   ],
   "source": [
    "print(count_pred[0], label)\n",
    "print(tfidf_pred[0], label)\n",
    "print(tfsvc_pred[0], label)"
   ]
  },
  {
   "cell_type": "code",
   "execution_count": null,
   "metadata": {},
   "outputs": [],
   "source": []
  }
 ]
}