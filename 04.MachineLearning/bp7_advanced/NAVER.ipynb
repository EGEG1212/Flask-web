{
 "metadata": {
  "language_info": {
   "codemirror_mode": {
    "name": "ipython",
    "version": 3
   },
   "file_extension": ".py",
   "mimetype": "text/x-python",
   "name": "python",
   "nbconvert_exporter": "python",
   "pygments_lexer": "ipython3",
   "version": "3.8.5-final"
  },
  "orig_nbformat": 2,
  "kernelspec": {
   "name": "python3",
   "display_name": "Python 3",
   "language": "python"
  }
 },
 "nbformat": 4,
 "nbformat_minor": 2,
 "cells": [
  {
   "source": [
    "# 네이버영화평한글분석 \n",
    "나혼자해보는거라믿지는못함..ㅋㅋ"
   ],
   "cell_type": "markdown",
   "metadata": {}
  },
  {
   "cell_type": "code",
   "execution_count": 1,
   "metadata": {},
   "outputs": [],
   "source": [
    "import pandas as pd\n",
    "import numpy as np"
   ]
  },
  {
   "cell_type": "code",
   "execution_count": 2,
   "metadata": {},
   "outputs": [],
   "source": [
    "#전처리끝난 파일 불러옴\n",
    "train_df = pd.read_csv('../../../Machine-Learning/00.data/NaverMovie/train.tsv', sep='\\t')\n",
    "test_df = pd.read_csv('../../../Machine-Learning/00.data/NaverMovie/test.tsv', sep='\\t')"
   ]
  },
  {
   "cell_type": "code",
   "execution_count": 3,
   "metadata": {},
   "outputs": [
    {
     "output_type": "execute_result",
     "data": {
      "text/plain": [
       "   Unnamed: 0        id                    document  label\n",
       "0           0   9976970           아 더빙 진짜 짜증나네요 목소리      0\n",
       "1           1   3819312  흠포스터보고 초딩영화줄오버연기조차 가볍지 않구나      1\n",
       "2           2  10265843           너무재밓었다그래서보는것을추천한다      0"
      ],
      "text/html": "<div>\n<style scoped>\n    .dataframe tbody tr th:only-of-type {\n        vertical-align: middle;\n    }\n\n    .dataframe tbody tr th {\n        vertical-align: top;\n    }\n\n    .dataframe thead th {\n        text-align: right;\n    }\n</style>\n<table border=\"1\" class=\"dataframe\">\n  <thead>\n    <tr style=\"text-align: right;\">\n      <th></th>\n      <th>Unnamed: 0</th>\n      <th>id</th>\n      <th>document</th>\n      <th>label</th>\n    </tr>\n  </thead>\n  <tbody>\n    <tr>\n      <th>0</th>\n      <td>0</td>\n      <td>9976970</td>\n      <td>아 더빙 진짜 짜증나네요 목소리</td>\n      <td>0</td>\n    </tr>\n    <tr>\n      <th>1</th>\n      <td>1</td>\n      <td>3819312</td>\n      <td>흠포스터보고 초딩영화줄오버연기조차 가볍지 않구나</td>\n      <td>1</td>\n    </tr>\n    <tr>\n      <th>2</th>\n      <td>2</td>\n      <td>10265843</td>\n      <td>너무재밓었다그래서보는것을추천한다</td>\n      <td>0</td>\n    </tr>\n  </tbody>\n</table>\n</div>"
     },
     "metadata": {},
     "execution_count": 3
    }
   ],
   "source": [
    "train_df.head(3)"
   ]
  },
  {
   "cell_type": "code",
   "execution_count": 10,
   "metadata": {},
   "outputs": [
    {
     "output_type": "stream",
     "name": "stdout",
     "text": [
      "<class 'pandas.core.frame.DataFrame'>\nRangeIndex: 145791 entries, 0 to 145790\nData columns (total 4 columns):\n #   Column      Non-Null Count   Dtype \n---  ------      --------------   ----- \n 0   Unnamed: 0  145791 non-null  int64 \n 1   id          145791 non-null  int64 \n 2   document    145791 non-null  object\n 3   label       145791 non-null  int64 \ndtypes: int64(3), object(1)\nmemory usage: 4.4+ MB\n"
     ]
    }
   ],
   "source": [
    "train_df.info()"
   ]
  },
  {
   "cell_type": "code",
   "execution_count": 13,
   "metadata": {},
   "outputs": [
    {
     "output_type": "execute_result",
     "data": {
      "text/plain": [
       "False    145791\n",
       "dtype: int64"
      ]
     },
     "metadata": {},
     "execution_count": 13
    }
   ],
   "source": [
    "train_df.duplicated().value_counts() #중복없음 train_df 145791개"
   ]
  },
  {
   "cell_type": "code",
   "execution_count": 11,
   "metadata": {},
   "outputs": [
    {
     "output_type": "stream",
     "name": "stdout",
     "text": [
      "<class 'pandas.core.frame.DataFrame'>\nRangeIndex: 48995 entries, 0 to 48994\nData columns (total 4 columns):\n #   Column      Non-Null Count  Dtype \n---  ------      --------------  ----- \n 0   Unnamed: 0  48995 non-null  int64 \n 1   id          48995 non-null  int64 \n 2   document    48995 non-null  object\n 3   label       48995 non-null  int64 \ndtypes: int64(3), object(1)\nmemory usage: 1.5+ MB\n"
     ]
    }
   ],
   "source": [
    "test_df.info()"
   ]
  },
  {
   "cell_type": "code",
   "execution_count": 24,
   "metadata": {},
   "outputs": [
    {
     "output_type": "execute_result",
     "data": {
      "text/plain": [
       "   Unnamed: 0       id                                   document  label\n",
       "0           0  6270596                                        굳 ㅋ      1\n",
       "1           2  8544678           뭐야 이 평점들은 나쁘진 않지만 점 짜리는 더더욱 아니잖아      0\n",
       "2           3  6825595                  지루하지는 않은데 완전 막장임 돈주고 보기에는      0\n",
       "3           4  6723715  만 아니었어도 별 다섯 개 줬을텐데 왜 로 나와서 제 심기를 불편하게 하죠      0\n",
       "4           5  7898805                          음악이 주가 된 최고의 음악영화      1"
      ],
      "text/html": "<div>\n<style scoped>\n    .dataframe tbody tr th:only-of-type {\n        vertical-align: middle;\n    }\n\n    .dataframe tbody tr th {\n        vertical-align: top;\n    }\n\n    .dataframe thead th {\n        text-align: right;\n    }\n</style>\n<table border=\"1\" class=\"dataframe\">\n  <thead>\n    <tr style=\"text-align: right;\">\n      <th></th>\n      <th>Unnamed: 0</th>\n      <th>id</th>\n      <th>document</th>\n      <th>label</th>\n    </tr>\n  </thead>\n  <tbody>\n    <tr>\n      <th>0</th>\n      <td>0</td>\n      <td>6270596</td>\n      <td>굳 ㅋ</td>\n      <td>1</td>\n    </tr>\n    <tr>\n      <th>1</th>\n      <td>2</td>\n      <td>8544678</td>\n      <td>뭐야 이 평점들은 나쁘진 않지만 점 짜리는 더더욱 아니잖아</td>\n      <td>0</td>\n    </tr>\n    <tr>\n      <th>2</th>\n      <td>3</td>\n      <td>6825595</td>\n      <td>지루하지는 않은데 완전 막장임 돈주고 보기에는</td>\n      <td>0</td>\n    </tr>\n    <tr>\n      <th>3</th>\n      <td>4</td>\n      <td>6723715</td>\n      <td>만 아니었어도 별 다섯 개 줬을텐데 왜 로 나와서 제 심기를 불편하게 하죠</td>\n      <td>0</td>\n    </tr>\n    <tr>\n      <th>4</th>\n      <td>5</td>\n      <td>7898805</td>\n      <td>음악이 주가 된 최고의 음악영화</td>\n      <td>1</td>\n    </tr>\n  </tbody>\n</table>\n</div>"
     },
     "metadata": {},
     "execution_count": 24
    }
   ],
   "source": [
    "test_df.head()"
   ]
  },
  {
   "cell_type": "code",
   "execution_count": 25,
   "metadata": {},
   "outputs": [
    {
     "output_type": "execute_result",
     "data": {
      "text/plain": [
       "                            document  label\n",
       "0                               굳다 ㅋ      1\n",
       "1      뭐 야 평점 나쁘다 않다 점 짜다 리 더 더욱 아니다      0\n",
       "2         지루하다 않다 완전 막장 임 돈 주다 보기 에는      0\n",
       "3  만 아니다 별 다섯 개 주다 왜 로 나오다 제 심기 불편하다      0\n",
       "4                  음악 주가 되다 최고 음악 영화      1"
      ],
      "text/html": "<div>\n<style scoped>\n    .dataframe tbody tr th:only-of-type {\n        vertical-align: middle;\n    }\n\n    .dataframe tbody tr th {\n        vertical-align: top;\n    }\n\n    .dataframe thead th {\n        text-align: right;\n    }\n</style>\n<table border=\"1\" class=\"dataframe\">\n  <thead>\n    <tr style=\"text-align: right;\">\n      <th></th>\n      <th>document</th>\n      <th>label</th>\n    </tr>\n  </thead>\n  <tbody>\n    <tr>\n      <th>0</th>\n      <td>굳다 ㅋ</td>\n      <td>1</td>\n    </tr>\n    <tr>\n      <th>1</th>\n      <td>뭐 야 평점 나쁘다 않다 점 짜다 리 더 더욱 아니다</td>\n      <td>0</td>\n    </tr>\n    <tr>\n      <th>2</th>\n      <td>지루하다 않다 완전 막장 임 돈 주다 보기 에는</td>\n      <td>0</td>\n    </tr>\n    <tr>\n      <th>3</th>\n      <td>만 아니다 별 다섯 개 주다 왜 로 나오다 제 심기 불편하다</td>\n      <td>0</td>\n    </tr>\n    <tr>\n      <th>4</th>\n      <td>음악 주가 되다 최고 음악 영화</td>\n      <td>1</td>\n    </tr>\n  </tbody>\n</table>\n</div>"
     },
     "metadata": {},
     "execution_count": 25
    }
   ],
   "source": [
    "df_test.head() # 형태소분석 후의 데이터 "
   ]
  },
  {
   "cell_type": "code",
   "execution_count": 14,
   "metadata": {},
   "outputs": [
    {
     "output_type": "execute_result",
     "data": {
      "text/plain": [
       "False    48995\n",
       "dtype: int64"
      ]
     },
     "metadata": {},
     "execution_count": 14
    }
   ],
   "source": [
    "test_df.duplicated().value_counts() #중복없음 test_df 48995개"
   ]
  },
  {
   "cell_type": "code",
   "execution_count": 15,
   "metadata": {},
   "outputs": [],
   "source": [
    "from konlpy.tag import Okt #형태소분석기\n",
    "okt = Okt()\n",
    "stopwords = ['의','가','이','은','들','는','좀','잘','걍','과','도','를','으로','자','에','와','한','하다', '를']"
   ]
  },
  {
   "cell_type": "code",
   "execution_count": 16,
   "metadata": {},
   "outputs": [
    {
     "output_type": "display_data",
     "data": {
      "text/plain": "HBox(children=(HTML(value=''), FloatProgress(value=0.0, max=145791.0), HTML(value='')))",
      "application/vnd.jupyter.widget-view+json": {
       "version_major": 2,
       "version_minor": 0,
       "model_id": "f9c7756fbf8b466a8d013cbe2aa245ae"
      }
     },
     "metadata": {}
    },
    {
     "output_type": "stream",
     "name": "stdout",
     "text": [
      "\n"
     ]
    }
   ],
   "source": [
    "from tqdm import tqdm_notebook\n",
    "#시간이엄청오래걸려서.... 9분정도소요됨\n",
    "X_train = []\n",
    "for sentence in tqdm_notebook(train_df['document']):\n",
    "    morphs = okt.morphs(sentence, stem=True) \n",
    "    # 한줄한줄데이터들어가서 토큰화(리스트만들어짐)/ 형태소분석기morphs\n",
    "    temp_X = ' '.join([word for word in morphs if not word in stopwords]) # 불용어 제거\n",
    "    X_train.append(temp_X)\n",
    "#형태소분석을한다음에 한칸띄기 문장으로 출력... 카운터벡터라이져쓸꺼니까"
   ]
  },
  {
   "cell_type": "code",
   "execution_count": 17,
   "metadata": {},
   "outputs": [
    {
     "output_type": "display_data",
     "data": {
      "text/plain": "HBox(children=(HTML(value=''), FloatProgress(value=0.0, max=48995.0), HTML(value='')))",
      "application/vnd.jupyter.widget-view+json": {
       "version_major": 2,
       "version_minor": 0,
       "model_id": "32a6a5569036448190b442ff00241c3a"
      }
     },
     "metadata": {}
    },
    {
     "output_type": "stream",
     "name": "stdout",
     "text": [
      "\n"
     ]
    }
   ],
   "source": [
    "X_test = []\n",
    "for sentence in tqdm_notebook(test_df['document']):\n",
    "    morphs = okt.morphs(sentence, stem=True) \n",
    "    # 한줄한줄데이터들어가서 토큰화(리스트만들어짐)/ 형태소분석기morphs\n",
    "    temp_X = ' '.join([word for word in morphs if not word in stopwords]) # 불용어 제거\n",
    "    X_test.append(temp_X)\n",
    "#4분소요"
   ]
  },
  {
   "cell_type": "code",
   "execution_count": 18,
   "metadata": {},
   "outputs": [],
   "source": [
    "#y_train도만들어보자! label컬럼으로!\n",
    "y_train = train_df.label.values\n",
    "y_test = test_df.label.values"
   ]
  },
  {
   "cell_type": "code",
   "execution_count": 19,
   "metadata": {},
   "outputs": [
    {
     "output_type": "execute_result",
     "data": {
      "text/plain": [
       "document    0\n",
       "label       0\n",
       "dtype: int64"
      ]
     },
     "metadata": {},
     "execution_count": 19
    }
   ],
   "source": [
    "df_test = pd.DataFrame(X_test, columns=['document'])\n",
    "df_test['label'] = y_test\n",
    "df_test.isna().sum() #난값확인\n",
    "#df_test.dropna(subset=['document'], inplace=True) #난값삭제"
   ]
  },
  {
   "cell_type": "code",
   "execution_count": 21,
   "metadata": {},
   "outputs": [
    {
     "output_type": "stream",
     "name": "stdout",
     "text": [
      "<class 'pandas.core.frame.DataFrame'>\nRangeIndex: 48995 entries, 0 to 48994\nData columns (total 2 columns):\n #   Column    Non-Null Count  Dtype \n---  ------    --------------  ----- \n 0   document  48995 non-null  object\n 1   label     48995 non-null  int64 \ndtypes: int64(1), object(1)\nmemory usage: 765.7+ KB\n"
     ]
    }
   ],
   "source": [
    "df_test.info()"
   ]
  },
  {
   "cell_type": "code",
   "execution_count": 22,
   "metadata": {},
   "outputs": [],
   "source": [
    "#웹에서 쓸 형태소분석,불용어제거한데이터 test(document label)저장\n",
    "df_test.to_csv('../static/data/NAVER_test.csv', index=False)"
   ]
  },
  {
   "cell_type": "code",
   "execution_count": 23,
   "metadata": {},
   "outputs": [
    {
     "output_type": "execute_result",
     "data": {
      "text/plain": [
       "                            document  label\n",
       "0                               굳다 ㅋ      1\n",
       "1      뭐 야 평점 나쁘다 않다 점 짜다 리 더 더욱 아니다      0\n",
       "2         지루하다 않다 완전 막장 임 돈 주다 보기 에는      0\n",
       "3  만 아니다 별 다섯 개 주다 왜 로 나오다 제 심기 불편하다      0\n",
       "4                  음악 주가 되다 최고 음악 영화      1"
      ],
      "text/html": "<div>\n<style scoped>\n    .dataframe tbody tr th:only-of-type {\n        vertical-align: middle;\n    }\n\n    .dataframe tbody tr th {\n        vertical-align: top;\n    }\n\n    .dataframe thead th {\n        text-align: right;\n    }\n</style>\n<table border=\"1\" class=\"dataframe\">\n  <thead>\n    <tr style=\"text-align: right;\">\n      <th></th>\n      <th>document</th>\n      <th>label</th>\n    </tr>\n  </thead>\n  <tbody>\n    <tr>\n      <th>0</th>\n      <td>굳다 ㅋ</td>\n      <td>1</td>\n    </tr>\n    <tr>\n      <th>1</th>\n      <td>뭐 야 평점 나쁘다 않다 점 짜다 리 더 더욱 아니다</td>\n      <td>0</td>\n    </tr>\n    <tr>\n      <th>2</th>\n      <td>지루하다 않다 완전 막장 임 돈 주다 보기 에는</td>\n      <td>0</td>\n    </tr>\n    <tr>\n      <th>3</th>\n      <td>만 아니다 별 다섯 개 주다 왜 로 나오다 제 심기 불편하다</td>\n      <td>0</td>\n    </tr>\n    <tr>\n      <th>4</th>\n      <td>음악 주가 되다 최고 음악 영화</td>\n      <td>1</td>\n    </tr>\n  </tbody>\n</table>\n</div>"
     },
     "metadata": {},
     "execution_count": 23
    }
   ],
   "source": [
    "df_test = pd.read_csv('../static/data/NAVER_test.csv')\n",
    "df_test.head() #형태소분석,불용어제거한데이터"
   ]
  },
  {
   "cell_type": "code",
   "execution_count": 26,
   "metadata": {},
   "outputs": [],
   "source": [
    "from sklearn.feature_extraction.text import CountVectorizer\n",
    "from sklearn.linear_model import LogisticRegression\n",
    "from sklearn.metrics import accuracy_score"
   ]
  },
  {
   "cell_type": "code",
   "execution_count": 27,
   "metadata": {},
   "outputs": [],
   "source": [
    "## 파이프라인으로 ㄱㄱ\n",
    "cvecter = CountVectorizer()\n",
    "cvecter.fit(X_train)\n",
    "X_train_cvect = cvecter.transform(X_train)\n",
    "X_test_cvect = cvecter.transform(X_test)\n",
    "#문자열을 숫자로 변환하는거라 정답필요없음?"
   ]
  },
  {
   "cell_type": "code",
   "execution_count": 28,
   "metadata": {},
   "outputs": [
    {
     "output_type": "execute_result",
     "data": {
      "text/plain": [
       "0.8261659352995203"
      ]
     },
     "metadata": {},
     "execution_count": 28
    }
   ],
   "source": [
    "## 파이프라인으로 ㄱㄱ\n",
    "# 분류기만들기\n",
    "lr_clf = LogisticRegression()\n",
    "lr_clf.fit(X_train_cvect, y_train)\n",
    "pred = lr_clf.predict(X_test_cvect)\n",
    "accuracy_score(y_test, pred)\n",
    "#정확도 0.8261 맞췄다...."
   ]
  },
  {
   "cell_type": "code",
   "execution_count": 29,
   "metadata": {},
   "outputs": [],
   "source": [
    "from sklearn.pipeline import Pipeline\n",
    "from sklearn.model_selection import GridSearchCV"
   ]
  },
  {
   "cell_type": "code",
   "execution_count": 30,
   "metadata": {},
   "outputs": [
    {
     "output_type": "stream",
     "name": "stdout",
     "text": [
      "Fitting 3 folds for each of 2 candidates, totalling 6 fits\n",
      "[Parallel(n_jobs=1)]: Using backend SequentialBackend with 1 concurrent workers.\n",
      "[Parallel(n_jobs=1)]: Done   6 out of   6 | elapsed:  1.8min finished\n",
      "{'cvecter__max_df': 0.9, 'cvecter__ngram_range': (1, 2), 'lr_clf__C': 1} 0.8412041895590262\n"
     ]
    }
   ],
   "source": [
    "pipeline = Pipeline([\n",
    "    ('cvecter', CountVectorizer()),\n",
    "    ('lr_clf', LogisticRegression())\n",
    "])\n",
    "params = {\n",
    "    'cvecter__ngram_range': [(1,2),(1,3)],\n",
    "    'cvecter__max_df': [0.9],\n",
    "    'lr_clf__C': [1]\n",
    "}\n",
    "\n",
    "grid_pipe = GridSearchCV(pipeline, param_grid=params, cv=3, scoring='accuracy', verbose=1) #n_jobs=-1\n",
    "grid_pipe.fit(X_train, y_train)\n",
    "print(grid_pipe.best_params_, grid_pipe.best_score_)\n",
    "# 14:30-36초\n",
    "# Fitting 3 folds for each of 1 candidates, totalling 3 fits\n",
    "#[Parallel(n_jobs=1)]: Using backend SequentialBackend with 1 concurrent workers.\n",
    "#[Parallel(n_jobs=1)]: Done   3 out of   3 | elapsed:   36.5s finished\n",
    "#{'cvecter__max_df': 0.9, 'cvecter__ngram_range': (1, 2), 'lr_clf__C': 1} 0.8412041895590262"
   ]
  },
  {
   "cell_type": "code",
   "execution_count": 33,
   "metadata": {},
   "outputs": [
    {
     "output_type": "execute_result",
     "data": {
      "text/plain": [
       "0.8466374119808143"
      ]
     },
     "metadata": {},
     "execution_count": 33
    }
   ],
   "source": [
    "best_cvect_lr = grid_pipe.best_estimator_\n",
    "pred_cvect_lr = best_cvect_lr.predict(X_test)\n",
    "accuracy_score(y_test, pred_cvect_lr)\n",
    "#이거 꼭 해야하나..?  결과값0.8466"
   ]
  },
  {
   "cell_type": "code",
   "execution_count": 34,
   "metadata": {},
   "outputs": [
    {
     "output_type": "execute_result",
     "data": {
      "text/plain": [
       "['../static/model/naver_cvect_lr.pkl']"
      ]
     },
     "metadata": {},
     "execution_count": 34
    }
   ],
   "source": [
    "import joblib\n",
    "joblib.dump(best_cvect_lr, '../static/model/naver_cvect_lr.pkl')"
   ]
  },
  {
   "source": [
    "### TfidfVectorizer로 학습/변환"
   ],
   "cell_type": "markdown",
   "metadata": {}
  },
  {
   "cell_type": "code",
   "execution_count": 35,
   "metadata": {},
   "outputs": [],
   "source": [
    "from konlpy.tag import Okt\n",
    "\n",
    "okt = Okt()\n",
    "def tw_tokenizer(text):\n",
    "    tokens_ko = okt.morphs(text)\n",
    "    return tokens_ko"
   ]
  },
  {
   "cell_type": "code",
   "execution_count": 36,
   "metadata": {},
   "outputs": [],
   "source": [
    "from sklearn.feature_extraction.text import TfidfVectorizer\n",
    "\n",
    "tvecter = TfidfVectorizer(tokenizer=tw_tokenizer, ngram_range=(1,2), min_df=3, max_df=0.9) #여기에 함수사용"
   ]
  },
  {
   "cell_type": "code",
   "execution_count": 37,
   "metadata": {},
   "outputs": [
    {
     "output_type": "execute_result",
     "data": {
      "text/plain": [
       "{'analyzer': 'word',\n",
       " 'binary': False,\n",
       " 'decode_error': 'strict',\n",
       " 'dtype': numpy.float64,\n",
       " 'encoding': 'utf-8',\n",
       " 'input': 'content',\n",
       " 'lowercase': True,\n",
       " 'max_df': 0.9,\n",
       " 'max_features': None,\n",
       " 'min_df': 3,\n",
       " 'ngram_range': (1, 2),\n",
       " 'norm': 'l2',\n",
       " 'preprocessor': None,\n",
       " 'smooth_idf': True,\n",
       " 'stop_words': None,\n",
       " 'strip_accents': None,\n",
       " 'sublinear_tf': False,\n",
       " 'token_pattern': '(?u)\\\\b\\\\w\\\\w+\\\\b',\n",
       " 'tokenizer': <function __main__.tw_tokenizer(text)>,\n",
       " 'use_idf': True,\n",
       " 'vocabulary': None}"
      ]
     },
     "metadata": {},
     "execution_count": 37
    }
   ],
   "source": [
    "tvecter.get_params()"
   ]
  },
  {
   "cell_type": "code",
   "execution_count": 38,
   "metadata": {},
   "outputs": [
    {
     "output_type": "stream",
     "name": "stdout",
     "text": [
      "Fitting 3 folds for each of 2 candidates, totalling 6 fits\n",
      "[Parallel(n_jobs=1)]: Using backend SequentialBackend with 1 concurrent workers.\n",
      "[Parallel(n_jobs=1)]: Done   6 out of   6 | elapsed:  1.2min finished\n",
      "{'lr_clf__C': 3.5, 'tvecter__max_df': 0.9, 'tvecter__ngram_range': (1, 2)} 0.842425115404929\n"
     ]
    }
   ],
   "source": [
    "pipeline = Pipeline([\n",
    "    ('tvecter', TfidfVectorizer()),\n",
    "    ('lr_clf', LogisticRegression())\n",
    "])\n",
    "params = {\n",
    "    'tvecter__ngram_range': [(1,2)],\n",
    "    'tvecter__max_df': [0.9],\n",
    "    'lr_clf__C': [1, 3.5]\n",
    "}\n",
    "\n",
    "grid_pipe = GridSearchCV(pipeline, param_grid=params, cv=3, scoring='accuracy', verbose=1) #n_jobs=-1\n",
    "grid_pipe.fit(X_train, y_train)\n",
    "print(grid_pipe.best_params_, grid_pipe.best_score_)\n",
    "#15:13~2분소요\n",
    "# Fitting 3 folds for each of 2 candidates, totalling 6 fits\n",
    "# [Parallel(n_jobs=1)]: Using backend SequentialBackend with 1 concurrent workers.\n",
    "# [Parallel(n_jobs=1)]: Done   6 out of   6 | elapsed:  1.2min finished\n",
    "# {'lr_clf__C': 3.5, 'tvecter__max_df': 0.9, 'tvecter__ngram_range': (1, 2)} 0.842425115404929"
   ]
  },
  {
   "cell_type": "code",
   "execution_count": 39,
   "metadata": {},
   "outputs": [
    {
     "output_type": "execute_result",
     "data": {
      "text/plain": [
       "0.8488213082967649"
      ]
     },
     "metadata": {},
     "execution_count": 39
    }
   ],
   "source": [
    "best_tvect_lr = grid_pipe.best_estimator_\n",
    "pred_tvect_lr = best_tvect_lr.predict(X_test)\n",
    "accuracy_score(y_test, pred_tvect_lr)\n",
    "#이거 꼭 해야하나..?  cvect결과값0.8466\n",
    "#tvect결과값0.8488"
   ]
  },
  {
   "cell_type": "code",
   "execution_count": 40,
   "metadata": {},
   "outputs": [
    {
     "output_type": "execute_result",
     "data": {
      "text/plain": [
       "['../static/model/naver_tvect_lr.pkl']"
      ]
     },
     "metadata": {},
     "execution_count": 40
    }
   ],
   "source": [
    "import joblib\n",
    "joblib.dump(best_tvect_lr, '../static/model/naver_tvect_lr.pkl')"
   ]
  },
  {
   "source": [
    "# TEST"
   ],
   "cell_type": "markdown",
   "metadata": {}
  },
  {
   "cell_type": "code",
   "execution_count": 63,
   "metadata": {},
   "outputs": [],
   "source": [
    "index = 1004"
   ]
  },
  {
   "cell_type": "code",
   "execution_count": 64,
   "metadata": {},
   "outputs": [],
   "source": [
    "#인덱스일경우 test_data만드는방법(vectorizer가받을수있는 1차원으로)\n",
    "test_data = []\n",
    "test_data.append(df_test.iloc[index, 0])"
   ]
  },
  {
   "cell_type": "code",
   "execution_count": 71,
   "metadata": {},
   "outputs": [],
   "source": [
    "review_string = '재미있었어요'"
   ]
  },
  {
   "cell_type": "code",
   "execution_count": 72,
   "metadata": {},
   "outputs": [],
   "source": [
    "#리뷰입력일경우 test_data만드는방법(vectorizer가받을수있는 1차원으로)\n",
    "test_data = []\n",
    "test_data.append(review_string)"
   ]
  },
  {
   "cell_type": "code",
   "execution_count": 73,
   "metadata": {},
   "outputs": [
    {
     "output_type": "execute_result",
     "data": {
      "text/plain": [
       "['재미있었어요']"
      ]
     },
     "metadata": {},
     "execution_count": 73
    }
   ],
   "source": [
    "test_data"
   ]
  },
  {
   "cell_type": "code",
   "execution_count": 74,
   "metadata": {},
   "outputs": [
    {
     "output_type": "execute_result",
     "data": {
      "text/plain": [
       "1"
      ]
     },
     "metadata": {},
     "execution_count": 74
    }
   ],
   "source": [
    "label = df_test.label[index]\n",
    "label"
   ]
  },
  {
   "cell_type": "code",
   "execution_count": 75,
   "metadata": {},
   "outputs": [],
   "source": [
    "model_clr = joblib.load('../static/model/naver_cvect_lr.pkl')\n",
    "model_tlr = joblib.load('../static/model/naver_tvect_lr.pkl')"
   ]
  },
  {
   "cell_type": "code",
   "execution_count": 76,
   "metadata": {},
   "outputs": [],
   "source": [
    "pred_clr = model_clr.predict(test_data)\n",
    "pred_tlr = model_tlr.predict(test_data)"
   ]
  },
  {
   "cell_type": "code",
   "execution_count": 77,
   "metadata": {},
   "outputs": [
    {
     "output_type": "execute_result",
     "data": {
      "text/plain": [
       "(0, 0)"
      ]
     },
     "metadata": {},
     "execution_count": 77
    }
   ],
   "source": [
    "pred_clr[0], pred_tlr[0]"
   ]
  },
  {
   "cell_type": "code",
   "execution_count": null,
   "metadata": {},
   "outputs": [],
   "source": []
  }
 ]
}