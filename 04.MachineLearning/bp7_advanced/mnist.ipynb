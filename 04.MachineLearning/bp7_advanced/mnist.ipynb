{
 "metadata": {
  "language_info": {
   "codemirror_mode": {
    "name": "ipython",
    "version": 3
   },
   "file_extension": ".py",
   "mimetype": "text/x-python",
   "name": "python",
   "nbconvert_exporter": "python",
   "pygments_lexer": "ipython3",
   "version": "3.8.5-final"
  },
  "orig_nbformat": 2,
  "kernelspec": {
   "name": "python3",
   "display_name": "Python 3",
   "language": "python"
  }
 },
 "nbformat": 4,
 "nbformat_minor": 2,
 "cells": [
  {
   "source": [
    "## MNIST Original Hand-written Images"
   ],
   "cell_type": "markdown",
   "metadata": {}
  },
  {
   "cell_type": "code",
   "execution_count": 3,
   "metadata": {},
   "outputs": [],
   "source": [
    "import joblib\n",
    "import numpy as np \n",
    "import pandas as pd \n",
    "import matplotlib.pyplot as plt \n",
    "%matplotlib inline"
   ]
  },
  {
   "cell_type": "code",
   "execution_count": 19,
   "metadata": {},
   "outputs": [],
   "source": [
    "from sklearn.preprocessing import MinMaxScaler\n",
    "from sklearn.linear_model import LogisticRegression\n",
    "from sklearn.svm import SVC\n",
    "from sklearn.ensemble import RandomForestClassifier\n",
    "from sklearn.model_selection import GridSearchCV\n",
    "from sklearn.metrics import accuracy_score\n",
    "from sklearn.model_selection import train_test_split"
   ]
  },
  {
   "cell_type": "code",
   "execution_count": 57,
   "metadata": {},
   "outputs": [
    {
     "output_type": "execute_result",
     "data": {
      "text/plain": [
       "(42000, 785)"
      ]
     },
     "metadata": {},
     "execution_count": 57
    }
   ],
   "source": [
    "train=pd.read_csv('../static/data/mnist/train.csv', header=0, index_col=None)\n",
    "train.shape\n",
    "#캐글어디서.. #Train(42000, 785)레이블주고, test28,000건 레이블y값을안줌;;;;\n",
    "#   그래서 train으로 다하셨다고... \n",
    "#  [Keras에서는 Train60,000건, Test10,000건]"
   ]
  },
  {
   "cell_type": "code",
   "execution_count": 58,
   "metadata": {},
   "outputs": [
    {
     "output_type": "execute_result",
     "data": {
      "text/plain": [
       "   label  pixel0  pixel1  pixel2  pixel3  pixel4  pixel5  pixel6  pixel7  \\\n",
       "0      1       0       0       0       0       0       0       0       0   \n",
       "1      0       0       0       0       0       0       0       0       0   \n",
       "2      1       0       0       0       0       0       0       0       0   \n",
       "3      4       0       0       0       0       0       0       0       0   \n",
       "4      0       0       0       0       0       0       0       0       0   \n",
       "\n",
       "   pixel8  ...  pixel774  pixel775  pixel776  pixel777  pixel778  pixel779  \\\n",
       "0       0  ...         0         0         0         0         0         0   \n",
       "1       0  ...         0         0         0         0         0         0   \n",
       "2       0  ...         0         0         0         0         0         0   \n",
       "3       0  ...         0         0         0         0         0         0   \n",
       "4       0  ...         0         0         0         0         0         0   \n",
       "\n",
       "   pixel780  pixel781  pixel782  pixel783  \n",
       "0         0         0         0         0  \n",
       "1         0         0         0         0  \n",
       "2         0         0         0         0  \n",
       "3         0         0         0         0  \n",
       "4         0         0         0         0  \n",
       "\n",
       "[5 rows x 785 columns]"
      ],
      "text/html": "<div>\n<style scoped>\n    .dataframe tbody tr th:only-of-type {\n        vertical-align: middle;\n    }\n\n    .dataframe tbody tr th {\n        vertical-align: top;\n    }\n\n    .dataframe thead th {\n        text-align: right;\n    }\n</style>\n<table border=\"1\" class=\"dataframe\">\n  <thead>\n    <tr style=\"text-align: right;\">\n      <th></th>\n      <th>label</th>\n      <th>pixel0</th>\n      <th>pixel1</th>\n      <th>pixel2</th>\n      <th>pixel3</th>\n      <th>pixel4</th>\n      <th>pixel5</th>\n      <th>pixel6</th>\n      <th>pixel7</th>\n      <th>pixel8</th>\n      <th>...</th>\n      <th>pixel774</th>\n      <th>pixel775</th>\n      <th>pixel776</th>\n      <th>pixel777</th>\n      <th>pixel778</th>\n      <th>pixel779</th>\n      <th>pixel780</th>\n      <th>pixel781</th>\n      <th>pixel782</th>\n      <th>pixel783</th>\n    </tr>\n  </thead>\n  <tbody>\n    <tr>\n      <th>0</th>\n      <td>1</td>\n      <td>0</td>\n      <td>0</td>\n      <td>0</td>\n      <td>0</td>\n      <td>0</td>\n      <td>0</td>\n      <td>0</td>\n      <td>0</td>\n      <td>0</td>\n      <td>...</td>\n      <td>0</td>\n      <td>0</td>\n      <td>0</td>\n      <td>0</td>\n      <td>0</td>\n      <td>0</td>\n      <td>0</td>\n      <td>0</td>\n      <td>0</td>\n      <td>0</td>\n    </tr>\n    <tr>\n      <th>1</th>\n      <td>0</td>\n      <td>0</td>\n      <td>0</td>\n      <td>0</td>\n      <td>0</td>\n      <td>0</td>\n      <td>0</td>\n      <td>0</td>\n      <td>0</td>\n      <td>0</td>\n      <td>...</td>\n      <td>0</td>\n      <td>0</td>\n      <td>0</td>\n      <td>0</td>\n      <td>0</td>\n      <td>0</td>\n      <td>0</td>\n      <td>0</td>\n      <td>0</td>\n      <td>0</td>\n    </tr>\n    <tr>\n      <th>2</th>\n      <td>1</td>\n      <td>0</td>\n      <td>0</td>\n      <td>0</td>\n      <td>0</td>\n      <td>0</td>\n      <td>0</td>\n      <td>0</td>\n      <td>0</td>\n      <td>0</td>\n      <td>...</td>\n      <td>0</td>\n      <td>0</td>\n      <td>0</td>\n      <td>0</td>\n      <td>0</td>\n      <td>0</td>\n      <td>0</td>\n      <td>0</td>\n      <td>0</td>\n      <td>0</td>\n    </tr>\n    <tr>\n      <th>3</th>\n      <td>4</td>\n      <td>0</td>\n      <td>0</td>\n      <td>0</td>\n      <td>0</td>\n      <td>0</td>\n      <td>0</td>\n      <td>0</td>\n      <td>0</td>\n      <td>0</td>\n      <td>...</td>\n      <td>0</td>\n      <td>0</td>\n      <td>0</td>\n      <td>0</td>\n      <td>0</td>\n      <td>0</td>\n      <td>0</td>\n      <td>0</td>\n      <td>0</td>\n      <td>0</td>\n    </tr>\n    <tr>\n      <th>4</th>\n      <td>0</td>\n      <td>0</td>\n      <td>0</td>\n      <td>0</td>\n      <td>0</td>\n      <td>0</td>\n      <td>0</td>\n      <td>0</td>\n      <td>0</td>\n      <td>0</td>\n      <td>...</td>\n      <td>0</td>\n      <td>0</td>\n      <td>0</td>\n      <td>0</td>\n      <td>0</td>\n      <td>0</td>\n      <td>0</td>\n      <td>0</td>\n      <td>0</td>\n      <td>0</td>\n    </tr>\n  </tbody>\n</table>\n<p>5 rows × 785 columns</p>\n</div>"
     },
     "metadata": {},
     "execution_count": 58
    }
   ],
   "source": [
    "train.head()"
   ]
  },
  {
   "cell_type": "code",
   "execution_count": 59,
   "metadata": {},
   "outputs": [
    {
     "output_type": "execute_result",
     "data": {
      "text/plain": [
       "       pixel0  pixel1  pixel2  pixel3  pixel4  pixel5  pixel6  pixel7  pixel8  \\\n",
       "0           0       0       0       0       0       0       0       0       0   \n",
       "1           0       0       0       0       0       0       0       0       0   \n",
       "2           0       0       0       0       0       0       0       0       0   \n",
       "3           0       0       0       0       0       0       0       0       0   \n",
       "4           0       0       0       0       0       0       0       0       0   \n",
       "...       ...     ...     ...     ...     ...     ...     ...     ...     ...   \n",
       "41995       0       0       0       0       0       0       0       0       0   \n",
       "41996       0       0       0       0       0       0       0       0       0   \n",
       "41997       0       0       0       0       0       0       0       0       0   \n",
       "41998       0       0       0       0       0       0       0       0       0   \n",
       "41999       0       0       0       0       0       0       0       0       0   \n",
       "\n",
       "       pixel9  ...  pixel774  pixel775  pixel776  pixel777  pixel778  \\\n",
       "0           0  ...         0         0         0         0         0   \n",
       "1           0  ...         0         0         0         0         0   \n",
       "2           0  ...         0         0         0         0         0   \n",
       "3           0  ...         0         0         0         0         0   \n",
       "4           0  ...         0         0         0         0         0   \n",
       "...       ...  ...       ...       ...       ...       ...       ...   \n",
       "41995       0  ...         0         0         0         0         0   \n",
       "41996       0  ...         0         0         0         0         0   \n",
       "41997       0  ...         0         0         0         0         0   \n",
       "41998       0  ...         0         0         0         0         0   \n",
       "41999       0  ...         0         0         0         0         0   \n",
       "\n",
       "       pixel779  pixel780  pixel781  pixel782  pixel783  \n",
       "0             0         0         0         0         0  \n",
       "1             0         0         0         0         0  \n",
       "2             0         0         0         0         0  \n",
       "3             0         0         0         0         0  \n",
       "4             0         0         0         0         0  \n",
       "...         ...       ...       ...       ...       ...  \n",
       "41995         0         0         0         0         0  \n",
       "41996         0         0         0         0         0  \n",
       "41997         0         0         0         0         0  \n",
       "41998         0         0         0         0         0  \n",
       "41999         0         0         0         0         0  \n",
       "\n",
       "[42000 rows x 784 columns]"
      ],
      "text/html": "<div>\n<style scoped>\n    .dataframe tbody tr th:only-of-type {\n        vertical-align: middle;\n    }\n\n    .dataframe tbody tr th {\n        vertical-align: top;\n    }\n\n    .dataframe thead th {\n        text-align: right;\n    }\n</style>\n<table border=\"1\" class=\"dataframe\">\n  <thead>\n    <tr style=\"text-align: right;\">\n      <th></th>\n      <th>pixel0</th>\n      <th>pixel1</th>\n      <th>pixel2</th>\n      <th>pixel3</th>\n      <th>pixel4</th>\n      <th>pixel5</th>\n      <th>pixel6</th>\n      <th>pixel7</th>\n      <th>pixel8</th>\n      <th>pixel9</th>\n      <th>...</th>\n      <th>pixel774</th>\n      <th>pixel775</th>\n      <th>pixel776</th>\n      <th>pixel777</th>\n      <th>pixel778</th>\n      <th>pixel779</th>\n      <th>pixel780</th>\n      <th>pixel781</th>\n      <th>pixel782</th>\n      <th>pixel783</th>\n    </tr>\n  </thead>\n  <tbody>\n    <tr>\n      <th>0</th>\n      <td>0</td>\n      <td>0</td>\n      <td>0</td>\n      <td>0</td>\n      <td>0</td>\n      <td>0</td>\n      <td>0</td>\n      <td>0</td>\n      <td>0</td>\n      <td>0</td>\n      <td>...</td>\n      <td>0</td>\n      <td>0</td>\n      <td>0</td>\n      <td>0</td>\n      <td>0</td>\n      <td>0</td>\n      <td>0</td>\n      <td>0</td>\n      <td>0</td>\n      <td>0</td>\n    </tr>\n    <tr>\n      <th>1</th>\n      <td>0</td>\n      <td>0</td>\n      <td>0</td>\n      <td>0</td>\n      <td>0</td>\n      <td>0</td>\n      <td>0</td>\n      <td>0</td>\n      <td>0</td>\n      <td>0</td>\n      <td>...</td>\n      <td>0</td>\n      <td>0</td>\n      <td>0</td>\n      <td>0</td>\n      <td>0</td>\n      <td>0</td>\n      <td>0</td>\n      <td>0</td>\n      <td>0</td>\n      <td>0</td>\n    </tr>\n    <tr>\n      <th>2</th>\n      <td>0</td>\n      <td>0</td>\n      <td>0</td>\n      <td>0</td>\n      <td>0</td>\n      <td>0</td>\n      <td>0</td>\n      <td>0</td>\n      <td>0</td>\n      <td>0</td>\n      <td>...</td>\n      <td>0</td>\n      <td>0</td>\n      <td>0</td>\n      <td>0</td>\n      <td>0</td>\n      <td>0</td>\n      <td>0</td>\n      <td>0</td>\n      <td>0</td>\n      <td>0</td>\n    </tr>\n    <tr>\n      <th>3</th>\n      <td>0</td>\n      <td>0</td>\n      <td>0</td>\n      <td>0</td>\n      <td>0</td>\n      <td>0</td>\n      <td>0</td>\n      <td>0</td>\n      <td>0</td>\n      <td>0</td>\n      <td>...</td>\n      <td>0</td>\n      <td>0</td>\n      <td>0</td>\n      <td>0</td>\n      <td>0</td>\n      <td>0</td>\n      <td>0</td>\n      <td>0</td>\n      <td>0</td>\n      <td>0</td>\n    </tr>\n    <tr>\n      <th>4</th>\n      <td>0</td>\n      <td>0</td>\n      <td>0</td>\n      <td>0</td>\n      <td>0</td>\n      <td>0</td>\n      <td>0</td>\n      <td>0</td>\n      <td>0</td>\n      <td>0</td>\n      <td>...</td>\n      <td>0</td>\n      <td>0</td>\n      <td>0</td>\n      <td>0</td>\n      <td>0</td>\n      <td>0</td>\n      <td>0</td>\n      <td>0</td>\n      <td>0</td>\n      <td>0</td>\n    </tr>\n    <tr>\n      <th>...</th>\n      <td>...</td>\n      <td>...</td>\n      <td>...</td>\n      <td>...</td>\n      <td>...</td>\n      <td>...</td>\n      <td>...</td>\n      <td>...</td>\n      <td>...</td>\n      <td>...</td>\n      <td>...</td>\n      <td>...</td>\n      <td>...</td>\n      <td>...</td>\n      <td>...</td>\n      <td>...</td>\n      <td>...</td>\n      <td>...</td>\n      <td>...</td>\n      <td>...</td>\n      <td>...</td>\n    </tr>\n    <tr>\n      <th>41995</th>\n      <td>0</td>\n      <td>0</td>\n      <td>0</td>\n      <td>0</td>\n      <td>0</td>\n      <td>0</td>\n      <td>0</td>\n      <td>0</td>\n      <td>0</td>\n      <td>0</td>\n      <td>...</td>\n      <td>0</td>\n      <td>0</td>\n      <td>0</td>\n      <td>0</td>\n      <td>0</td>\n      <td>0</td>\n      <td>0</td>\n      <td>0</td>\n      <td>0</td>\n      <td>0</td>\n    </tr>\n    <tr>\n      <th>41996</th>\n      <td>0</td>\n      <td>0</td>\n      <td>0</td>\n      <td>0</td>\n      <td>0</td>\n      <td>0</td>\n      <td>0</td>\n      <td>0</td>\n      <td>0</td>\n      <td>0</td>\n      <td>...</td>\n      <td>0</td>\n      <td>0</td>\n      <td>0</td>\n      <td>0</td>\n      <td>0</td>\n      <td>0</td>\n      <td>0</td>\n      <td>0</td>\n      <td>0</td>\n      <td>0</td>\n    </tr>\n    <tr>\n      <th>41997</th>\n      <td>0</td>\n      <td>0</td>\n      <td>0</td>\n      <td>0</td>\n      <td>0</td>\n      <td>0</td>\n      <td>0</td>\n      <td>0</td>\n      <td>0</td>\n      <td>0</td>\n      <td>...</td>\n      <td>0</td>\n      <td>0</td>\n      <td>0</td>\n      <td>0</td>\n      <td>0</td>\n      <td>0</td>\n      <td>0</td>\n      <td>0</td>\n      <td>0</td>\n      <td>0</td>\n    </tr>\n    <tr>\n      <th>41998</th>\n      <td>0</td>\n      <td>0</td>\n      <td>0</td>\n      <td>0</td>\n      <td>0</td>\n      <td>0</td>\n      <td>0</td>\n      <td>0</td>\n      <td>0</td>\n      <td>0</td>\n      <td>...</td>\n      <td>0</td>\n      <td>0</td>\n      <td>0</td>\n      <td>0</td>\n      <td>0</td>\n      <td>0</td>\n      <td>0</td>\n      <td>0</td>\n      <td>0</td>\n      <td>0</td>\n    </tr>\n    <tr>\n      <th>41999</th>\n      <td>0</td>\n      <td>0</td>\n      <td>0</td>\n      <td>0</td>\n      <td>0</td>\n      <td>0</td>\n      <td>0</td>\n      <td>0</td>\n      <td>0</td>\n      <td>0</td>\n      <td>...</td>\n      <td>0</td>\n      <td>0</td>\n      <td>0</td>\n      <td>0</td>\n      <td>0</td>\n      <td>0</td>\n      <td>0</td>\n      <td>0</td>\n      <td>0</td>\n      <td>0</td>\n    </tr>\n  </tbody>\n</table>\n<p>42000 rows × 784 columns</p>\n</div>"
     },
     "metadata": {},
     "execution_count": 59
    }
   ],
   "source": [
    "train.iloc[:, 1:]"
   ]
  },
  {
   "cell_type": "code",
   "execution_count": 60,
   "metadata": {},
   "outputs": [
    {
     "output_type": "execute_result",
     "data": {
      "text/plain": [
       "((31500, 784), (10500, 784), (31500,), (10500,))"
      ]
     },
     "metadata": {},
     "execution_count": 60
    }
   ],
   "source": [
    "X_train, X_test, y_train, y_test = train_test_split(\n",
    "    train.iloc[:, 1:], train.label, stratify=train.label, test_size=0.25, random_state=2021\n",
    ")\n",
    "X_train.shape, X_test.shape, y_train.shape, y_test.shape\n",
    "#((31500, 784), (10500, 784), (31500,), (10500,))"
   ]
  },
  {
   "cell_type": "code",
   "execution_count": 61,
   "metadata": {},
   "outputs": [],
   "source": [
    "df_test = pd.DataFrame(X_test, columns=X_test.columns)\n",
    "df_test['target'] = y_test\n",
    "df_test.to_csv('../static/data/mnist/mnist_test.csv', index=False)\n",
    "#train데이터는 쓸모가없다;별도훈련할것이 아니라, 여기에있는걸로 훈련시켜서 모델만 save할꺼기 때문에"
   ]
  },
  {
   "cell_type": "code",
   "execution_count": 62,
   "metadata": {},
   "outputs": [
    {
     "output_type": "execute_result",
     "data": {
      "text/plain": [
       "       pixel0  pixel1  pixel2  pixel3  pixel4  pixel5  pixel6  pixel7  pixel8  \\\n",
       "30933       0       0       0       0       0       0       0       0       0   \n",
       "39199       0       0       0       0       0       0       0       0       0   \n",
       "23092       0       0       0       0       0       0       0       0       0   \n",
       "25898       0       0       0       0       0       0       0       0       0   \n",
       "41775       0       0       0       0       0       0       0       0       0   \n",
       "...       ...     ...     ...     ...     ...     ...     ...     ...     ...   \n",
       "31645       0       0       0       0       0       0       0       0       0   \n",
       "41966       0       0       0       0       0       0       0       0       0   \n",
       "498         0       0       0       0       0       0       0       0       0   \n",
       "4449        0       0       0       0       0       0       0       0       0   \n",
       "29302       0       0       0       0       0       0       0       0       0   \n",
       "\n",
       "       pixel9  ...  pixel775  pixel776  pixel777  pixel778  pixel779  \\\n",
       "30933       0  ...         0         0         0         0         0   \n",
       "39199       0  ...         0         0         0         0         0   \n",
       "23092       0  ...         0         0         0         0         0   \n",
       "25898       0  ...         0         0         0         0         0   \n",
       "41775       0  ...         0         0         0         0         0   \n",
       "...       ...  ...       ...       ...       ...       ...       ...   \n",
       "31645       0  ...         0         0         0         0         0   \n",
       "41966       0  ...         0         0         0         0         0   \n",
       "498         0  ...         0         0         0         0         0   \n",
       "4449        0  ...         0         0         0         0         0   \n",
       "29302       0  ...         0         0         0         0         0   \n",
       "\n",
       "       pixel780  pixel781  pixel782  pixel783  target  \n",
       "30933         0         0         0         0       4  \n",
       "39199         0         0         0         0       3  \n",
       "23092         0         0         0         0       8  \n",
       "25898         0         0         0         0       6  \n",
       "41775         0         0         0         0       9  \n",
       "...         ...       ...       ...       ...     ...  \n",
       "31645         0         0         0         0       6  \n",
       "41966         0         0         0         0       4  \n",
       "498           0         0         0         0       5  \n",
       "4449          0         0         0         0       9  \n",
       "29302         0         0         0         0       7  \n",
       "\n",
       "[10500 rows x 785 columns]"
      ],
      "text/html": "<div>\n<style scoped>\n    .dataframe tbody tr th:only-of-type {\n        vertical-align: middle;\n    }\n\n    .dataframe tbody tr th {\n        vertical-align: top;\n    }\n\n    .dataframe thead th {\n        text-align: right;\n    }\n</style>\n<table border=\"1\" class=\"dataframe\">\n  <thead>\n    <tr style=\"text-align: right;\">\n      <th></th>\n      <th>pixel0</th>\n      <th>pixel1</th>\n      <th>pixel2</th>\n      <th>pixel3</th>\n      <th>pixel4</th>\n      <th>pixel5</th>\n      <th>pixel6</th>\n      <th>pixel7</th>\n      <th>pixel8</th>\n      <th>pixel9</th>\n      <th>...</th>\n      <th>pixel775</th>\n      <th>pixel776</th>\n      <th>pixel777</th>\n      <th>pixel778</th>\n      <th>pixel779</th>\n      <th>pixel780</th>\n      <th>pixel781</th>\n      <th>pixel782</th>\n      <th>pixel783</th>\n      <th>target</th>\n    </tr>\n  </thead>\n  <tbody>\n    <tr>\n      <th>30933</th>\n      <td>0</td>\n      <td>0</td>\n      <td>0</td>\n      <td>0</td>\n      <td>0</td>\n      <td>0</td>\n      <td>0</td>\n      <td>0</td>\n      <td>0</td>\n      <td>0</td>\n      <td>...</td>\n      <td>0</td>\n      <td>0</td>\n      <td>0</td>\n      <td>0</td>\n      <td>0</td>\n      <td>0</td>\n      <td>0</td>\n      <td>0</td>\n      <td>0</td>\n      <td>4</td>\n    </tr>\n    <tr>\n      <th>39199</th>\n      <td>0</td>\n      <td>0</td>\n      <td>0</td>\n      <td>0</td>\n      <td>0</td>\n      <td>0</td>\n      <td>0</td>\n      <td>0</td>\n      <td>0</td>\n      <td>0</td>\n      <td>...</td>\n      <td>0</td>\n      <td>0</td>\n      <td>0</td>\n      <td>0</td>\n      <td>0</td>\n      <td>0</td>\n      <td>0</td>\n      <td>0</td>\n      <td>0</td>\n      <td>3</td>\n    </tr>\n    <tr>\n      <th>23092</th>\n      <td>0</td>\n      <td>0</td>\n      <td>0</td>\n      <td>0</td>\n      <td>0</td>\n      <td>0</td>\n      <td>0</td>\n      <td>0</td>\n      <td>0</td>\n      <td>0</td>\n      <td>...</td>\n      <td>0</td>\n      <td>0</td>\n      <td>0</td>\n      <td>0</td>\n      <td>0</td>\n      <td>0</td>\n      <td>0</td>\n      <td>0</td>\n      <td>0</td>\n      <td>8</td>\n    </tr>\n    <tr>\n      <th>25898</th>\n      <td>0</td>\n      <td>0</td>\n      <td>0</td>\n      <td>0</td>\n      <td>0</td>\n      <td>0</td>\n      <td>0</td>\n      <td>0</td>\n      <td>0</td>\n      <td>0</td>\n      <td>...</td>\n      <td>0</td>\n      <td>0</td>\n      <td>0</td>\n      <td>0</td>\n      <td>0</td>\n      <td>0</td>\n      <td>0</td>\n      <td>0</td>\n      <td>0</td>\n      <td>6</td>\n    </tr>\n    <tr>\n      <th>41775</th>\n      <td>0</td>\n      <td>0</td>\n      <td>0</td>\n      <td>0</td>\n      <td>0</td>\n      <td>0</td>\n      <td>0</td>\n      <td>0</td>\n      <td>0</td>\n      <td>0</td>\n      <td>...</td>\n      <td>0</td>\n      <td>0</td>\n      <td>0</td>\n      <td>0</td>\n      <td>0</td>\n      <td>0</td>\n      <td>0</td>\n      <td>0</td>\n      <td>0</td>\n      <td>9</td>\n    </tr>\n    <tr>\n      <th>...</th>\n      <td>...</td>\n      <td>...</td>\n      <td>...</td>\n      <td>...</td>\n      <td>...</td>\n      <td>...</td>\n      <td>...</td>\n      <td>...</td>\n      <td>...</td>\n      <td>...</td>\n      <td>...</td>\n      <td>...</td>\n      <td>...</td>\n      <td>...</td>\n      <td>...</td>\n      <td>...</td>\n      <td>...</td>\n      <td>...</td>\n      <td>...</td>\n      <td>...</td>\n      <td>...</td>\n    </tr>\n    <tr>\n      <th>31645</th>\n      <td>0</td>\n      <td>0</td>\n      <td>0</td>\n      <td>0</td>\n      <td>0</td>\n      <td>0</td>\n      <td>0</td>\n      <td>0</td>\n      <td>0</td>\n      <td>0</td>\n      <td>...</td>\n      <td>0</td>\n      <td>0</td>\n      <td>0</td>\n      <td>0</td>\n      <td>0</td>\n      <td>0</td>\n      <td>0</td>\n      <td>0</td>\n      <td>0</td>\n      <td>6</td>\n    </tr>\n    <tr>\n      <th>41966</th>\n      <td>0</td>\n      <td>0</td>\n      <td>0</td>\n      <td>0</td>\n      <td>0</td>\n      <td>0</td>\n      <td>0</td>\n      <td>0</td>\n      <td>0</td>\n      <td>0</td>\n      <td>...</td>\n      <td>0</td>\n      <td>0</td>\n      <td>0</td>\n      <td>0</td>\n      <td>0</td>\n      <td>0</td>\n      <td>0</td>\n      <td>0</td>\n      <td>0</td>\n      <td>4</td>\n    </tr>\n    <tr>\n      <th>498</th>\n      <td>0</td>\n      <td>0</td>\n      <td>0</td>\n      <td>0</td>\n      <td>0</td>\n      <td>0</td>\n      <td>0</td>\n      <td>0</td>\n      <td>0</td>\n      <td>0</td>\n      <td>...</td>\n      <td>0</td>\n      <td>0</td>\n      <td>0</td>\n      <td>0</td>\n      <td>0</td>\n      <td>0</td>\n      <td>0</td>\n      <td>0</td>\n      <td>0</td>\n      <td>5</td>\n    </tr>\n    <tr>\n      <th>4449</th>\n      <td>0</td>\n      <td>0</td>\n      <td>0</td>\n      <td>0</td>\n      <td>0</td>\n      <td>0</td>\n      <td>0</td>\n      <td>0</td>\n      <td>0</td>\n      <td>0</td>\n      <td>...</td>\n      <td>0</td>\n      <td>0</td>\n      <td>0</td>\n      <td>0</td>\n      <td>0</td>\n      <td>0</td>\n      <td>0</td>\n      <td>0</td>\n      <td>0</td>\n      <td>9</td>\n    </tr>\n    <tr>\n      <th>29302</th>\n      <td>0</td>\n      <td>0</td>\n      <td>0</td>\n      <td>0</td>\n      <td>0</td>\n      <td>0</td>\n      <td>0</td>\n      <td>0</td>\n      <td>0</td>\n      <td>0</td>\n      <td>...</td>\n      <td>0</td>\n      <td>0</td>\n      <td>0</td>\n      <td>0</td>\n      <td>0</td>\n      <td>0</td>\n      <td>0</td>\n      <td>0</td>\n      <td>0</td>\n      <td>7</td>\n    </tr>\n  </tbody>\n</table>\n<p>10500 rows × 785 columns</p>\n</div>"
     },
     "metadata": {},
     "execution_count": 62
    }
   ],
   "source": [
    "df_test"
   ]
  },
  {
   "cell_type": "code",
   "execution_count": 63,
   "metadata": {},
   "outputs": [
    {
     "output_type": "execute_result",
     "data": {
      "text/plain": [
       "MinMaxScaler()"
      ]
     },
     "metadata": {},
     "execution_count": 63
    }
   ],
   "source": [
    "scaler = MinMaxScaler()\n",
    "scaler.fit(X_train)"
   ]
  },
  {
   "cell_type": "code",
   "execution_count": 65,
   "metadata": {},
   "outputs": [],
   "source": [
    "X_train_scaled = scaler.transform(X_train)"
   ]
  },
  {
   "cell_type": "code",
   "execution_count": 66,
   "metadata": {},
   "outputs": [
    {
     "output_type": "execute_result",
     "data": {
      "text/plain": [
       "       pixel0  pixel1  pixel2  pixel3  pixel4  pixel5  pixel6  pixel7  pixel8  \\\n",
       "334         0       0       0       0       0       0       0       0       0   \n",
       "39552       0       0       0       0       0       0       0       0       0   \n",
       "1420        0       0       0       0       0       0       0       0       0   \n",
       "23650       0       0       0       0       0       0       0       0       0   \n",
       "37284       0       0       0       0       0       0       0       0       0   \n",
       "...       ...     ...     ...     ...     ...     ...     ...     ...     ...   \n",
       "38151       0       0       0       0       0       0       0       0       0   \n",
       "11746       0       0       0       0       0       0       0       0       0   \n",
       "30560       0       0       0       0       0       0       0       0       0   \n",
       "24719       0       0       0       0       0       0       0       0       0   \n",
       "40207       0       0       0       0       0       0       0       0       0   \n",
       "\n",
       "       pixel9  ...  pixel774  pixel775  pixel776  pixel777  pixel778  \\\n",
       "334         0  ...         0         0         0         0         0   \n",
       "39552       0  ...         0         0         0         0         0   \n",
       "1420        0  ...         0         0         0         0         0   \n",
       "23650       0  ...         0         0         0         0         0   \n",
       "37284       0  ...         0         0         0         0         0   \n",
       "...       ...  ...       ...       ...       ...       ...       ...   \n",
       "38151       0  ...         0         0         0         0         0   \n",
       "11746       0  ...         0         0         0         0         0   \n",
       "30560       0  ...         0         0         0         0         0   \n",
       "24719       0  ...         0         0         0         0         0   \n",
       "40207       0  ...         0         0         0         0         0   \n",
       "\n",
       "       pixel779  pixel780  pixel781  pixel782  pixel783  \n",
       "334           0         0         0         0         0  \n",
       "39552         0         0         0         0         0  \n",
       "1420          0         0         0         0         0  \n",
       "23650         0         0         0         0         0  \n",
       "37284         0         0         0         0         0  \n",
       "...         ...       ...       ...       ...       ...  \n",
       "38151         0         0         0         0         0  \n",
       "11746         0         0         0         0         0  \n",
       "30560         0         0         0         0         0  \n",
       "24719         0         0         0         0         0  \n",
       "40207         0         0         0         0         0  \n",
       "\n",
       "[31500 rows x 784 columns]"
      ],
      "text/html": "<div>\n<style scoped>\n    .dataframe tbody tr th:only-of-type {\n        vertical-align: middle;\n    }\n\n    .dataframe tbody tr th {\n        vertical-align: top;\n    }\n\n    .dataframe thead th {\n        text-align: right;\n    }\n</style>\n<table border=\"1\" class=\"dataframe\">\n  <thead>\n    <tr style=\"text-align: right;\">\n      <th></th>\n      <th>pixel0</th>\n      <th>pixel1</th>\n      <th>pixel2</th>\n      <th>pixel3</th>\n      <th>pixel4</th>\n      <th>pixel5</th>\n      <th>pixel6</th>\n      <th>pixel7</th>\n      <th>pixel8</th>\n      <th>pixel9</th>\n      <th>...</th>\n      <th>pixel774</th>\n      <th>pixel775</th>\n      <th>pixel776</th>\n      <th>pixel777</th>\n      <th>pixel778</th>\n      <th>pixel779</th>\n      <th>pixel780</th>\n      <th>pixel781</th>\n      <th>pixel782</th>\n      <th>pixel783</th>\n    </tr>\n  </thead>\n  <tbody>\n    <tr>\n      <th>334</th>\n      <td>0</td>\n      <td>0</td>\n      <td>0</td>\n      <td>0</td>\n      <td>0</td>\n      <td>0</td>\n      <td>0</td>\n      <td>0</td>\n      <td>0</td>\n      <td>0</td>\n      <td>...</td>\n      <td>0</td>\n      <td>0</td>\n      <td>0</td>\n      <td>0</td>\n      <td>0</td>\n      <td>0</td>\n      <td>0</td>\n      <td>0</td>\n      <td>0</td>\n      <td>0</td>\n    </tr>\n    <tr>\n      <th>39552</th>\n      <td>0</td>\n      <td>0</td>\n      <td>0</td>\n      <td>0</td>\n      <td>0</td>\n      <td>0</td>\n      <td>0</td>\n      <td>0</td>\n      <td>0</td>\n      <td>0</td>\n      <td>...</td>\n      <td>0</td>\n      <td>0</td>\n      <td>0</td>\n      <td>0</td>\n      <td>0</td>\n      <td>0</td>\n      <td>0</td>\n      <td>0</td>\n      <td>0</td>\n      <td>0</td>\n    </tr>\n    <tr>\n      <th>1420</th>\n      <td>0</td>\n      <td>0</td>\n      <td>0</td>\n      <td>0</td>\n      <td>0</td>\n      <td>0</td>\n      <td>0</td>\n      <td>0</td>\n      <td>0</td>\n      <td>0</td>\n      <td>...</td>\n      <td>0</td>\n      <td>0</td>\n      <td>0</td>\n      <td>0</td>\n      <td>0</td>\n      <td>0</td>\n      <td>0</td>\n      <td>0</td>\n      <td>0</td>\n      <td>0</td>\n    </tr>\n    <tr>\n      <th>23650</th>\n      <td>0</td>\n      <td>0</td>\n      <td>0</td>\n      <td>0</td>\n      <td>0</td>\n      <td>0</td>\n      <td>0</td>\n      <td>0</td>\n      <td>0</td>\n      <td>0</td>\n      <td>...</td>\n      <td>0</td>\n      <td>0</td>\n      <td>0</td>\n      <td>0</td>\n      <td>0</td>\n      <td>0</td>\n      <td>0</td>\n      <td>0</td>\n      <td>0</td>\n      <td>0</td>\n    </tr>\n    <tr>\n      <th>37284</th>\n      <td>0</td>\n      <td>0</td>\n      <td>0</td>\n      <td>0</td>\n      <td>0</td>\n      <td>0</td>\n      <td>0</td>\n      <td>0</td>\n      <td>0</td>\n      <td>0</td>\n      <td>...</td>\n      <td>0</td>\n      <td>0</td>\n      <td>0</td>\n      <td>0</td>\n      <td>0</td>\n      <td>0</td>\n      <td>0</td>\n      <td>0</td>\n      <td>0</td>\n      <td>0</td>\n    </tr>\n    <tr>\n      <th>...</th>\n      <td>...</td>\n      <td>...</td>\n      <td>...</td>\n      <td>...</td>\n      <td>...</td>\n      <td>...</td>\n      <td>...</td>\n      <td>...</td>\n      <td>...</td>\n      <td>...</td>\n      <td>...</td>\n      <td>...</td>\n      <td>...</td>\n      <td>...</td>\n      <td>...</td>\n      <td>...</td>\n      <td>...</td>\n      <td>...</td>\n      <td>...</td>\n      <td>...</td>\n      <td>...</td>\n    </tr>\n    <tr>\n      <th>38151</th>\n      <td>0</td>\n      <td>0</td>\n      <td>0</td>\n      <td>0</td>\n      <td>0</td>\n      <td>0</td>\n      <td>0</td>\n      <td>0</td>\n      <td>0</td>\n      <td>0</td>\n      <td>...</td>\n      <td>0</td>\n      <td>0</td>\n      <td>0</td>\n      <td>0</td>\n      <td>0</td>\n      <td>0</td>\n      <td>0</td>\n      <td>0</td>\n      <td>0</td>\n      <td>0</td>\n    </tr>\n    <tr>\n      <th>11746</th>\n      <td>0</td>\n      <td>0</td>\n      <td>0</td>\n      <td>0</td>\n      <td>0</td>\n      <td>0</td>\n      <td>0</td>\n      <td>0</td>\n      <td>0</td>\n      <td>0</td>\n      <td>...</td>\n      <td>0</td>\n      <td>0</td>\n      <td>0</td>\n      <td>0</td>\n      <td>0</td>\n      <td>0</td>\n      <td>0</td>\n      <td>0</td>\n      <td>0</td>\n      <td>0</td>\n    </tr>\n    <tr>\n      <th>30560</th>\n      <td>0</td>\n      <td>0</td>\n      <td>0</td>\n      <td>0</td>\n      <td>0</td>\n      <td>0</td>\n      <td>0</td>\n      <td>0</td>\n      <td>0</td>\n      <td>0</td>\n      <td>...</td>\n      <td>0</td>\n      <td>0</td>\n      <td>0</td>\n      <td>0</td>\n      <td>0</td>\n      <td>0</td>\n      <td>0</td>\n      <td>0</td>\n      <td>0</td>\n      <td>0</td>\n    </tr>\n    <tr>\n      <th>24719</th>\n      <td>0</td>\n      <td>0</td>\n      <td>0</td>\n      <td>0</td>\n      <td>0</td>\n      <td>0</td>\n      <td>0</td>\n      <td>0</td>\n      <td>0</td>\n      <td>0</td>\n      <td>...</td>\n      <td>0</td>\n      <td>0</td>\n      <td>0</td>\n      <td>0</td>\n      <td>0</td>\n      <td>0</td>\n      <td>0</td>\n      <td>0</td>\n      <td>0</td>\n      <td>0</td>\n    </tr>\n    <tr>\n      <th>40207</th>\n      <td>0</td>\n      <td>0</td>\n      <td>0</td>\n      <td>0</td>\n      <td>0</td>\n      <td>0</td>\n      <td>0</td>\n      <td>0</td>\n      <td>0</td>\n      <td>0</td>\n      <td>...</td>\n      <td>0</td>\n      <td>0</td>\n      <td>0</td>\n      <td>0</td>\n      <td>0</td>\n      <td>0</td>\n      <td>0</td>\n      <td>0</td>\n      <td>0</td>\n      <td>0</td>\n    </tr>\n  </tbody>\n</table>\n<p>31500 rows × 784 columns</p>\n</div>"
     },
     "metadata": {},
     "execution_count": 66
    }
   ],
   "source": [
    "X_train"
   ]
  },
  {
   "cell_type": "code",
   "execution_count": 73,
   "metadata": {},
   "outputs": [],
   "source": [
    "X_test = X_test.iloc[:,:-1]"
   ]
  },
  {
   "cell_type": "code",
   "execution_count": 74,
   "metadata": {},
   "outputs": [],
   "source": [
    "X_test_scaled = scaler.transform(X_test)"
   ]
  },
  {
   "cell_type": "code",
   "execution_count": null,
   "metadata": {},
   "outputs": [],
   "source": []
  },
  {
   "cell_type": "code",
   "execution_count": 76,
   "metadata": {},
   "outputs": [
    {
     "output_type": "execute_result",
     "data": {
      "text/plain": [
       "((31500, 784), (10500, 784))"
      ]
     },
     "metadata": {},
     "execution_count": 76
    }
   ],
   "source": [
    "X_train_scaled = scaler.transform(X_train)\n",
    "X_test_scaled = scaler.transform(X_test)\n",
    "X_train_scaled.shape, X_test_scaled.shape\n",
    "#((31500, 784), (10500, 784))"
   ]
  },
  {
   "cell_type": "code",
   "execution_count": 77,
   "metadata": {},
   "outputs": [
    {
     "output_type": "execute_result",
     "data": {
      "text/plain": [
       "['../static/model/mnist_scaler.pkl']"
      ]
     },
     "metadata": {},
     "execution_count": 77
    }
   ],
   "source": [
    "joblib.dump(scaler, '../static/model/mnist_scaler.pkl')"
   ]
  },
  {
   "cell_type": "code",
   "execution_count": 11,
   "metadata": {},
   "outputs": [
    {
     "output_type": "execute_result",
     "data": {
      "text/plain": [
       "{'C': 1.0,\n",
       " 'break_ties': False,\n",
       " 'cache_size': 200,\n",
       " 'class_weight': None,\n",
       " 'coef0': 0.0,\n",
       " 'decision_function_shape': 'ovr',\n",
       " 'degree': 3,\n",
       " 'gamma': 'scale',\n",
       " 'kernel': 'rbf',\n",
       " 'max_iter': -1,\n",
       " 'probability': False,\n",
       " 'random_state': None,\n",
       " 'shrinking': True,\n",
       " 'tol': 0.001,\n",
       " 'verbose': False}"
      ]
     },
     "metadata": {},
     "execution_count": 11
    }
   ],
   "source": [
    "#분류기: 로지스틱리그리션, 서포트벡터클레시파이어, 랜덤포레스트(디시전트리를기반으로한 앙상블) 있는데 시간관계상 svc만\n",
    "sv_clf = SVC()\n",
    "sv_clf.get_params()"
   ]
  },
  {
   "cell_type": "code",
   "execution_count": 13,
   "metadata": {},
   "outputs": [],
   "source": [
    "params = {\n",
    "    #'C': [0.1, 1, 10]\n",
    "    'C': [5, 10, 20]\n",
    "}"
   ]
  },
  {
   "cell_type": "code",
   "execution_count": 14,
   "metadata": {},
   "outputs": [
    {
     "output_type": "stream",
     "name": "stdout",
     "text": [
      "Fitting 5 folds for each of 3 candidates, totalling 15 fits\n",
      "[Parallel(n_jobs=-1)]: Using backend LokyBackend with 4 concurrent workers.\n",
      "[Parallel(n_jobs=-1)]: Done  15 out of  15 | elapsed: 15.8min finished\n",
      "최고 평균 정확도: 0.9789\n",
      "최적 파라미터: {'C': 10}\n"
     ]
    }
   ],
   "source": [
    "grid_cv = GridSearchCV(sv_clf, param_grid=params, scoring='accuracy', cv=5, \n",
    "                       verbose=1, n_jobs=-1)\n",
    "grid_cv.fit(X_train_scaled, y_train)\n",
    "print(f'최고 평균 정확도: {grid_cv.best_score_:.4f}')\n",
    "print('최적 파라미터:', grid_cv.best_params_)\n",
    "#시간걸림 교수님은13분정도소요됐다하심. 13:09~ 대략20분\n",
    "#최고 평균 정확도: 0.9789\n",
    "#최적 파라미터: {'C': 10}"
   ]
  },
  {
   "cell_type": "code",
   "execution_count": 15,
   "metadata": {},
   "outputs": [
    {
     "output_type": "execute_result",
     "data": {
      "text/plain": [
       "0.9767619047619047"
      ]
     },
     "metadata": {},
     "execution_count": 15
    }
   ],
   "source": [
    "best_sv = grid_cv.best_estimator_\n",
    "pred = best_sv.predict(X_test_scaled)\n",
    "accuracy_score(y_test, pred)\n",
    "#시간소요 13:58-\n",
    "#0.9767619047619047"
   ]
  },
  {
   "cell_type": "code",
   "execution_count": 16,
   "metadata": {},
   "outputs": [
    {
     "output_type": "execute_result",
     "data": {
      "text/plain": [
       "['../static/model/mnist_sv.pkl']"
      ]
     },
     "metadata": {},
     "execution_count": 16
    }
   ],
   "source": [
    "joblib.dump(best_sv, '../static/model/mnist_sv.pkl') #훈련한모델 저장"
   ]
  },
  {
   "source": [
    "### 다른분류기도만들어보자 ><"
   ],
   "cell_type": "markdown",
   "metadata": {}
  },
  {
   "cell_type": "code",
   "execution_count": 79,
   "metadata": {},
   "outputs": [],
   "source": [
    "from sklearn.linear_model import LogisticRegression\n",
    "from sklearn.svm import SVC\n",
    "from sklearn.neighbors import KNeighborsClassifier\n",
    "\n",
    "lr = LogisticRegression()\n",
    "svc = SVC()\n",
    "knn = KNeighborsClassifier()"
   ]
  },
  {
   "cell_type": "code",
   "execution_count": 80,
   "metadata": {},
   "outputs": [
    {
     "output_type": "stream",
     "name": "stdout",
     "text": [
      "앙상블 학습의 정확도: 0.9669\n"
     ]
    }
   ],
   "source": [
    "from sklearn.ensemble import VotingClassifier\n",
    "\n",
    "vo_clf = VotingClassifier(\n",
    "    estimators=[('LR', lr), ('SVC', svc), ('KNN', knn)], voting='hard'\n",
    ")\n",
    "vo_clf.fit(X_train, y_train)\n",
    "pred = vo_clf.predict(X_test)\n",
    "acc = accuracy_score(y_test,pred)\n",
    "print(f'앙상블 학습의 정확도: {acc:.4f}')\n",
    "#시간걸림 23:58- 대략30분미만\n",
    "#앙상블정확도 0.9669"
   ]
  },
  {
   "cell_type": "code",
   "execution_count": 82,
   "metadata": {},
   "outputs": [
    {
     "output_type": "execute_result",
     "data": {
      "text/plain": [
       "['../static/model/mnist_voting.pkl']"
      ]
     },
     "metadata": {},
     "execution_count": 82
    }
   ],
   "source": [
    "joblib.dump(vo_clf, '../static/model/mnist_voting.pkl')"
   ]
  },
  {
   "cell_type": "code",
   "execution_count": 81,
   "metadata": {},
   "outputs": [
    {
     "output_type": "stream",
     "name": "stdout",
     "text": [
      "LogisticRegression 정확도: 0.9129\n",
      "SVC 정확도: 0.9725\n",
      "KNeighborsClassifier 정확도: 0.9642\n"
     ]
    }
   ],
   "source": [
    "classifiers = [lr,svc,knn]\n",
    "for classifier in classifiers:\n",
    "    classifier.fit(X_train,y_train)\n",
    "    pred = classifier.predict(X_test)\n",
    "    acc = accuracy_score(y_test, pred)\n",
    "    class_name = classifier.__class__.__name__\n",
    "    print(f'{class_name} 정확도: {acc:.4f}')\n",
    "    #12:24- 15분소요\n",
    "#LogisticRegression 정확도: 0.9129\n",
    "#SVC 정확도: 0.9725\n",
    "#KNeighborsClassifier 정확도: 0.9642"
   ]
  },
  {
   "cell_type": "code",
   "execution_count": null,
   "metadata": {},
   "outputs": [],
   "source": []
  },
  {
   "cell_type": "code",
   "execution_count": 83,
   "metadata": {},
   "outputs": [
    {
     "output_type": "execute_result",
     "data": {
      "text/plain": [
       "{'algorithm': 'auto',\n",
       " 'leaf_size': 30,\n",
       " 'metric': 'minkowski',\n",
       " 'metric_params': None,\n",
       " 'n_jobs': None,\n",
       " 'n_neighbors': 5,\n",
       " 'p': 2,\n",
       " 'weights': 'uniform'}"
      ]
     },
     "metadata": {},
     "execution_count": 83
    }
   ],
   "source": [
    "#svc는 교수님이하셨고 다음 정확도 높은게 knn\n",
    "knn.get_params()"
   ]
  },
  {
   "cell_type": "code",
   "execution_count": 84,
   "metadata": {},
   "outputs": [],
   "source": [
    "#주의!!!!!!!! 파라미터수정할것!!!!!! \n",
    "from sklearn.model_selection import RandomizedSearchCV\n",
    "from scipy.stats import randint\n",
    "Knn_clf = KNeighborsClassifier(n_jobs=1)\n",
    "param_distribs = { 'n_neighbors': randint(low=1, high=50), 'leaf_size': randint(low=1, high=50), 'p': randint(low=1, high=50)}\n",
    "random_cv = RandomizedSearchCV(Knn_clf, param_distributions=param_distribs, n_iter=100, cv=5, n_jobs=1,scoring='accuracy', refit=True)\n",
    "random_cv.fit(X_train,y_train)\n",
    "print(f'최고 평균 정확도: {random_cv.best_score_:.4f}')\n",
    "print('최적 파라미터: ', random_cv.best_params_)\n",
    "#시간 00:45-13:45까지도진행중이라니ㅠㅠ... 1~10까지만할껄 ㅠㅠㅠ 결국멈춤\n",
    "#파라미터갯수50*50*50*CV5=625,000이건너무..\n",
    "#10*10*10*CV5해도 5000fit (27fit 14분소요됐었으니까)2,790분예상(46시간??노노해)"
   ]
  },
  {
   "cell_type": "code",
   "execution_count": 1,
   "metadata": {},
   "outputs": [
    {
     "output_type": "error",
     "ename": "NameError",
     "evalue": "name 'random_cv' is not defined",
     "traceback": [
      "\u001b[1;31m---------------------------------------------------------------------------\u001b[0m",
      "\u001b[1;31mNameError\u001b[0m                                 Traceback (most recent call last)",
      "\u001b[1;32m<ipython-input-1-bb8b75e0ffbc>\u001b[0m in \u001b[0;36m<module>\u001b[1;34m\u001b[0m\n\u001b[1;32m----> 1\u001b[1;33m \u001b[0mbest\u001b[0m \u001b[1;33m=\u001b[0m \u001b[0mrandom_cv\u001b[0m\u001b[1;33m.\u001b[0m\u001b[0mbest_estimator_\u001b[0m\u001b[1;33m\u001b[0m\u001b[1;33m\u001b[0m\u001b[0m\n\u001b[0m\u001b[0;32m      2\u001b[0m \u001b[0mpred\u001b[0m \u001b[1;33m=\u001b[0m \u001b[0mbest\u001b[0m\u001b[1;33m.\u001b[0m\u001b[0mpredict\u001b[0m\u001b[1;33m(\u001b[0m\u001b[0mX_test\u001b[0m\u001b[1;33m)\u001b[0m\u001b[1;33m\u001b[0m\u001b[1;33m\u001b[0m\u001b[0m\n\u001b[0;32m      3\u001b[0m \u001b[0macc\u001b[0m \u001b[1;33m=\u001b[0m \u001b[0maccuracy_score\u001b[0m\u001b[1;33m(\u001b[0m\u001b[0my_test\u001b[0m\u001b[1;33m,\u001b[0m \u001b[0mpred\u001b[0m\u001b[1;33m)\u001b[0m\u001b[1;33m\u001b[0m\u001b[1;33m\u001b[0m\u001b[0m\n\u001b[0;32m      4\u001b[0m \u001b[0mprint\u001b[0m\u001b[1;33m(\u001b[0m\u001b[1;34mf'최적 파라미터 Kneighbor 정확도: {acc:.4f}'\u001b[0m\u001b[1;33m)\u001b[0m\u001b[1;33m\u001b[0m\u001b[1;33m\u001b[0m\u001b[0m\n",
      "\u001b[1;31mNameError\u001b[0m: name 'random_cv' is not defined"
     ]
    }
   ],
   "source": [
    "best = random_cv.best_estimator_\n",
    "pred = best.predict(X_test)\n",
    "acc = accuracy_score(y_test, pred)\n",
    "print(f'최적 파라미터 Kneighbor 정확도: {acc:.4f}')"
   ]
  },
  {
   "cell_type": "code",
   "execution_count": null,
   "metadata": {},
   "outputs": [],
   "source": [
    "joblib.dump(best, '../static/model/mnist_knn.pkl')"
   ]
  },
  {
   "cell_type": "code",
   "execution_count": null,
   "metadata": {},
   "outputs": [],
   "source": []
  },
  {
   "source": [
    "# Test"
   ],
   "cell_type": "markdown",
   "metadata": {}
  },
  {
   "cell_type": "code",
   "execution_count": 5,
   "metadata": {},
   "outputs": [],
   "source": [
    "scaler = joblib.load('../static/model/mnist_scaler.pkl')\n",
    "best_sv = joblib.load('../static/model/mnist_sv.pkl')"
   ]
  },
  {
   "cell_type": "code",
   "execution_count": 42,
   "metadata": {},
   "outputs": [
    {
     "output_type": "execute_result",
     "data": {
      "text/plain": [
       "(3, 785)"
      ]
     },
     "metadata": {},
     "execution_count": 42
    }
   ],
   "source": [
    "index = 900\n",
    "test_data = X_test.iloc[index:index+3, :].values#인덱스로부터3개의 값을가져와서 화면에보여주려고\n",
    "test_data.shape #(3, 785)"
   ]
  },
  {
   "cell_type": "code",
   "execution_count": 43,
   "metadata": {},
   "outputs": [
    {
     "output_type": "error",
     "ename": "ValueError",
     "evalue": "operands could not be broadcast together with shapes (3,785) (784,) (3,785) ",
     "traceback": [
      "\u001b[1;31m---------------------------------------------------------------------------\u001b[0m",
      "\u001b[1;31mValueError\u001b[0m                                Traceback (most recent call last)",
      "\u001b[1;32m<ipython-input-43-7b833fe0296c>\u001b[0m in \u001b[0;36m<module>\u001b[1;34m\u001b[0m\n\u001b[1;32m----> 1\u001b[1;33m \u001b[0mtest_scaled\u001b[0m \u001b[1;33m=\u001b[0m \u001b[0mscaler\u001b[0m\u001b[1;33m.\u001b[0m\u001b[0mtransform\u001b[0m\u001b[1;33m(\u001b[0m\u001b[0mtest_data\u001b[0m\u001b[1;33m)\u001b[0m\u001b[1;33m\u001b[0m\u001b[1;33m\u001b[0m\u001b[0m\n\u001b[0m",
      "\u001b[1;32mC:\\ProgramData\\Anaconda3\\lib\\site-packages\\sklearn\\preprocessing\\_data.py\u001b[0m in \u001b[0;36mtransform\u001b[1;34m(self, X)\u001b[0m\n\u001b[0;32m    408\u001b[0m                         force_all_finite=\"allow-nan\")\n\u001b[0;32m    409\u001b[0m \u001b[1;33m\u001b[0m\u001b[0m\n\u001b[1;32m--> 410\u001b[1;33m         \u001b[0mX\u001b[0m \u001b[1;33m*=\u001b[0m \u001b[0mself\u001b[0m\u001b[1;33m.\u001b[0m\u001b[0mscale_\u001b[0m\u001b[1;33m\u001b[0m\u001b[1;33m\u001b[0m\u001b[0m\n\u001b[0m\u001b[0;32m    411\u001b[0m         \u001b[0mX\u001b[0m \u001b[1;33m+=\u001b[0m \u001b[0mself\u001b[0m\u001b[1;33m.\u001b[0m\u001b[0mmin_\u001b[0m\u001b[1;33m\u001b[0m\u001b[1;33m\u001b[0m\u001b[0m\n\u001b[0;32m    412\u001b[0m         \u001b[1;32mreturn\u001b[0m \u001b[0mX\u001b[0m\u001b[1;33m\u001b[0m\u001b[1;33m\u001b[0m\u001b[0m\n",
      "\u001b[1;31mValueError\u001b[0m: operands could not be broadcast together with shapes (3,785) (784,) (3,785) "
     ]
    }
   ],
   "source": [
    "test_scaled = scaler.transform(test_data)"
   ]
  },
  {
   "cell_type": "code",
   "execution_count": 15,
   "metadata": {},
   "outputs": [
    {
     "output_type": "execute_result",
     "data": {
      "text/plain": [
       "38939    7\n",
       "784      6\n",
       "34506    3\n",
       "Name: label, dtype: int64"
      ]
     },
     "metadata": {},
     "execution_count": 15
    }
   ],
   "source": [
    "label_list = y_test[index:index+3] #위의 데이터에 대한 정답label\n",
    "label_list"
   ]
  },
  {
   "cell_type": "code",
   "execution_count": 16,
   "metadata": {},
   "outputs": [
    {
     "output_type": "execute_result",
     "data": {
      "text/plain": [
       "array([7, 6, 3], dtype=int64)"
      ]
     },
     "metadata": {},
     "execution_count": 16
    }
   ],
   "source": [
    "pred_sv = best_sv.predict(test_scaled)\n",
    "pred_sv"
   ]
  },
  {
   "source": [
    "- 시각화하기"
   ],
   "cell_type": "markdown",
   "metadata": {}
  },
  {
   "cell_type": "code",
   "execution_count": 22,
   "metadata": {},
   "outputs": [
    {
     "output_type": "display_data",
     "data": {
      "text/plain": "<Figure size 288x288 with 1 Axes>",
      "image/svg+xml": "<?xml version=\"1.0\" encoding=\"utf-8\" standalone=\"no\"?>\r\n<!DOCTYPE svg PUBLIC \"-//W3C//DTD SVG 1.1//EN\"\r\n  \"http://www.w3.org/Graphics/SVG/1.1/DTD/svg11.dtd\">\r\n<!-- Created with matplotlib (https://matplotlib.org/) -->\r\n<svg height=\"235.34pt\" version=\"1.1\" viewBox=\"0 0 235.34 235.34\" width=\"235.34pt\" xmlns=\"http://www.w3.org/2000/svg\" xmlns:xlink=\"http://www.w3.org/1999/xlink\">\r\n <metadata>\r\n  <rdf:RDF xmlns:cc=\"http://creativecommons.org/ns#\" xmlns:dc=\"http://purl.org/dc/elements/1.1/\" xmlns:rdf=\"http://www.w3.org/1999/02/22-rdf-syntax-ns#\">\r\n   <cc:Work>\r\n    <dc:type rdf:resource=\"http://purl.org/dc/dcmitype/StillImage\"/>\r\n    <dc:date>2021-01-26T14:22:14.161998</dc:date>\r\n    <dc:format>image/svg+xml</dc:format>\r\n    <dc:creator>\r\n     <cc:Agent>\r\n      <dc:title>Matplotlib v3.3.2, https://matplotlib.org/</dc:title>\r\n     </cc:Agent>\r\n    </dc:creator>\r\n   </cc:Work>\r\n  </rdf:RDF>\r\n </metadata>\r\n <defs>\r\n  <style type=\"text/css\">*{stroke-linecap:butt;stroke-linejoin:round;}</style>\r\n </defs>\r\n <g id=\"figure_1\">\r\n  <g id=\"patch_1\">\r\n   <path d=\"M 0 235.34 \r\nL 235.34 235.34 \r\nL 235.34 0 \r\nL 0 0 \r\nz\r\n\" style=\"fill:none;\"/>\r\n  </g>\r\n  <g id=\"axes_1\">\r\n   <g id=\"patch_2\">\r\n    <path d=\"M 10.7 224.64 \r\nL 228.14 224.64 \r\nL 228.14 7.2 \r\nL 10.7 7.2 \r\nz\r\n\" style=\"fill:#ffffff;\"/>\r\n   </g>\r\n   <g clip-path=\"url(#pbfa85663ff)\">\r\n    <image height=\"218\" id=\"image0f33dad94e\" transform=\"scale(1 -1)translate(0 -218)\" width=\"218\" x=\"10.7\" xlink:href=\"data:image/png;base64,\r\niVBORw0KGgoAAAANSUhEUgAAANoAAADaCAYAAADAHVzbAAAE5UlEQVR4nO3dsUvUfxzHcf3hoVxrEQmSNIVr7W4SOeni0j/gELkENYTYGEgQ/g+RQ1GtDoqT2CJBU6Ut/QdNStc/8Pu+D/Tudef5eKwvvscX4ckH/HA63ul0OmNAX/036BeAq0BoECA0CBAaBAgNAoQGAUKDgIlBv8Co2t7ebtxWVlbKZ5eWlsr9/fv353onBseJBgFCgwChQYDQIEBoECA0CBAaBLhH65Pj4+NzP/v169cevgnDwIkGAUKDAKFBgNAgQGgQIDQI8Ov9Pjk6Ojr3sw8fPuzhmzAMnGgQIDQIEBoECA0ChAYBQoMAoUGA0CBAaBAgNAgQGgQIDQKEBgFCgwChQYDvo/XJwsJC4/b27dvyWX9ubvQ40SBAaBAgNAgQGgQIDQKEBgFCgwD3aH3SbrfP/ez37997+CYMAycaBAgNAoQGAUKDAKFBgNAgQGgQMN7pdDqDfolRdHx83LjduXPnQp/95cuXcr93796FPp/ec6JBgNAgQGgQIDQIEBoECA0CfE2mT2ZmZhq3VqtVPnt6elrubmQuHycaBAgNAoQGAUKDAKFBgNAgQGgQ4B6tTyYmmn+0Dx48KJ/9/Plzue/v75f7/fv3y508JxoECA0ChAYBQoMAoUGA0CBAaBDgHm0A5ufny73bPdrJyUkP34YEJxoECA0ChAYBQoMAoUGA0CBAaBDg3zYNwIcPH8p9eXm53K9fv17u3759K/cbN26UO73nRIMAoUGA0CBAaBAgNAgQGgT49f4A/P37t9yXlpbK/dOnT+X++vXrcl9bWyt3es+JBgFCgwChQYDQIEBoECA0CBAaBLhHG0Jv3rwp9ydPnpT7rVu3yn1nZ6dxm5ubK5/lfJxoECA0CBAaBAgNAoQGAUKDAKFBgHu0IfTnz59yX1xcLPe9vb1yX1hYaNw+fvxYPjs1NVXu/D8nGgQIDQKEBgFCgwChQYDQIEBoEOAe7RJ69+5duT969Kjcz87OGrfnz5+Xz66vr5f75ORkuV9VTjQIEBoECA0ChAYBQoMAoUGA0CDAPdoIevbsWblvbm42btUd29jY2NiLFy/K/eXLl+V+VTnRIEBoECA0CBAaBAgNAoQGAX69fwU9fvy4cdva2iqfHR8fL/dXr16V++rqauN27dq18tnLzIkGAUKDAKFBgNAgQGgQIDQIEBoETAz6BQbl6Oio3A8ODsr9x48fvXydqOourNVqlc+enp6W+9OnT8t9d3e3cev2Z/Qu8z2bEw0ChAYBQoMAoUGA0CBAaBAgNAgY2e+j/fz5s9zv3r1b7t3ui+i9xcXFct/e3i73drvdy9fpKScaBAgNAoQGAUKDAKFBgNAgQGgQMLLfR5udnS33jY2Ncj88PCz3mzdvlvvt27cbt+np6fLZbro9//v37wt9/kU++9evX+Ve3YV1+y5ct38pNcycaBAgNAgQGgQIDQKEBgFCgwChQcDIfh8NhokTDQKEBgFCgwChQYDQIEBoECA0CBAaBAgNAoQGAUKDAKFBgNAgQGgQIDQIEBoECA0ChAYBQoMAoUGA0CBAaBAgNAgQGgQIDQKEBgFCgwChQYDQIEBoECA0CBAaBAgNAoQGAUKDAKFBgNAgQGgQIDQIEBoECA0ChAYBQoMAoUGA0CBAaBAgNAgQGgQIDQKEBgFCgwChQYDQIOAfAES9RJ8OX9QAAAAASUVORK5CYII=\" y=\"-6.64\"/>\r\n   </g>\r\n   <g id=\"matplotlib.axis_1\"/>\r\n   <g id=\"matplotlib.axis_2\"/>\r\n   <g id=\"patch_3\">\r\n    <path d=\"M 10.7 224.64 \r\nL 10.7 7.2 \r\n\" style=\"fill:none;stroke:#000000;stroke-linecap:square;stroke-linejoin:miter;stroke-width:0.8;\"/>\r\n   </g>\r\n   <g id=\"patch_4\">\r\n    <path d=\"M 228.14 224.64 \r\nL 228.14 7.2 \r\n\" style=\"fill:none;stroke:#000000;stroke-linecap:square;stroke-linejoin:miter;stroke-width:0.8;\"/>\r\n   </g>\r\n   <g id=\"patch_5\">\r\n    <path d=\"M 10.7 224.64 \r\nL 228.14 224.64 \r\n\" style=\"fill:none;stroke:#000000;stroke-linecap:square;stroke-linejoin:miter;stroke-width:0.8;\"/>\r\n   </g>\r\n   <g id=\"patch_6\">\r\n    <path d=\"M 10.7 7.2 \r\nL 228.14 7.2 \r\n\" style=\"fill:none;stroke:#000000;stroke-linecap:square;stroke-linejoin:miter;stroke-width:0.8;\"/>\r\n   </g>\r\n  </g>\r\n </g>\r\n <defs>\r\n  <clipPath id=\"pbfa85663ff\">\r\n   <rect height=\"217.44\" width=\"217.44\" x=\"10.7\" y=\"7.2\"/>\r\n  </clipPath>\r\n </defs>\r\n</svg>\r\n",
      "image/png": "[encoded data removed]"
     },
     "metadata": {}
    },
    {
     "output_type": "display_data",
     "data": {
      "text/plain": "<Figure size 288x288 with 1 Axes>",
      "image/svg+xml": "<?xml version=\"1.0\" encoding=\"utf-8\" standalone=\"no\"?>\r\n<!DOCTYPE svg PUBLIC \"-//W3C//DTD SVG 1.1//EN\"\r\n  \"http://www.w3.org/Graphics/SVG/1.1/DTD/svg11.dtd\">\r\n<!-- Created with matplotlib (https://matplotlib.org/) -->\r\n<svg height=\"235.34pt\" version=\"1.1\" viewBox=\"0 0 235.34 235.34\" width=\"235.34pt\" xmlns=\"http://www.w3.org/2000/svg\" xmlns:xlink=\"http://www.w3.org/1999/xlink\">\r\n <metadata>\r\n  <rdf:RDF xmlns:cc=\"http://creativecommons.org/ns#\" xmlns:dc=\"http://purl.org/dc/elements/1.1/\" xmlns:rdf=\"http://www.w3.org/1999/02/22-rdf-syntax-ns#\">\r\n   <cc:Work>\r\n    <dc:type rdf:resource=\"http://purl.org/dc/dcmitype/StillImage\"/>\r\n    <dc:date>2021-01-26T14:22:14.246773</dc:date>\r\n    <dc:format>image/svg+xml</dc:format>\r\n    <dc:creator>\r\n     <cc:Agent>\r\n      <dc:title>Matplotlib v3.3.2, https://matplotlib.org/</dc:title>\r\n     </cc:Agent>\r\n    </dc:creator>\r\n   </cc:Work>\r\n  </rdf:RDF>\r\n </metadata>\r\n <defs>\r\n  <style type=\"text/css\">*{stroke-linecap:butt;stroke-linejoin:round;}</style>\r\n </defs>\r\n <g id=\"figure_1\">\r\n  <g id=\"patch_1\">\r\n   <path d=\"M 0 235.34 \r\nL 235.34 235.34 \r\nL 235.34 0 \r\nL 0 0 \r\nz\r\n\" style=\"fill:none;\"/>\r\n  </g>\r\n  <g id=\"axes_1\">\r\n   <g id=\"patch_2\">\r\n    <path d=\"M 10.7 224.64 \r\nL 228.14 224.64 \r\nL 228.14 7.2 \r\nL 10.7 7.2 \r\nz\r\n\" style=\"fill:#ffffff;\"/>\r\n   </g>\r\n   <g clip-path=\"url(#pcc780cf905)\">\r\n    <image height=\"218\" id=\"image758f2611de\" transform=\"scale(1 -1)translate(0 -218)\" width=\"218\" x=\"10.7\" xlink:href=\"data:image/png;base64,\r\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\" y=\"-6.64\"/>\r\n   </g>\r\n   <g id=\"matplotlib.axis_1\"/>\r\n   <g id=\"matplotlib.axis_2\"/>\r\n   <g id=\"patch_3\">\r\n    <path d=\"M 10.7 224.64 \r\nL 10.7 7.2 \r\n\" style=\"fill:none;stroke:#000000;stroke-linecap:square;stroke-linejoin:miter;stroke-width:0.8;\"/>\r\n   </g>\r\n   <g id=\"patch_4\">\r\n    <path d=\"M 228.14 224.64 \r\nL 228.14 7.2 \r\n\" style=\"fill:none;stroke:#000000;stroke-linecap:square;stroke-linejoin:miter;stroke-width:0.8;\"/>\r\n   </g>\r\n   <g id=\"patch_5\">\r\n    <path d=\"M 10.7 224.64 \r\nL 228.14 224.64 \r\n\" style=\"fill:none;stroke:#000000;stroke-linecap:square;stroke-linejoin:miter;stroke-width:0.8;\"/>\r\n   </g>\r\n   <g id=\"patch_6\">\r\n    <path d=\"M 10.7 7.2 \r\nL 228.14 7.2 \r\n\" style=\"fill:none;stroke:#000000;stroke-linecap:square;stroke-linejoin:miter;stroke-width:0.8;\"/>\r\n   </g>\r\n  </g>\r\n </g>\r\n <defs>\r\n  <clipPath id=\"pcc780cf905\">\r\n   <rect height=\"217.44\" width=\"217.44\" x=\"10.7\" y=\"7.2\"/>\r\n  </clipPath>\r\n </defs>\r\n</svg>\r\n",
      "image/png": "[encoded data removed]"
     },
     "metadata": {}
    },
    {
     "output_type": "display_data",
     "data": {
      "text/plain": "<Figure size 288x288 with 1 Axes>",
      "image/svg+xml": "<?xml version=\"1.0\" encoding=\"utf-8\" standalone=\"no\"?>\r\n<!DOCTYPE svg PUBLIC \"-//W3C//DTD SVG 1.1//EN\"\r\n  \"http://www.w3.org/Graphics/SVG/1.1/DTD/svg11.dtd\">\r\n<!-- Created with matplotlib (https://matplotlib.org/) -->\r\n<svg height=\"235.34pt\" version=\"1.1\" viewBox=\"0 0 235.34 235.34\" width=\"235.34pt\" xmlns=\"http://www.w3.org/2000/svg\" xmlns:xlink=\"http://www.w3.org/1999/xlink\">\r\n <metadata>\r\n  <rdf:RDF xmlns:cc=\"http://creativecommons.org/ns#\" xmlns:dc=\"http://purl.org/dc/elements/1.1/\" xmlns:rdf=\"http://www.w3.org/1999/02/22-rdf-syntax-ns#\">\r\n   <cc:Work>\r\n    <dc:type rdf:resource=\"http://purl.org/dc/dcmitype/StillImage\"/>\r\n    <dc:date>2021-01-26T14:22:14.310602</dc:date>\r\n    <dc:format>image/svg+xml</dc:format>\r\n    <dc:creator>\r\n     <cc:Agent>\r\n      <dc:title>Matplotlib v3.3.2, https://matplotlib.org/</dc:title>\r\n     </cc:Agent>\r\n    </dc:creator>\r\n   </cc:Work>\r\n  </rdf:RDF>\r\n </metadata>\r\n <defs>\r\n  <style type=\"text/css\">*{stroke-linecap:butt;stroke-linejoin:round;}</style>\r\n </defs>\r\n <g id=\"figure_1\">\r\n  <g id=\"patch_1\">\r\n   <path d=\"M 0 235.34 \r\nL 235.34 235.34 \r\nL 235.34 0 \r\nL 0 0 \r\nz\r\n\" style=\"fill:none;\"/>\r\n  </g>\r\n  <g id=\"axes_1\">\r\n   <g id=\"patch_2\">\r\n    <path d=\"M 10.7 224.64 \r\nL 228.14 224.64 \r\nL 228.14 7.2 \r\nL 10.7 7.2 \r\nz\r\n\" style=\"fill:#ffffff;\"/>\r\n   </g>\r\n   <g clip-path=\"url(#p92a94794db)\">\r\n    <image height=\"218\" id=\"imagecea9e250bc\" transform=\"scale(1 -1)translate(0 -218)\" width=\"218\" x=\"10.7\" xlink:href=\"data:image/png;base64,\r\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\" y=\"-6.64\"/>\r\n   </g>\r\n   <g id=\"matplotlib.axis_1\"/>\r\n   <g id=\"matplotlib.axis_2\"/>\r\n   <g id=\"patch_3\">\r\n    <path d=\"M 10.7 224.64 \r\nL 10.7 7.2 \r\n\" style=\"fill:none;stroke:#000000;stroke-linecap:square;stroke-linejoin:miter;stroke-width:0.8;\"/>\r\n   </g>\r\n   <g id=\"patch_4\">\r\n    <path d=\"M 228.14 224.64 \r\nL 228.14 7.2 \r\n\" style=\"fill:none;stroke:#000000;stroke-linecap:square;stroke-linejoin:miter;stroke-width:0.8;\"/>\r\n   </g>\r\n   <g id=\"patch_5\">\r\n    <path d=\"M 10.7 224.64 \r\nL 228.14 224.64 \r\n\" style=\"fill:none;stroke:#000000;stroke-linecap:square;stroke-linejoin:miter;stroke-width:0.8;\"/>\r\n   </g>\r\n   <g id=\"patch_6\">\r\n    <path d=\"M 10.7 7.2 \r\nL 228.14 7.2 \r\n\" style=\"fill:none;stroke:#000000;stroke-linecap:square;stroke-linejoin:miter;stroke-width:0.8;\"/>\r\n   </g>\r\n  </g>\r\n </g>\r\n <defs>\r\n  <clipPath id=\"p92a94794db\">\r\n   <rect height=\"217.44\" width=\"217.44\" x=\"10.7\" y=\"7.2\"/>\r\n  </clipPath>\r\n </defs>\r\n</svg>\r\n",
      "image/png": "[encoded data removed]"
     },
     "metadata": {}
    }
   ],
   "source": [
    "for i in range(3):\n",
    "    digit = test_data[i].reshape(28,28) #1차원인 test_data를 2차원으로 .reshape(28,28)\n",
    "    plt.figure(figsize=(4,4))\n",
    "    plt.xticks([]); plt.yticks([])\n",
    "    plt.imshow(digit, cmap=plt.cm.binary, interpolation='nearest')"
   ]
  },
  {
   "cell_type": "code",
   "execution_count": 23,
   "metadata": {},
   "outputs": [
    {
     "output_type": "display_data",
     "data": {
      "text/plain": "<Figure size 288x288 with 1 Axes>",
      "image/svg+xml": "<?xml version=\"1.0\" encoding=\"utf-8\" standalone=\"no\"?>\r\n<!DOCTYPE svg PUBLIC \"-//W3C//DTD SVG 1.1//EN\"\r\n  \"http://www.w3.org/Graphics/SVG/1.1/DTD/svg11.dtd\">\r\n<!-- Created with matplotlib (https://matplotlib.org/) -->\r\n<svg height=\"235.34pt\" version=\"1.1\" viewBox=\"0 0 235.34 235.34\" width=\"235.34pt\" xmlns=\"http://www.w3.org/2000/svg\" xmlns:xlink=\"http://www.w3.org/1999/xlink\">\r\n <metadata>\r\n  <rdf:RDF xmlns:cc=\"http://creativecommons.org/ns#\" xmlns:dc=\"http://purl.org/dc/elements/1.1/\" xmlns:rdf=\"http://www.w3.org/1999/02/22-rdf-syntax-ns#\">\r\n   <cc:Work>\r\n    <dc:type rdf:resource=\"http://purl.org/dc/dcmitype/StillImage\"/>\r\n    <dc:date>2021-01-26T14:22:16.270095</dc:date>\r\n    <dc:format>image/svg+xml</dc:format>\r\n    <dc:creator>\r\n     <cc:Agent>\r\n      <dc:title>Matplotlib v3.3.2, https://matplotlib.org/</dc:title>\r\n     </cc:Agent>\r\n    </dc:creator>\r\n   </cc:Work>\r\n  </rdf:RDF>\r\n </metadata>\r\n <defs>\r\n  <style type=\"text/css\">*{stroke-linecap:butt;stroke-linejoin:round;}</style>\r\n </defs>\r\n <g id=\"figure_1\">\r\n  <g id=\"patch_1\">\r\n   <path d=\"M 0 235.34 \r\nL 235.34 235.34 \r\nL 235.34 0 \r\nL 0 0 \r\nz\r\n\" style=\"fill:none;\"/>\r\n  </g>\r\n  <g id=\"axes_1\">\r\n   <g id=\"patch_2\">\r\n    <path d=\"M 10.7 224.64 \r\nL 228.14 224.64 \r\nL 228.14 7.2 \r\nL 10.7 7.2 \r\nz\r\n\" style=\"fill:#ffffff;\"/>\r\n   </g>\r\n   <g clip-path=\"url(#p7a41006e23)\">\r\n    <image height=\"218\" id=\"image20a146c2ea\" transform=\"scale(1 -1)translate(0 -218)\" width=\"218\" x=\"10.7\" xlink:href=\"data:image/png;base64,\r\niVBORw0KGgoAAAANSUhEUgAAANoAAADaCAYAAADAHVzbAAAE5UlEQVR4nO3dsUvUfxzHcf3hoVxrEQmSNIVr7W4SOeni0j/gELkENYTYGEgQ/g+RQ1GtDoqT2CJBU6Ut/QdNStc/8Pu+D/Tudef5eKwvvscX4ckH/HA63ul0OmNAX/036BeAq0BoECA0CBAaBAgNAoQGAUKDgIlBv8Co2t7ebtxWVlbKZ5eWlsr9/fv353onBseJBgFCgwChQYDQIEBoECA0CBAaBLhH65Pj4+NzP/v169cevgnDwIkGAUKDAKFBgNAgQGgQIDQI8Ov9Pjk6Ojr3sw8fPuzhmzAMnGgQIDQIEBoECA0ChAYBQoMAoUGA0CBAaBAgNAgQGgQIDQKEBgFCgwChQYDvo/XJwsJC4/b27dvyWX9ubvQ40SBAaBAgNAgQGgQIDQKEBgFCgwD3aH3SbrfP/ez37997+CYMAycaBAgNAoQGAUKDAKFBgNAgQGgQMN7pdDqDfolRdHx83LjduXPnQp/95cuXcr93796FPp/ec6JBgNAgQGgQIDQIEBoECA0CfE2mT2ZmZhq3VqtVPnt6elrubmQuHycaBAgNAoQGAUKDAKFBgNAgQGgQ4B6tTyYmmn+0Dx48KJ/9/Plzue/v75f7/fv3y508JxoECA0ChAYBQoMAoUGA0CBAaBDgHm0A5ufny73bPdrJyUkP34YEJxoECA0ChAYBQoMAoUGA0CBAaBDg3zYNwIcPH8p9eXm53K9fv17u3759K/cbN26UO73nRIMAoUGA0CBAaBAgNAgQGgT49f4A/P37t9yXlpbK/dOnT+X++vXrcl9bWyt3es+JBgFCgwChQYDQIEBoECA0CBAaBLhHG0Jv3rwp9ydPnpT7rVu3yn1nZ6dxm5ubK5/lfJxoECA0CBAaBAgNAoQGAUKDAKFBgHu0IfTnz59yX1xcLPe9vb1yX1hYaNw+fvxYPjs1NVXu/D8nGgQIDQKEBgFCgwChQYDQIEBoEOAe7RJ69+5duT969Kjcz87OGrfnz5+Xz66vr5f75ORkuV9VTjQIEBoECA0ChAYBQoMAoUGA0CDAPdoIevbsWblvbm42btUd29jY2NiLFy/K/eXLl+V+VTnRIEBoECA0CBAaBAgNAoQGAX69fwU9fvy4cdva2iqfHR8fL/dXr16V++rqauN27dq18tnLzIkGAUKDAKFBgNAgQGgQIDQIEBoETAz6BQbl6Oio3A8ODsr9x48fvXydqOourNVqlc+enp6W+9OnT8t9d3e3cev2Z/Qu8z2bEw0ChAYBQoMAoUGA0CBAaBAgNAgY2e+j/fz5s9zv3r1b7t3ui+i9xcXFct/e3i73drvdy9fpKScaBAgNAoQGAUKDAKFBgNAgQGgQMLLfR5udnS33jY2Ncj88PCz3mzdvlvvt27cbt+np6fLZbro9//v37wt9/kU++9evX+Ve3YV1+y5ct38pNcycaBAgNAgQGgQIDQKEBgFCgwChQcDIfh8NhokTDQKEBgFCgwChQYDQIEBoECA0CBAaBAgNAoQGAUKDAKFBgNAgQGgQIDQIEBoECA0ChAYBQoMAoUGA0CBAaBAgNAgQGgQIDQKEBgFCgwChQYDQIEBoECA0CBAaBAgNAoQGAUKDAKFBgNAgQGgQIDQIEBoECA0ChAYBQoMAoUGA0CBAaBAgNAgQGgQIDQKEBgFCgwChQYDQIOAfAES9RJ8OX9QAAAAASUVORK5CYII=\" y=\"-6.64\"/>\r\n   </g>\r\n   <g id=\"matplotlib.axis_1\"/>\r\n   <g id=\"matplotlib.axis_2\"/>\r\n   <g id=\"patch_3\">\r\n    <path d=\"M 10.7 224.64 \r\nL 10.7 7.2 \r\n\" style=\"fill:none;stroke:#000000;stroke-linecap:square;stroke-linejoin:miter;stroke-width:0.8;\"/>\r\n   </g>\r\n   <g id=\"patch_4\">\r\n    <path d=\"M 228.14 224.64 \r\nL 228.14 7.2 \r\n\" style=\"fill:none;stroke:#000000;stroke-linecap:square;stroke-linejoin:miter;stroke-width:0.8;\"/>\r\n   </g>\r\n   <g id=\"patch_5\">\r\n    <path d=\"M 10.7 224.64 \r\nL 228.14 224.64 \r\n\" style=\"fill:none;stroke:#000000;stroke-linecap:square;stroke-linejoin:miter;stroke-width:0.8;\"/>\r\n   </g>\r\n   <g id=\"patch_6\">\r\n    <path d=\"M 10.7 7.2 \r\nL 228.14 7.2 \r\n\" style=\"fill:none;stroke:#000000;stroke-linecap:square;stroke-linejoin:miter;stroke-width:0.8;\"/>\r\n   </g>\r\n  </g>\r\n </g>\r\n <defs>\r\n  <clipPath id=\"p7a41006e23\">\r\n   <rect height=\"217.44\" width=\"217.44\" x=\"10.7\" y=\"7.2\"/>\r\n  </clipPath>\r\n </defs>\r\n</svg>\r\n",
      "image/png": "[encoded data removed]"
     },
     "metadata": {}
    }
   ],
   "source": [
    "#하나만그리는코드\n",
    "plt.figure(figsize=(4,4))\n",
    "plt.xticks([]); plt.yticks([])\n",
    "plt.imshow(test_data[0].reshape(28,28), cmap=plt.cm.binary, interpolation='nearest')\n",
    "plt.show()"
   ]
  },
  {
   "cell_type": "code",
   "execution_count": 24,
   "metadata": {},
   "outputs": [
    {
     "output_type": "display_data",
     "data": {
      "text/plain": "<Figure size 864x288 with 3 Axes>",
      "image/svg+xml": "<?xml version=\"1.0\" encoding=\"utf-8\" standalone=\"no\"?>\r\n<!DOCTYPE svg PUBLIC \"-//W3C//DTD SVG 1.1//EN\"\r\n  \"http://www.w3.org/Graphics/SVG/1.1/DTD/svg11.dtd\">\r\n<!-- Created with matplotlib (https://matplotlib.org/) -->\r\n<svg height=\"226.092771pt\" version=\"1.1\" viewBox=\"0 0 663.29759 226.092771\" width=\"663.29759pt\" xmlns=\"http://www.w3.org/2000/svg\" xmlns:xlink=\"http://www.w3.org/1999/xlink\">\r\n <metadata>\r\n  <rdf:RDF xmlns:cc=\"http://creativecommons.org/ns#\" xmlns:dc=\"http://purl.org/dc/elements/1.1/\" xmlns:rdf=\"http://www.w3.org/1999/02/22-rdf-syntax-ns#\">\r\n   <cc:Work>\r\n    <dc:type rdf:resource=\"http://purl.org/dc/dcmitype/StillImage\"/>\r\n    <dc:date>2021-01-26T14:22:18.007880</dc:date>\r\n    <dc:format>image/svg+xml</dc:format>\r\n    <dc:creator>\r\n     <cc:Agent>\r\n      <dc:title>Matplotlib v3.3.2, https://matplotlib.org/</dc:title>\r\n     </cc:Agent>\r\n    </dc:creator>\r\n   </cc:Work>\r\n  </rdf:RDF>\r\n </metadata>\r\n <defs>\r\n  <style type=\"text/css\">*{stroke-linecap:butt;stroke-linejoin:round;}</style>\r\n </defs>\r\n <g id=\"figure_1\">\r\n  <g id=\"patch_1\">\r\n   <path d=\"M 0 226.092771 \r\nL 663.29759 226.092771 \r\nL 663.29759 0 \r\nL 0 0 \r\nz\r\n\" style=\"fill:none;\"/>\r\n  </g>\r\n  <g id=\"axes_1\">\r\n   <g id=\"patch_2\">\r\n    <path d=\"M 10.7 215.392771 \r\nL 218.892771 215.392771 \r\nL 218.892771 7.2 \r\nL 10.7 7.2 \r\nz\r\n\" style=\"fill:#ffffff;\"/>\r\n   </g>\r\n   <g clip-path=\"url(#pa32b135417)\">\r\n    <image height=\"209\" id=\"image91fcab87b0\" transform=\"scale(1 -1)translate(0 -209)\" width=\"209\" x=\"10.7\" xlink:href=\"data:image/png;base64,\r\niVBORw0KGgoAAAANSUhEUgAAANEAAADRCAYAAABSOlfvAAAEuUlEQVR4nO3dv0uVbRzH8ccHpdBVkYIwnMTV9raD2GRLi/9AQ+gS6CCSoxCB+D9IZyiytaFoilxEcPLn4n/QZHgan+m6zsP53B5/9HqtX66bC+HNBdfN7RnodDqdf4Ce/XvdG4DbTkQQEhGERAQhEUFIRBAavO4N3BXtdrs6f/HiRXE2Pz9fnH348KHnPdEfTiIIiQhCIoKQiCAkIgiJCEIigpD3RA05OTnpee3+/n6DO6HfnEQQEhGERAQhEUFIRBASEYRccTdkb2+v57Vzc3MN7oR+cxJBSEQQEhGERAQhEUFIRBASEYREBCERQUhEEBIRhEQEIRFBSEQQ8ilEQ1qtVnW+vb1dnPlvP7ebkwhCIoKQiCAkIgiJCEIigpCIIOQ9UUOGh4d7Xnt4eNjgTug3JxGERAQhEUFIRBASEYREBKGBTqfTue5N3AXdfvh4cnKyp+fu7u5W5zMzMz09l+Y4iSAkIgiJCEIigpCIICQiCIkIQj6FaMijR4+q86GhoeLs4uKiOPMa7+ZzEkFIRBASEYREBCERQUhEEHLF3ZDBwfqfcnZ2tjj7/Plzcfb9+/fqc588eVLfGFfOSQQhEUFIRBASEYREBCERQUhEEPKeqE+ePn1anNXeE52enl7BbmiSkwhCIoKQiCAkIgiJCEIigpBfheiTjx8/FmfPnz8vzkZHR6vPPTg4KM7Gxsa6b4yYkwhCIoKQiCAkIgiJCEIigpCIIOQ9UZ9cXl4WZ/Pz88XZzs5O9bnv3r0rzpaWlrrui5yTCEIigpCIICQiCIkIQiKCkCvuG2Bzc7M4W1xcrK598OBBcfbly5fq2unp6frG+F+cRBASEYREBCERQUhEEBIRhEQEIe+JboBfv34VZ8+ePauu/fbtW3HWarWqaz99+lSc3b9/v7qW/ziJICQiCIkIQiKCkIggJCIIueK+4d6/f1+dLywsFGe/f/+url1ZWSnO1tbWqmvv3btXnf9NnEQQEhGERAQhEUFIRBASEYRccd9yy8vLxdnbt2+ra2tX4Kurq9W16+vr9Y39RZxEEBIRhEQEIRFBSEQQEhGERAQh74nusFevXlXnW1tbxdnAwEB17cbGRnH28uXL6tqRkZHq/LZxEkFIRBASEYREBCERQUhEEBq87g30297eXnH248eP6tqjo6Omt3Olul1TDw0NFWcXFxfVta9fvy7Ovn79Wl1b+w9Gt/H620kEIRFBSEQQEhGERAQhEUFIRBC6c59CHB8fV+dTU1PFWbd3IzSj9mPO7Xa7unZ4eLjp7cScRBASEYREBCERQUhEEBIRhO7cpxCPHz+uzt+8eVOc/fz5s7p2fHy8OJuYmKiuffjwYXXe67rz8/OenttNt+eenZ0VZ92uqWufYHT7seabyEkEIRFBSEQQEhGERAQhEUFIRBC6c59CQL85iSAkIgiJCEIigpCIICQiCIkIQiKCkIggJCIIiQhCIoKQiCAkIgiJCEIigpCIICQiCIkIQiKCkIggJCIIiQhCIoKQiCAkIgiJCEIigpCIICQiCIkIQiKCkIggJCIIiQhCIoKQiCAkIgiJCEIigpCIICQiCIkIQiKCkIggJCIIiQhCIoKQiCAkIgiJCEJ/AIG0vTKweXgiAAAAAElFTkSuQmCC\" y=\"-6.392771\"/>\r\n   </g>\r\n   <g id=\"matplotlib.axis_1\"/>\r\n   <g id=\"matplotlib.axis_2\"/>\r\n   <g id=\"patch_3\">\r\n    <path d=\"M 10.7 215.392771 \r\nL 10.7 7.2 \r\n\" style=\"fill:none;stroke:#000000;stroke-linecap:square;stroke-linejoin:miter;stroke-width:0.8;\"/>\r\n   </g>\r\n   <g id=\"patch_4\">\r\n    <path d=\"M 218.892771 215.392771 \r\nL 218.892771 7.2 \r\n\" style=\"fill:none;stroke:#000000;stroke-linecap:square;stroke-linejoin:miter;stroke-width:0.8;\"/>\r\n   </g>\r\n   <g id=\"patch_5\">\r\n    <path d=\"M 10.7 215.392771 \r\nL 218.892771 215.392771 \r\n\" style=\"fill:none;stroke:#000000;stroke-linecap:square;stroke-linejoin:miter;stroke-width:0.8;\"/>\r\n   </g>\r\n   <g id=\"patch_6\">\r\n    <path d=\"M 10.7 7.2 \r\nL 218.892771 7.2 \r\n\" style=\"fill:none;stroke:#000000;stroke-linecap:square;stroke-linejoin:miter;stroke-width:0.8;\"/>\r\n   </g>\r\n  </g>\r\n  <g id=\"axes_2\">\r\n   <g id=\"patch_7\">\r\n    <path d=\"M 229.30241 215.392771 \r\nL 437.495181 215.392771 \r\nL 437.495181 7.2 \r\nL 229.30241 7.2 \r\nz\r\n\" style=\"fill:#ffffff;\"/>\r\n   </g>\r\n   <g clip-path=\"url(#p5d26977612)\">\r\n    <image height=\"209\" id=\"image1c58292d58\" transform=\"scale(1 -1)translate(0 -209)\" width=\"209\" x=\"229.30241\" xlink:href=\"data:image/png;base64,\r\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\" y=\"-6.392771\"/>\r\n   </g>\r\n   <g id=\"matplotlib.axis_3\"/>\r\n   <g id=\"matplotlib.axis_4\"/>\r\n   <g id=\"patch_8\">\r\n    <path d=\"M 229.30241 215.392771 \r\nL 229.30241 7.2 \r\n\" style=\"fill:none;stroke:#000000;stroke-linecap:square;stroke-linejoin:miter;stroke-width:0.8;\"/>\r\n   </g>\r\n   <g id=\"patch_9\">\r\n    <path d=\"M 437.495181 215.392771 \r\nL 437.495181 7.2 \r\n\" style=\"fill:none;stroke:#000000;stroke-linecap:square;stroke-linejoin:miter;stroke-width:0.8;\"/>\r\n   </g>\r\n   <g id=\"patch_10\">\r\n    <path d=\"M 229.30241 215.392771 \r\nL 437.495181 215.392771 \r\n\" style=\"fill:none;stroke:#000000;stroke-linecap:square;stroke-linejoin:miter;stroke-width:0.8;\"/>\r\n   </g>\r\n   <g id=\"patch_11\">\r\n    <path d=\"M 229.30241 7.2 \r\nL 437.495181 7.2 \r\n\" style=\"fill:none;stroke:#000000;stroke-linecap:square;stroke-linejoin:miter;stroke-width:0.8;\"/>\r\n   </g>\r\n  </g>\r\n  <g id=\"axes_3\">\r\n   <g id=\"patch_12\">\r\n    <path d=\"M 447.904819 215.392771 \r\nL 656.09759 215.392771 \r\nL 656.09759 7.2 \r\nL 447.904819 7.2 \r\nz\r\n\" style=\"fill:#ffffff;\"/>\r\n   </g>\r\n   <g clip-path=\"url(#p8ec3ddc6b7)\">\r\n    <image height=\"209\" id=\"imagedd59d5f13e\" transform=\"scale(1 -1)translate(0 -209)\" width=\"209\" x=\"447.904819\" xlink:href=\"data:image/png;base64,\r\niVBORw0KGgoAAAANSUhEUgAAANEAAADRCAYAAABSOlfvAAAFjElEQVR4nO3dT4hObRzH4fMgMpGyULKwVSwUFjaSERvRSMlKEmHPBiFN2bCxYWFFVljY2FkppqaUIlMWNCHJwr8pTcy75F3c94zz5Z2Z91zX9tfvzCl93HVOz/P0JiYmJhqgtTnTfQMw24kIQiKCkIggJCIIiQhCIoKQiCAkIgiJCEIigpCIICQiCIkIQvOm+wZmktu3b1fnZ8+eLc6ePn3a+u+ePHmyODt37lx1d84c/w9ON/8CEBIRhEQEIRFBSEQQEhGEOveI+8ePH8XZZI+4nz9/Xpz19fVVd8fGxoqzwcHB4qzX61Wve+bMmeJs7ty51V3+DCcRhEQEIRFBSEQQEhGERAQhEUGo17VfhRgdHS3O+vv7q7unT58uzrZv317d3blzZ3H2+PHj4mx8fLx63fv37xdnmzdvru7yZziJICQiCIkIQiKCkIggJCIIde4R90x08eLF4uz48ePV3ZUrVxZn9+7dq+6uWrWqfmNMiZMIQiKCkIggJCIIiQhCIoKQiCDkPdEM8Pbt2+Js165d1d3h4eHibGBgoLo72VeEMTVOIgiJCEIigpCIICQiCIkIQp37VYiZaPny5cXZpUuXqrvbtm0rzr5+/Vrd/fbtW3G2YMGC6i4/OYkgJCIIiQhCIoKQiCAkIgiJCEI+CjHLbdy4sTgbGhqq7j558qQ4W7NmTet76honEYREBCERQUhEEBIRhEQEIR+F6LB3794VZx5xT52TCEIigpCIICQiCIkIQiKCkIgg5D1Rh127dq046+/v/w/vZHZzEkFIRBASEYREBCERQUhEEPKI+xcjIyPV+ZcvX4qzdevW/enbYZZwEkFIRBASEYREBCERQUhEEBIRhDr3nujhw4fF2e7du6u7tfdE69evr+4ePny4ONu3b19x9uHDh+p1P378WJwtW7asunvkyJHqnKlxEkFIRBASEYREBCERQUhEEOrcDx8/ePCgONu0adNf+7uLFy8uzlavXl2cffr0qXrdZ8+eFWcnTpyo7l64cKE6Z2qcRBASEYREBCERQUhEEBIRhEQEoc59FGLDhg3F2fDwcHX3zp07xVntfU3T1D+C8ejRo+puW2vXrv0r1+XfnEQQEhGERAQhEUFIRBASEYQ691GI6fLq1avi7OrVq8VZ7ceJm6Zp3r9/X5wtWbKkunv+/PnibP/+/dXd2kc7usZJBCERQUhEEBIRhEQEIRFByCPuGW50dLQ6P3XqVHF2/fr11n/31q1b1flkX/7fJU4iCIkIQiKCkIggJCIIiQhCIoKQ90Sz3NjYWHE22Xuio0ePFmeLFi2q7t68ebM427FjR3X3/8ZJBCERQUhEEBIRhEQEIRFBqHNfaP/58+fi7MaNG9XdpUuXFmd79+5tfU+Jvr6+4myyb+ypvd04duxYdffu3bvFmUfcwG8REYREBCERQUhEEBIRhEQEoc69JxofHy/OLl++XN198eJFcTY4OFjdPXjwYHG2YsWK4mzPnj3V69bUfqi5aZpmaGio9bX5yUkEIRFBSEQQEhGERAQhEUHIt/384vXr19X51q1bi7ORkZHWf3fevPKbhoULF7a+bu2bgJqmab5//9762rUfZD5w4EDr685GTiIIiQhCIoKQiCAkIgiJCEIigpD3RL/hzZs3xdmVK1daX7f26w0vX75sfd1Dhw5V51u2bCnOBgYGqrvz588vznq9Xv3G/mecRBASEYREBCERQUhEEBIRhDzihpCTCEIigpCIICQiCIkIQiKCkIggJCIIiQhCIoKQiCAkIgiJCEIigpCIICQiCIkIQiKCkIggJCIIiQhCIoKQiCAkIgiJCEIigpCIICQiCIkIQiKCkIggJCIIiQhCIoKQiCAkIgiJCEIigpCIICQiCIkIQiKCkIggJCII/QPKvACoRYbjwgAAAABJRU5ErkJggg==\" y=\"-6.392771\"/>\r\n   </g>\r\n   <g id=\"matplotlib.axis_5\"/>\r\n   <g id=\"matplotlib.axis_6\"/>\r\n   <g id=\"patch_13\">\r\n    <path d=\"M 447.904819 215.392771 \r\nL 447.904819 7.2 \r\n\" style=\"fill:none;stroke:#000000;stroke-linecap:square;stroke-linejoin:miter;stroke-width:0.8;\"/>\r\n   </g>\r\n   <g id=\"patch_14\">\r\n    <path d=\"M 656.09759 215.392771 \r\nL 656.09759 7.2 \r\n\" style=\"fill:none;stroke:#000000;stroke-linecap:square;stroke-linejoin:miter;stroke-width:0.8;\"/>\r\n   </g>\r\n   <g id=\"patch_15\">\r\n    <path d=\"M 447.904819 215.392771 \r\nL 656.09759 215.392771 \r\n\" style=\"fill:none;stroke:#000000;stroke-linecap:square;stroke-linejoin:miter;stroke-width:0.8;\"/>\r\n   </g>\r\n   <g id=\"patch_16\">\r\n    <path d=\"M 447.904819 7.2 \r\nL 656.09759 7.2 \r\n\" style=\"fill:none;stroke:#000000;stroke-linecap:square;stroke-linejoin:miter;stroke-width:0.8;\"/>\r\n   </g>\r\n  </g>\r\n </g>\r\n <defs>\r\n  <clipPath id=\"pa32b135417\">\r\n   <rect height=\"208.192771\" width=\"208.192771\" x=\"10.7\" y=\"7.2\"/>\r\n  </clipPath>\r\n  <clipPath id=\"p5d26977612\">\r\n   <rect height=\"208.192771\" width=\"208.192771\" x=\"229.30241\" y=\"7.2\"/>\r\n  </clipPath>\r\n  <clipPath id=\"p8ec3ddc6b7\">\r\n   <rect height=\"208.192771\" width=\"208.192771\" x=\"447.904819\" y=\"7.2\"/>\r\n  </clipPath>\r\n </defs>\r\n</svg>\r\n",
      "image/png": "[encoded data removed]"
     },
     "metadata": {}
    }
   ],
   "source": [
    "#여러개그리는코드\n",
    "fig = plt.figure(figsize=(12, 4))  \n",
    "fig.subplots_adjust(left=0, right=1, bottom=0, top=1, hspace=0.05, wspace=0.05)\n",
    "\n",
    "for i in range(3):\n",
    "    ax = fig.add_subplot(1, 4, i + 1, xticks=[], yticks=[])\n",
    "    ax.imshow(test_data[i].reshape(28,28), cmap=plt.cm.binary, interpolation='nearest')"
   ]
  },
  {
   "cell_type": "code",
   "execution_count": null,
   "metadata": {},
   "outputs": [],
   "source": []
  }
 ]
}