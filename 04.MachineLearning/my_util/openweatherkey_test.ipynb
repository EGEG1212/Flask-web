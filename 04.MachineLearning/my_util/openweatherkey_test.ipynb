{
 "metadata": {
  "language_info": {
   "codemirror_mode": {
    "name": "ipython",
    "version": 3
   },
   "file_extension": ".py",
   "mimetype": "text/x-python",
   "name": "python",
   "nbconvert_exporter": "python",
   "pygments_lexer": "ipython3",
   "version": "3.8.3-final"
  },
  "orig_nbformat": 2,
  "kernelspec": {
   "name": "python3",
   "display_name": "Python 3",
   "language": "python"
  }
 },
 "nbformat": 4,
 "nbformat_minor": 2,
 "cells": [
  {
   "cell_type": "code",
   "execution_count": 9,
   "metadata": {},
   "outputs": [],
   "source": [
    "lat=37.550966\n",
    "lng=126.849532"
   ]
  },
  {
   "cell_type": "code",
   "execution_count": 10,
   "metadata": {},
   "outputs": [
    {
     "output_type": "execute_result",
     "data": {
      "text/plain": [
       "'1679f94783f116a2793036b6ef26d2f3'"
      ]
     },
     "metadata": {},
     "execution_count": 10
    }
   ],
   "source": [
    "key_fd = open('./openweatherkey.txt', 'rt', encoding='UTF8') # mode='r')\n",
    "oweather_key = key_fd.read(100)\n",
    "oweather_key"
   ]
  },
  {
   "cell_type": "code",
   "execution_count": 11,
   "metadata": {},
   "outputs": [
    {
     "output_type": "execute_result",
     "data": {
      "text/plain": [
       "'http://api.openweathermap.org/data/2.5/weather?lat=37.550966&lon=126.849532&appid=1679f94783f116a2793036b6ef26d2f3&units=metric&lang=kr'"
      ]
     },
     "metadata": {},
     "execution_count": 11
    }
   ],
   "source": [
    "open_weather = 'http://api.openweathermap.org/data/2.5/weather'\n",
    "url = f'{open_weather}?lat={lat}&lon={lng}&appid={oweather_key}&units=metric&lang=kr'\n",
    "url"
   ]
  },
  {
   "cell_type": "code",
   "execution_count": 12,
   "metadata": {},
   "outputs": [],
   "source": [
    "import requests\n",
    "results = requests.get(url).json()"
   ]
  },
  {
   "cell_type": "code",
   "execution_count": 14,
   "metadata": {},
   "outputs": [
    {
     "output_type": "stream",
     "name": "stdout",
     "text": [
      "13d 가벼운 눈 1.85\n"
     ]
    }
   ],
   "source": [
    "icon = results['weather'][0]['icon']\n",
    "desc = results['weather'][0]['description']\n",
    "temp = results['main']['temp']\n",
    "print(icon, desc, temp)"
   ]
  },
  {
   "cell_type": "code",
   "execution_count": 15,
   "metadata": {},
   "outputs": [
    {
     "output_type": "stream",
     "name": "stdout",
     "text": [
      "1.9 1 3\n"
     ]
    }
   ],
   "source": [
    "temp = round(float(temp)+0.01, 1)\n",
    "temp_min = results['main']['temp_min']\n",
    "temp_max = results['main']['temp_max']\n",
    "print(temp, temp_min, temp_max)"
   ]
  },
  {
   "cell_type": "code",
   "execution_count": null,
   "metadata": {},
   "outputs": [],
   "source": []
  }
 ]
}