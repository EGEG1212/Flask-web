{
 "metadata": {
  "language_info": {
   "codemirror_mode": {
    "name": "ipython",
    "version": 3
   },
   "file_extension": ".py",
   "mimetype": "text/x-python",
   "name": "python",
   "nbconvert_exporter": "python",
   "pygments_lexer": "ipython3",
   "version": "3.8.5-final"
  },
  "orig_nbformat": 2,
  "kernelspec": {
   "name": "python3",
   "display_name": "Python 3",
   "language": "python"
  }
 },
 "nbformat": 4,
 "nbformat_minor": 2,
 "cells": [
  {
   "source": [
    "# 한영,영한 naver번역하고 > 감성분석하기"
   ],
   "cell_type": "markdown",
   "metadata": {}
  },
  {
   "source": [
    "### 번역"
   ],
   "cell_type": "markdown",
   "metadata": {}
  },
  {
   "cell_type": "code",
   "execution_count": 1,
   "metadata": {},
   "outputs": [],
   "source": [
    "text = '영화 중에 제일 재밌음'\n",
    "trans = 'koen'"
   ]
  },
  {
   "cell_type": "code",
   "execution_count": 2,
   "metadata": {},
   "outputs": [],
   "source": [
    "import json\n",
    "import requests\n",
    "import joblib"
   ]
  },
  {
   "cell_type": "code",
   "execution_count": 4,
   "metadata": {},
   "outputs": [],
   "source": [
    "with open('../static/keys/papago_key.json') as nkey:\n",
    "    json_str = nkey.read(100)\n",
    "json_obj = json.loads(json_str)\n",
    "client_id = list(json_obj.keys())[0] #jsom파일로부터 꺼내는작업\n",
    "client_secret = json_obj[client_id]"
   ]
  },
  {
   "cell_type": "code",
   "execution_count": 5,
   "metadata": {},
   "outputs": [],
   "source": [
    "n_url = \"https://naveropenapi.apigw.ntruss.com/nmt/v1/translation\"\n",
    "n_mapping = {'koen': ('ko','en'), 'enko': ('en','ko')}"
   ]
  },
  {
   "cell_type": "code",
   "execution_count": 7,
   "metadata": {},
   "outputs": [
    {
     "output_type": "execute_result",
     "data": {
      "text/plain": [
       "'ko'"
      ]
     },
     "metadata": {},
     "execution_count": 7
    }
   ],
   "source": [
    "n_mapping[trans][0]"
   ]
  },
  {
   "cell_type": "code",
   "execution_count": 8,
   "metadata": {},
   "outputs": [
    {
     "output_type": "execute_result",
     "data": {
      "text/plain": [
       "'en'"
      ]
     },
     "metadata": {},
     "execution_count": 8
    }
   ],
   "source": [
    "n_mapping[trans][1]"
   ]
  },
  {
   "cell_type": "code",
   "execution_count": 9,
   "metadata": {},
   "outputs": [],
   "source": [
    "val = {\n",
    "            \"source\": n_mapping[trans][0],\n",
    "            \"target\": n_mapping[trans][1],\n",
    "            \"text\": text\n",
    "        }\n",
    "headers = {\n",
    "            \"X-NCP-APIGW-API-KEY-ID\": client_id,\n",
    "            \"X-NCP-APIGW-API-KEY\": client_secret\n",
    "        }"
   ]
  },
  {
   "cell_type": "code",
   "execution_count": 11,
   "metadata": {},
   "outputs": [],
   "source": [
    "result = requests.post(\n",
    "            n_url, data=val, headers=headers).json()  # .json()추가\n",
    "n_translated_text = result['message']['result']['translatedText']"
   ]
  },
  {
   "cell_type": "code",
   "execution_count": 12,
   "metadata": {},
   "outputs": [
    {
     "output_type": "execute_result",
     "data": {
      "text/plain": [
       "\"It's the funniest movie ever.\""
      ]
     },
     "metadata": {},
     "execution_count": 12
    }
   ],
   "source": [
    "n_translated_text"
   ]
  },
  {
   "source": [
    "### 감성분석 "
   ],
   "cell_type": "markdown",
   "metadata": {}
  },
  {
   "cell_type": "code",
   "execution_count": 13,
   "metadata": {},
   "outputs": [],
   "source": [
    "test_data = []\n",
    "test_data.append(text) #(request.form['text'])"
   ]
  },
  {
   "cell_type": "code",
   "execution_count": 23,
   "metadata": {},
   "outputs": [
    {
     "output_type": "execute_result",
     "data": {
      "text/plain": [
       "'영화 중에 제일 재밌음'"
      ]
     },
     "metadata": {},
     "execution_count": 23
    }
   ],
   "source": [
    "test_data[0]"
   ]
  },
  {
   "cell_type": "code",
   "execution_count": 22,
   "metadata": {},
   "outputs": [
    {
     "output_type": "execute_result",
     "data": {
      "text/plain": [
       "\"It's the funniest movie ever.\""
      ]
     },
     "metadata": {},
     "execution_count": 22
    }
   ],
   "source": [
    "trans_data = []\n",
    "trans_data.append(n_translated_text)\n",
    "trans_data[0]"
   ]
  },
  {
   "cell_type": "code",
   "execution_count": null,
   "metadata": {},
   "outputs": [],
   "source": []
  },
  {
   "cell_type": "code",
   "execution_count": 17,
   "metadata": {},
   "outputs": [],
   "source": [
    "imdb_tfidf_lr = joblib.load('../static/model/IMDB_tfidf_lr.pkl')\n",
    "naver_tfidf_nb = joblib.load('../static/model/naver_tfidf_nb8298.pkl')"
   ]
  },
  {
   "cell_type": "code",
   "execution_count": 24,
   "metadata": {},
   "outputs": [],
   "source": [
    "pred_tl = '긍정' if imdb_tfidf_lr.predict(trans_data)[0] else '부정'\n",
    "pred_tn = '긍정' if naver_tfidf_nb.predict(test_data)[0] else '부정'"
   ]
  },
  {
   "cell_type": "code",
   "execution_count": 25,
   "metadata": {},
   "outputs": [
    {
     "output_type": "execute_result",
     "data": {
      "text/plain": [
       "('긍정', '부정')"
      ]
     },
     "metadata": {},
     "execution_count": 25
    }
   ],
   "source": [
    "pred_tl, pred_tn"
   ]
  },
  {
   "cell_type": "code",
   "execution_count": 26,
   "metadata": {},
   "outputs": [
    {
     "output_type": "execute_result",
     "data": {
      "text/plain": [
       "('ko', 'en')"
      ]
     },
     "metadata": {},
     "execution_count": 26
    }
   ],
   "source": [
    "n_mapping[trans]"
   ]
  },
  {
   "source": [
    "### 카카오언어감지"
   ],
   "cell_type": "markdown",
   "metadata": {}
  },
  {
   "cell_type": "code",
   "execution_count": 3,
   "metadata": {},
   "outputs": [],
   "source": [
    "import requests\n",
    "from urllib.parse import quote"
   ]
  },
  {
   "cell_type": "code",
   "execution_count": 6,
   "metadata": {},
   "outputs": [],
   "source": [
    "with open('../static/keys/kakaoaikey.txt') as kfile:\n",
    "    kai_key = kfile.read(100)"
   ]
  },
  {
   "cell_type": "code",
   "execution_count": 7,
   "metadata": {},
   "outputs": [],
   "source": [
    "text = '이 문서는 카카오 번역 API 사용 방법을 설명합니다.'\n",
    "eng_text = 'This document describes how to use the kakao translation API'"
   ]
  },
  {
   "cell_type": "code",
   "execution_count": 9,
   "metadata": {},
   "outputs": [
    {
     "output_type": "execute_result",
     "data": {
      "text/plain": [
       "{'language_info': [{'code': 'kr', 'name': 'Korean', 'confidence': 1.0}]}"
      ]
     },
     "metadata": {},
     "execution_count": 9
    }
   ],
   "source": [
    "url = 'https://dapi.kakao.com/v3/translation/language/detect?query='+quote(text)\n",
    "result = requests.get(url, headers={\"Authorization\": \"KakaoAK \"+kai_key}).json()\n",
    "result"
   ]
  },
  {
   "cell_type": "code",
   "execution_count": 10,
   "metadata": {},
   "outputs": [
    {
     "output_type": "execute_result",
     "data": {
      "text/plain": [
       "'kr'"
      ]
     },
     "metadata": {},
     "execution_count": 10
    }
   ],
   "source": [
    "k_result['language_info'][0]['code']"
   ]
  },
  {
   "cell_type": "code",
   "execution_count": null,
   "metadata": {},
   "outputs": [],
   "source": []
  }
 ]
}