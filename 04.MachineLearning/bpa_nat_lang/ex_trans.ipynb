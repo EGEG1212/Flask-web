{
 "metadata": {
  "language_info": {
   "codemirror_mode": {
    "name": "ipython",
    "version": 3
   },
   "file_extension": ".py",
   "mimetype": "text/x-python",
   "name": "python",
   "nbconvert_exporter": "python",
   "pygments_lexer": "ipython3",
   "version": "3.8.5-final"
  },
  "orig_nbformat": 2,
  "kernelspec": {
   "name": "python3",
   "display_name": "Python 3",
   "language": "python"
  }
 },
 "nbformat": 4,
 "nbformat_minor": 2,
 "cells": [
  {
   "source": [
    "## NAVER번역"
   ],
   "cell_type": "markdown",
   "metadata": {}
  },
  {
   "cell_type": "code",
   "execution_count": 43,
   "metadata": {},
   "outputs": [],
   "source": [
    "import json\n",
    "import requests\n",
    "from urllib.parse import quote\n",
    "with open('../static/keys/papago_key.json') as nkey:\n",
    "    json_str = nkey.read(100)\n",
    "json_obj = json.loads(json_str)\n",
    "client_id = list(json_obj.keys())[0]\n",
    "client_secret = json_obj[client_id]"
   ]
  },
  {
   "cell_type": "code",
   "execution_count": 29,
   "metadata": {},
   "outputs": [],
   "source": [
    "url = \"https://naveropenapi.apigw.ntruss.com/nmt/v1/translation\""
   ]
  },
  {
   "cell_type": "code",
   "execution_count": 30,
   "metadata": {},
   "outputs": [],
   "source": [
    "text = \"안녕\""
   ]
  },
  {
   "cell_type": "code",
   "execution_count": 31,
   "metadata": {},
   "outputs": [],
   "source": [
    "test_data = []\n",
    "test_data.append(text)"
   ]
  },
  {
   "cell_type": "code",
   "execution_count": 32,
   "metadata": {},
   "outputs": [
    {
     "output_type": "execute_result",
     "data": {
      "text/plain": [
       "'안녕'"
      ]
     },
     "metadata": {},
     "execution_count": 32
    }
   ],
   "source": [
    "test_data[0]"
   ]
  },
  {
   "cell_type": "code",
   "execution_count": 33,
   "metadata": {},
   "outputs": [],
   "source": [
    "feature = 'en'"
   ]
  },
  {
   "cell_type": "code",
   "execution_count": 34,
   "metadata": {},
   "outputs": [],
   "source": [
    "val = {\n",
    "    \"source\": 'ko',\n",
    "    \"target\": feature,\n",
    "    \"text\": text\n",
    "}"
   ]
  },
  {
   "cell_type": "code",
   "execution_count": 35,
   "metadata": {},
   "outputs": [],
   "source": [
    "headers = {\n",
    "    \"X-NCP-APIGW-API-KEY-ID\": client_id,\n",
    "    \"X-NCP-APIGW-API-KEY\": client_secret\n",
    "}"
   ]
  },
  {
   "cell_type": "code",
   "execution_count": 36,
   "metadata": {},
   "outputs": [
    {
     "output_type": "stream",
     "name": "stdout",
     "text": [
      "{\"message\":{\"@type\":\"response\",\"@service\":\"naverservice.nmt.proxy\",\"@version\":\"1.0.0\",\"result\":{\"srcLangType\":\"ko\",\"tarLangType\":\"en\",\"translatedText\":\"Hi.\"}}}\n"
     ]
    }
   ],
   "source": [
    "#메소드POST로 감\n",
    "response = requests.post(url,  data=val, headers=headers)\n",
    "rescode = response.status_code\n",
    "if rescode == 200:\n",
    "    print(response.text)\n",
    "else:\n",
    "    print(\"Error : \" + response.text)"
   ]
  },
  {
   "cell_type": "code",
   "execution_count": 37,
   "metadata": {},
   "outputs": [
    {
     "output_type": "execute_result",
     "data": {
      "text/plain": [
       "'Hi.'"
      ]
     },
     "metadata": {},
     "execution_count": 37
    }
   ],
   "source": [
    "result = response.json()\n",
    "n_result_text = result['message']['result']['translatedText']\n",
    "n_result_text"
   ]
  },
  {
   "source": [
    "## kakako번역"
   ],
   "cell_type": "markdown",
   "metadata": {}
  },
  {
   "cell_type": "code",
   "execution_count": 4,
   "metadata": {},
   "outputs": [],
   "source": [
    "from urllib.parse import quote\n",
    "with open('../static/keys/kakaoapikey.txt') as kfile:\n",
    "    kai_key = kfile.read(100)"
   ]
  },
  {
   "cell_type": "code",
   "execution_count": 9,
   "metadata": {},
   "outputs": [
    {
     "output_type": "execute_result",
     "data": {
      "text/plain": [
       "'Hello'"
      ]
     },
     "metadata": {},
     "execution_count": 9
    }
   ],
   "source": [
    "url = 'https://dapi.kakao.com/v2/translation/translate?query='+quote(test_data[0])+'&src_lang=kr&target_lang='+feature\n",
    "k_result_text = requests.get(url, headers={\"Authorization\": \"KakaoAK \"+kai_key}).json()\n",
    "k_result_text['translated_text'][0][0]"
   ]
  },
  {
   "cell_type": "code",
   "execution_count": 10,
   "metadata": {},
   "outputs": [
    {
     "output_type": "execute_result",
     "data": {
      "text/plain": [
       "{'translated_text': [['Hello']]}"
      ]
     },
     "metadata": {},
     "execution_count": 10
    }
   ],
   "source": [
    "k_result_text"
   ]
  },
  {
   "cell_type": "code",
   "execution_count": 11,
   "metadata": {},
   "outputs": [],
   "source": [
    "feature_dict = {'en': '영어', 'es': '스페인어',\n",
    "                        'fr': '프랑스어', 'vi': '베트남어'}"
   ]
  },
  {
   "cell_type": "code",
   "execution_count": 13,
   "metadata": {},
   "outputs": [
    {
     "output_type": "execute_result",
     "data": {
      "text/plain": [
       "dict_keys(['en', 'es', 'fr', 'vi'])"
      ]
     },
     "metadata": {},
     "execution_count": 13
    }
   ],
   "source": [
    "feature_dict.keys()"
   ]
  },
  {
   "cell_type": "code",
   "execution_count": 17,
   "metadata": {},
   "outputs": [
    {
     "output_type": "execute_result",
     "data": {
      "text/plain": [
       "'영어'"
      ]
     },
     "metadata": {},
     "execution_count": 17
    }
   ],
   "source": [
    "feature_dict[feature]"
   ]
  },
  {
   "source": [
    "# TTS"
   ],
   "cell_type": "markdown",
   "metadata": {}
  },
  {
   "cell_type": "code",
   "execution_count": 44,
   "metadata": {},
   "outputs": [],
   "source": [
    "with open('../static/keys/clova_key.json') as nkey:\n",
    "    json_str = nkey.read(100)\n",
    "json_obj = json.loads(json_str)\n",
    "client_id = list(json_obj.keys())[0]\n",
    "client_secret = json_obj[client_id]"
   ]
  },
  {
   "cell_type": "code",
   "execution_count": 45,
   "metadata": {},
   "outputs": [
    {
     "output_type": "execute_result",
     "data": {
      "text/plain": [
       "'Hi.'"
      ]
     },
     "metadata": {},
     "execution_count": 45
    }
   ],
   "source": [
    "text = n_result_text\n",
    "text"
   ]
  },
  {
   "cell_type": "code",
   "execution_count": 46,
   "metadata": {},
   "outputs": [],
   "source": [
    "text = k_result_text['translated_text'][0][0]"
   ]
  },
  {
   "cell_type": "code",
   "execution_count": 47,
   "metadata": {},
   "outputs": [],
   "source": [
    "speaker = \"nara\" \n",
    "speed = \"0\"\n",
    "pitch = \"0\"\n",
    "emotion = \"0\"\n",
    "format = \"mp3\"\n",
    "\n",
    "url = \"https://naveropenapi.apigw.ntruss.com/tts-premium/v1/tts\" #여기 변경\n",
    "\n",
    "headers = {\n",
    "    \"X-NCP-APIGW-API-KEY-ID\": client_id,\n",
    "    \"X-NCP-APIGW-API-KEY\": client_secret,\n",
    "    \"Content-Type\": \"application/x-www-form-urlencoded\" }\n",
    "val = {\n",
    "    \"speaker\": speaker,\n",
    "    \"speed\": speed,\n",
    "    \"text\": n_result_text\n",
    "}"
   ]
  },
  {
   "cell_type": "code",
   "execution_count": 48,
   "metadata": {},
   "outputs": [
    {
     "output_type": "stream",
     "name": "stdout",
     "text": [
      "200\n"
     ]
    }
   ],
   "source": [
    "response = requests.post(url,  data=val, headers=headers)\n",
    "rescode = response.status_code\n",
    "if(rescode == 200):\n",
    "    print(rescode)\n",
    "    with open('voice/cpv_sample.mp3', 'wb') as f:\n",
    "        f.write(response.content)\n",
    "else:\n",
    "    print(\"Error : \" + response.text)"
   ]
  },
  {
   "cell_type": "code",
   "execution_count": null,
   "metadata": {},
   "outputs": [],
   "source": []
  },
  {
   "cell_type": "code",
   "execution_count": null,
   "metadata": {},
   "outputs": [],
   "source": []
  }
 ]
}