{
 "cells": [
  {
   "cell_type": "code",
   "execution_count": 30,
   "metadata": {},
   "outputs": [],
   "source": [
    "import requests\n",
    "from bs4 import BeautifulSoup\n",
    "from flask import current_app\n",
    "import pandas as pd"
   ]
  },
  {
   "cell_type": "code",
   "execution_count": 31,
   "metadata": {},
   "outputs": [],
   "source": [
    "with open('../static/data/seoul_api_key.txt', mode='r') as key_fd:\n",
    "        seoulapi_key = key_fd.read(100)"
   ]
  },
  {
   "cell_type": "code",
   "execution_count": 32,
   "metadata": {},
   "outputs": [],
   "source": [
    "corona_url = 'http://openapi.seoul.go.kr:8088'"
   ]
  },
  {
   "cell_type": "code",
   "execution_count": 33,
   "metadata": {},
   "outputs": [],
   "source": [
    "type = 'xml'\n",
    "url = f'{corona_url}/{seoulapi_key}/{type}/Corona19Status/1/10'\n",
    "result = requests.get(url)"
   ]
  },
  {
   "cell_type": "code",
   "execution_count": 34,
   "metadata": {},
   "outputs": [],
   "source": [
    "soup = BeautifulSoup(result.text, 'xml')\n",
    "resultCode = soup.find('RESULT').find('CODE').get_text()"
   ]
  },
  {
   "cell_type": "code",
   "execution_count": 41,
   "metadata": {
    "scrolled": false
   },
   "outputs": [
    {
     "data": {
      "text/plain": [
       "'INFO-000'"
      ]
     },
     "execution_count": 41,
     "metadata": {},
     "output_type": "execute_result"
    }
   ],
   "source": [
    "resultCode"
   ]
  },
  {
   "cell_type": "code",
   "execution_count": 44,
   "metadata": {
    "scrolled": true
   },
   "outputs": [
    {
     "data": {
      "text/plain": [
       "22859"
      ]
     },
     "execution_count": 44,
     "metadata": {},
     "output_type": "execute_result"
    }
   ],
   "source": [
    "list_total_count = int(soup.find('list_total_count').get_text())\n",
    "list_total_count"
   ]
  },
  {
   "cell_type": "code",
   "execution_count": 54,
   "metadata": {},
   "outputs": [],
   "source": [
    "import sqlite3\n",
    "def get_seoul_last_sid():\n",
    "    conn = sqlite3.connect('../db/covid.db')\n",
    "    cur = conn.cursor()\n",
    "\n",
    "    sql = f'select sid from seoul order by sid desc limit 1;'\n",
    "    cur.execute(sql)\n",
    "    row = cur.fetchone()\n",
    "\n",
    "    cur.close()\n",
    "    conn.close()\n",
    "    return row[0]"
   ]
  },
  {
   "cell_type": "code",
   "execution_count": 55,
   "metadata": {},
   "outputs": [],
   "source": [
    "last_sid = get_seoul_last_sid()"
   ]
  },
  {
   "cell_type": "code",
   "execution_count": 61,
   "metadata": {},
   "outputs": [],
   "source": [
    "read_count = list_total_count - last_sid"
   ]
  },
  {
   "cell_type": "code",
   "execution_count": 65,
   "metadata": {},
   "outputs": [],
   "source": [
    "id_list, date_list, area_list, travel_list = [], [], [], []\n",
    "contact_list, status_list, moving_list = [], [], []\n",
    "for i in range(1, read_count, 1000):\n",
    "    start_index = i\n",
    "    end_index = i+1000-1 if i+1000-1 < read_count else read_count\n",
    "    url = f'{corona_url}/{seoulapi_key}/{type}/Corona19Status/{start_index}/{end_index}'\n",
    "    result = requests.get(url)\n",
    "    soup = BeautifulSoup(result.text, 'xml')\n",
    "    items = soup.find_all('row')\n",
    "\n",
    "for item in items:\n",
    "    id_list.append(item.find('CORONA19_ID').string)\n",
    "    date_list.append(item.find('CORONA19_DATE').string)\n",
    "    area_list.append(item.find('CORONA19_AREA').string)\n",
    "    travel_list.append(item.find('CORONA19_TRAVEL_HISTORY').string)\n",
    "    contact_list.append(item.find('CORONA19_CONTACT_HISTORY').string)\n",
    "    status_list.append(item.find('CORONA19_LEAVE_STATUS').string)\n",
    "    moving_list.append(item.find('CORONA19_MOVING_PATH').string)"
   ]
  },
  {
   "cell_type": "code",
   "execution_count": 68,
   "metadata": {},
   "outputs": [
    {
     "data": {
      "text/plain": [
       "0      18859\n",
       "1      18858\n",
       "2      18857\n",
       "3      18856\n",
       "4      18855\n",
       "       ...  \n",
       "601    18258\n",
       "602    18257\n",
       "603    18256\n",
       "604    18255\n",
       "605    18254\n",
       "Name: 연번, Length: 606, dtype: int32"
      ]
     },
     "execution_count": 68,
     "metadata": {},
     "output_type": "execute_result"
    }
   ],
   "source": [
    "df = pd.DataFrame({'연번': id_list, '확진일': date_list, '지역': area_list, '여행력': travel_list,'접촉력': contact_list, '상태': status_list, '이동경로': moving_list})\n",
    "df['연번'] = df['연번'].astype(int)\n",
    "df['연번']"
   ]
  },
  {
   "cell_type": "code",
   "execution_count": 69,
   "metadata": {
    "scrolled": true
   },
   "outputs": [
    {
     "data": {
      "text/html": [
       "<div>\n",
       "<style scoped>\n",
       "    .dataframe tbody tr th:only-of-type {\n",
       "        vertical-align: middle;\n",
       "    }\n",
       "\n",
       "    .dataframe tbody tr th {\n",
       "        vertical-align: top;\n",
       "    }\n",
       "\n",
       "    .dataframe thead th {\n",
       "        text-align: right;\n",
       "    }\n",
       "</style>\n",
       "<table border=\"1\" class=\"dataframe\">\n",
       "  <thead>\n",
       "    <tr style=\"text-align: right;\">\n",
       "      <th></th>\n",
       "      <th>연번</th>\n",
       "      <th>확진일</th>\n",
       "      <th>지역</th>\n",
       "      <th>여행력</th>\n",
       "      <th>접촉력</th>\n",
       "      <th>상태</th>\n",
       "      <th>이동경로</th>\n",
       "    </tr>\n",
       "  </thead>\n",
       "  <tbody>\n",
       "    <tr>\n",
       "      <th>605</th>\n",
       "      <td>18254</td>\n",
       "      <td>2020-12-29</td>\n",
       "      <td>동작구</td>\n",
       "      <td>None</td>\n",
       "      <td>타시도 확진자 접촉</td>\n",
       "      <td>퇴원</td>\n",
       "      <td>이동경로 공개기간 경과</td>\n",
       "    </tr>\n",
       "    <tr>\n",
       "      <th>604</th>\n",
       "      <td>18255</td>\n",
       "      <td>2020-12-29</td>\n",
       "      <td>동작구</td>\n",
       "      <td>None</td>\n",
       "      <td>감염경로 조사중</td>\n",
       "      <td>퇴원</td>\n",
       "      <td>이동경로 공개기간 경과</td>\n",
       "    </tr>\n",
       "    <tr>\n",
       "      <th>603</th>\n",
       "      <td>18256</td>\n",
       "      <td>2020-12-29</td>\n",
       "      <td>용산구</td>\n",
       "      <td>None</td>\n",
       "      <td>기타 확진자 접촉</td>\n",
       "      <td>퇴원</td>\n",
       "      <td>이동경로 공개기간 경과</td>\n",
       "    </tr>\n",
       "    <tr>\n",
       "      <th>602</th>\n",
       "      <td>18257</td>\n",
       "      <td>2020-12-29</td>\n",
       "      <td>도봉구</td>\n",
       "      <td>None</td>\n",
       "      <td>기타 확진자 접촉</td>\n",
       "      <td>퇴원</td>\n",
       "      <td>이동경로 공개기간 경과</td>\n",
       "    </tr>\n",
       "    <tr>\n",
       "      <th>601</th>\n",
       "      <td>18258</td>\n",
       "      <td>2020-12-29</td>\n",
       "      <td>동작구</td>\n",
       "      <td>None</td>\n",
       "      <td>감염경로 조사중</td>\n",
       "      <td>퇴원</td>\n",
       "      <td>이동경로 공개기간 경과</td>\n",
       "    </tr>\n",
       "    <tr>\n",
       "      <th>...</th>\n",
       "      <td>...</td>\n",
       "      <td>...</td>\n",
       "      <td>...</td>\n",
       "      <td>...</td>\n",
       "      <td>...</td>\n",
       "      <td>...</td>\n",
       "      <td>...</td>\n",
       "    </tr>\n",
       "    <tr>\n",
       "      <th>4</th>\n",
       "      <td>18855</td>\n",
       "      <td>2020-12-30</td>\n",
       "      <td>종로구</td>\n",
       "      <td>None</td>\n",
       "      <td>감염경로 조사중</td>\n",
       "      <td>사망</td>\n",
       "      <td>이동경로 공개기간 경과</td>\n",
       "    </tr>\n",
       "    <tr>\n",
       "      <th>3</th>\n",
       "      <td>18856</td>\n",
       "      <td>2020-12-30</td>\n",
       "      <td>기타</td>\n",
       "      <td>None</td>\n",
       "      <td>동부구치소 관련</td>\n",
       "      <td>None</td>\n",
       "      <td>이동경로 공개기간 경과</td>\n",
       "    </tr>\n",
       "    <tr>\n",
       "      <th>2</th>\n",
       "      <td>18857</td>\n",
       "      <td>2020-12-30</td>\n",
       "      <td>기타</td>\n",
       "      <td>None</td>\n",
       "      <td>동부구치소 관련</td>\n",
       "      <td>None</td>\n",
       "      <td>이동경로 공개기간 경과</td>\n",
       "    </tr>\n",
       "    <tr>\n",
       "      <th>1</th>\n",
       "      <td>18858</td>\n",
       "      <td>2020-12-30</td>\n",
       "      <td>중랑구</td>\n",
       "      <td>None</td>\n",
       "      <td>기타 확진자 접촉</td>\n",
       "      <td>퇴원</td>\n",
       "      <td>이동경로 공개기간 경과</td>\n",
       "    </tr>\n",
       "    <tr>\n",
       "      <th>0</th>\n",
       "      <td>18859</td>\n",
       "      <td>2020-12-30</td>\n",
       "      <td>기타</td>\n",
       "      <td>None</td>\n",
       "      <td>동부구치소 관련</td>\n",
       "      <td>None</td>\n",
       "      <td>이동경로 공개기간 경과</td>\n",
       "    </tr>\n",
       "  </tbody>\n",
       "</table>\n",
       "<p>606 rows × 7 columns</p>\n",
       "</div>"
      ],
      "text/plain": [
       "        연번         확진일   지역   여행력         접촉력    상태          이동경로\n",
       "605  18254  2020-12-29  동작구  None  타시도 확진자 접촉    퇴원  이동경로 공개기간 경과\n",
       "604  18255  2020-12-29  동작구  None    감염경로 조사중    퇴원  이동경로 공개기간 경과\n",
       "603  18256  2020-12-29  용산구  None   기타 확진자 접촉    퇴원  이동경로 공개기간 경과\n",
       "602  18257  2020-12-29  도봉구  None   기타 확진자 접촉    퇴원  이동경로 공개기간 경과\n",
       "601  18258  2020-12-29  동작구  None    감염경로 조사중    퇴원  이동경로 공개기간 경과\n",
       "..     ...         ...  ...   ...         ...   ...           ...\n",
       "4    18855  2020-12-30  종로구  None    감염경로 조사중    사망  이동경로 공개기간 경과\n",
       "3    18856  2020-12-30   기타  None    동부구치소 관련  None  이동경로 공개기간 경과\n",
       "2    18857  2020-12-30   기타  None    동부구치소 관련  None  이동경로 공개기간 경과\n",
       "1    18858  2020-12-30  중랑구  None   기타 확진자 접촉    퇴원  이동경로 공개기간 경과\n",
       "0    18859  2020-12-30   기타  None    동부구치소 관련  None  이동경로 공개기간 경과\n",
       "\n",
       "[606 rows x 7 columns]"
      ]
     },
     "execution_count": 69,
     "metadata": {},
     "output_type": "execute_result"
    }
   ],
   "source": [
    "df.sort_values('연번', inplace=True)\n",
    "df"
   ]
  },
  {
   "cell_type": "code",
   "execution_count": 83,
   "metadata": {
    "scrolled": true
   },
   "outputs": [
    {
     "data": {
      "text/plain": [
       "'2020-12-30'"
      ]
     },
     "execution_count": 83,
     "metadata": {},
     "output_type": "execute_result"
    }
   ],
   "source": [
    "df['확진일'][0]"
   ]
  },
  {
   "cell_type": "code",
   "execution_count": 74,
   "metadata": {
    "scrolled": true
   },
   "outputs": [
    {
     "name": "stdout",
     "output_type": "stream",
     "text": [
      "<class 'pandas.core.frame.DataFrame'>\n",
      "Int64Index: 606 entries, 605 to 0\n",
      "Data columns (total 7 columns):\n",
      " #   Column  Non-Null Count  Dtype \n",
      "---  ------  --------------  ----- \n",
      " 0   연번      606 non-null    int32 \n",
      " 1   확진일     606 non-null    object\n",
      " 2   지역      606 non-null    object\n",
      " 3   여행력     5 non-null      object\n",
      " 4   접촉력     606 non-null    object\n",
      " 5   상태      414 non-null    object\n",
      " 6   이동경로    606 non-null    object\n",
      "dtypes: int32(1), object(6)\n",
      "memory usage: 35.5+ KB\n"
     ]
    }
   ],
   "source": [
    "df.info()"
   ]
  },
  {
   "cell_type": "code",
   "execution_count": 86,
   "metadata": {
    "scrolled": true
   },
   "outputs": [
    {
     "data": {
      "text/plain": [
       "605    2020-12-29\n",
       "604    2020-12-29\n",
       "603    2020-12-29\n",
       "602    2020-12-29\n",
       "601    2020-12-29\n",
       "          ...    \n",
       "4      2020-12-30\n",
       "3      2020-12-30\n",
       "2      2020-12-30\n",
       "1      2020-12-30\n",
       "0      2020-12-30\n",
       "Name: 확진일, Length: 606, dtype: object"
      ]
     },
     "execution_count": 86,
     "metadata": {},
     "output_type": "execute_result"
    }
   ],
   "source": [
    "df['확진일']"
   ]
  },
  {
   "cell_type": "code",
   "execution_count": 90,
   "metadata": {
    "scrolled": true
   },
   "outputs": [
    {
     "data": {
      "text/plain": [
       "dtype('O')"
      ]
     },
     "execution_count": 90,
     "metadata": {},
     "output_type": "execute_result"
    }
   ],
   "source": [
    "df['확진일'].dtypes"
   ]
  },
  {
   "cell_type": "code",
   "execution_count": 92,
   "metadata": {
    "scrolled": true
   },
   "outputs": [
    {
     "data": {
      "text/html": [
       "<div>\n",
       "<style scoped>\n",
       "    .dataframe tbody tr th:only-of-type {\n",
       "        vertical-align: middle;\n",
       "    }\n",
       "\n",
       "    .dataframe tbody tr th {\n",
       "        vertical-align: top;\n",
       "    }\n",
       "\n",
       "    .dataframe thead th {\n",
       "        text-align: right;\n",
       "    }\n",
       "</style>\n",
       "<table border=\"1\" class=\"dataframe\">\n",
       "  <thead>\n",
       "    <tr style=\"text-align: right;\">\n",
       "      <th></th>\n",
       "      <th>연번</th>\n",
       "      <th>확진일</th>\n",
       "      <th>지역</th>\n",
       "      <th>여행력</th>\n",
       "      <th>접촉력</th>\n",
       "      <th>상태</th>\n",
       "      <th>이동경로</th>\n",
       "    </tr>\n",
       "  </thead>\n",
       "  <tbody>\n",
       "    <tr>\n",
       "      <th>605</th>\n",
       "      <td>18254</td>\n",
       "      <td>2020-12-29</td>\n",
       "      <td>동작구</td>\n",
       "      <td>nan</td>\n",
       "      <td>타시도 확진자 접촉</td>\n",
       "      <td>퇴원</td>\n",
       "      <td>이동경로 공개기간 경과</td>\n",
       "    </tr>\n",
       "    <tr>\n",
       "      <th>604</th>\n",
       "      <td>18255</td>\n",
       "      <td>2020-12-29</td>\n",
       "      <td>동작구</td>\n",
       "      <td>nan</td>\n",
       "      <td>감염경로 조사중</td>\n",
       "      <td>퇴원</td>\n",
       "      <td>이동경로 공개기간 경과</td>\n",
       "    </tr>\n",
       "    <tr>\n",
       "      <th>603</th>\n",
       "      <td>18256</td>\n",
       "      <td>2020-12-29</td>\n",
       "      <td>용산구</td>\n",
       "      <td>nan</td>\n",
       "      <td>기타 확진자 접촉</td>\n",
       "      <td>퇴원</td>\n",
       "      <td>이동경로 공개기간 경과</td>\n",
       "    </tr>\n",
       "    <tr>\n",
       "      <th>602</th>\n",
       "      <td>18257</td>\n",
       "      <td>2020-12-29</td>\n",
       "      <td>도봉구</td>\n",
       "      <td>nan</td>\n",
       "      <td>기타 확진자 접촉</td>\n",
       "      <td>퇴원</td>\n",
       "      <td>이동경로 공개기간 경과</td>\n",
       "    </tr>\n",
       "    <tr>\n",
       "      <th>601</th>\n",
       "      <td>18258</td>\n",
       "      <td>2020-12-29</td>\n",
       "      <td>동작구</td>\n",
       "      <td>nan</td>\n",
       "      <td>감염경로 조사중</td>\n",
       "      <td>퇴원</td>\n",
       "      <td>이동경로 공개기간 경과</td>\n",
       "    </tr>\n",
       "    <tr>\n",
       "      <th>...</th>\n",
       "      <td>...</td>\n",
       "      <td>...</td>\n",
       "      <td>...</td>\n",
       "      <td>...</td>\n",
       "      <td>...</td>\n",
       "      <td>...</td>\n",
       "      <td>...</td>\n",
       "    </tr>\n",
       "    <tr>\n",
       "      <th>4</th>\n",
       "      <td>18855</td>\n",
       "      <td>2020-12-30</td>\n",
       "      <td>종로구</td>\n",
       "      <td>nan</td>\n",
       "      <td>감염경로 조사중</td>\n",
       "      <td>사망</td>\n",
       "      <td>이동경로 공개기간 경과</td>\n",
       "    </tr>\n",
       "    <tr>\n",
       "      <th>3</th>\n",
       "      <td>18856</td>\n",
       "      <td>2020-12-30</td>\n",
       "      <td>기타</td>\n",
       "      <td>nan</td>\n",
       "      <td>동부구치소 관련</td>\n",
       "      <td>nan</td>\n",
       "      <td>이동경로 공개기간 경과</td>\n",
       "    </tr>\n",
       "    <tr>\n",
       "      <th>2</th>\n",
       "      <td>18857</td>\n",
       "      <td>2020-12-30</td>\n",
       "      <td>기타</td>\n",
       "      <td>nan</td>\n",
       "      <td>동부구치소 관련</td>\n",
       "      <td>nan</td>\n",
       "      <td>이동경로 공개기간 경과</td>\n",
       "    </tr>\n",
       "    <tr>\n",
       "      <th>1</th>\n",
       "      <td>18858</td>\n",
       "      <td>2020-12-30</td>\n",
       "      <td>중랑구</td>\n",
       "      <td>nan</td>\n",
       "      <td>기타 확진자 접촉</td>\n",
       "      <td>퇴원</td>\n",
       "      <td>이동경로 공개기간 경과</td>\n",
       "    </tr>\n",
       "    <tr>\n",
       "      <th>0</th>\n",
       "      <td>18859</td>\n",
       "      <td>2020-12-30</td>\n",
       "      <td>기타</td>\n",
       "      <td>nan</td>\n",
       "      <td>동부구치소 관련</td>\n",
       "      <td>nan</td>\n",
       "      <td>이동경로 공개기간 경과</td>\n",
       "    </tr>\n",
       "  </tbody>\n",
       "</table>\n",
       "<p>606 rows × 7 columns</p>\n",
       "</div>"
      ],
      "text/plain": [
       "        연번         확진일   지역  여행력         접촉력   상태          이동경로\n",
       "605  18254  2020-12-29  동작구  nan  타시도 확진자 접촉   퇴원  이동경로 공개기간 경과\n",
       "604  18255  2020-12-29  동작구  nan    감염경로 조사중   퇴원  이동경로 공개기간 경과\n",
       "603  18256  2020-12-29  용산구  nan   기타 확진자 접촉   퇴원  이동경로 공개기간 경과\n",
       "602  18257  2020-12-29  도봉구  nan   기타 확진자 접촉   퇴원  이동경로 공개기간 경과\n",
       "601  18258  2020-12-29  동작구  nan    감염경로 조사중   퇴원  이동경로 공개기간 경과\n",
       "..     ...         ...  ...  ...         ...  ...           ...\n",
       "4    18855  2020-12-30  종로구  nan    감염경로 조사중   사망  이동경로 공개기간 경과\n",
       "3    18856  2020-12-30   기타  nan    동부구치소 관련  nan  이동경로 공개기간 경과\n",
       "2    18857  2020-12-30   기타  nan    동부구치소 관련  nan  이동경로 공개기간 경과\n",
       "1    18858  2020-12-30  중랑구  nan   기타 확진자 접촉   퇴원  이동경로 공개기간 경과\n",
       "0    18859  2020-12-30   기타  nan    동부구치소 관련  nan  이동경로 공개기간 경과\n",
       "\n",
       "[606 rows x 7 columns]"
      ]
     },
     "execution_count": 92,
     "metadata": {},
     "output_type": "execute_result"
    }
   ],
   "source": [
    "df.astype(str)"
   ]
  },
  {
   "cell_type": "code",
   "execution_count": 94,
   "metadata": {},
   "outputs": [
    {
     "name": "stdout",
     "output_type": "stream",
     "text": [
      "<class 'pandas.core.frame.DataFrame'>\n",
      "Int64Index: 606 entries, 605 to 0\n",
      "Data columns (total 7 columns):\n",
      " #   Column  Non-Null Count  Dtype \n",
      "---  ------  --------------  ----- \n",
      " 0   연번      606 non-null    int32 \n",
      " 1   확진일     606 non-null    object\n",
      " 2   지역      606 non-null    object\n",
      " 3   여행력     5 non-null      object\n",
      " 4   접촉력     606 non-null    object\n",
      " 5   상태      414 non-null    object\n",
      " 6   이동경로    606 non-null    object\n",
      "dtypes: int32(1), object(6)\n",
      "memory usage: 55.5+ KB\n"
     ]
    }
   ],
   "source": [
    "df.info()"
   ]
  },
  {
   "cell_type": "code",
   "execution_count": 91,
   "metadata": {},
   "outputs": [
    {
     "ename": "TypeError",
     "evalue": "Argument 'date_string' has incorrect type (expected str, got NavigableString)",
     "output_type": "error",
     "traceback": [
      "\u001b[1;31m---------------------------------------------------------------------------\u001b[0m",
      "\u001b[1;31mTypeError\u001b[0m                                 Traceback (most recent call last)",
      "\u001b[1;32mpandas\\_libs\\tslib.pyx\u001b[0m in \u001b[0;36mpandas._libs.tslib.array_to_datetime\u001b[1;34m()\u001b[0m\n",
      "\u001b[1;31mTypeError\u001b[0m: Expected unicode, got NavigableString",
      "\nDuring handling of the above exception, another exception occurred:\n",
      "\u001b[1;31mTypeError\u001b[0m                                 Traceback (most recent call last)",
      "\u001b[1;32m<ipython-input-91-30e18d6426d9>\u001b[0m in \u001b[0;36m<module>\u001b[1;34m\u001b[0m\n\u001b[1;32m----> 1\u001b[1;33m \u001b[0mdf\u001b[0m\u001b[1;33m[\u001b[0m\u001b[1;34m'확진일'\u001b[0m\u001b[1;33m]\u001b[0m \u001b[1;33m=\u001b[0m \u001b[0mpd\u001b[0m\u001b[1;33m.\u001b[0m\u001b[0mto_datetime\u001b[0m\u001b[1;33m(\u001b[0m\u001b[0mdf\u001b[0m\u001b[1;33m[\u001b[0m\u001b[1;34m'확진일'\u001b[0m\u001b[1;33m]\u001b[0m\u001b[1;33m)\u001b[0m\u001b[1;33m\u001b[0m\u001b[1;33m\u001b[0m\u001b[0m\n\u001b[0m\u001b[0;32m      2\u001b[0m \u001b[0mdf\u001b[0m\u001b[1;33m\u001b[0m\u001b[1;33m\u001b[0m\u001b[0m\n",
      "\u001b[1;32mC:\\ProgramData\\Anaconda3\\lib\\site-packages\\pandas\\core\\tools\\datetimes.py\u001b[0m in \u001b[0;36mto_datetime\u001b[1;34m(arg, errors, dayfirst, yearfirst, utc, format, exact, unit, infer_datetime_format, origin, cache)\u001b[0m\n\u001b[0;32m    797\u001b[0m                 \u001b[0mresult\u001b[0m \u001b[1;33m=\u001b[0m \u001b[0mresult\u001b[0m\u001b[1;33m.\u001b[0m\u001b[0mtz_localize\u001b[0m\u001b[1;33m(\u001b[0m\u001b[0mtz\u001b[0m\u001b[1;33m)\u001b[0m\u001b[1;33m\u001b[0m\u001b[1;33m\u001b[0m\u001b[0m\n\u001b[0;32m    798\u001b[0m     \u001b[1;32melif\u001b[0m \u001b[0misinstance\u001b[0m\u001b[1;33m(\u001b[0m\u001b[0marg\u001b[0m\u001b[1;33m,\u001b[0m \u001b[0mABCSeries\u001b[0m\u001b[1;33m)\u001b[0m\u001b[1;33m:\u001b[0m\u001b[1;33m\u001b[0m\u001b[1;33m\u001b[0m\u001b[0m\n\u001b[1;32m--> 799\u001b[1;33m         \u001b[0mcache_array\u001b[0m \u001b[1;33m=\u001b[0m \u001b[0m_maybe_cache\u001b[0m\u001b[1;33m(\u001b[0m\u001b[0marg\u001b[0m\u001b[1;33m,\u001b[0m \u001b[0mformat\u001b[0m\u001b[1;33m,\u001b[0m \u001b[0mcache\u001b[0m\u001b[1;33m,\u001b[0m \u001b[0mconvert_listlike\u001b[0m\u001b[1;33m)\u001b[0m\u001b[1;33m\u001b[0m\u001b[1;33m\u001b[0m\u001b[0m\n\u001b[0m\u001b[0;32m    800\u001b[0m         \u001b[1;32mif\u001b[0m \u001b[1;32mnot\u001b[0m \u001b[0mcache_array\u001b[0m\u001b[1;33m.\u001b[0m\u001b[0mempty\u001b[0m\u001b[1;33m:\u001b[0m\u001b[1;33m\u001b[0m\u001b[1;33m\u001b[0m\u001b[0m\n\u001b[0;32m    801\u001b[0m             \u001b[0mresult\u001b[0m \u001b[1;33m=\u001b[0m \u001b[0marg\u001b[0m\u001b[1;33m.\u001b[0m\u001b[0mmap\u001b[0m\u001b[1;33m(\u001b[0m\u001b[0mcache_array\u001b[0m\u001b[1;33m)\u001b[0m\u001b[1;33m\u001b[0m\u001b[1;33m\u001b[0m\u001b[0m\n",
      "\u001b[1;32mC:\\ProgramData\\Anaconda3\\lib\\site-packages\\pandas\\core\\tools\\datetimes.py\u001b[0m in \u001b[0;36m_maybe_cache\u001b[1;34m(arg, format, cache, convert_listlike)\u001b[0m\n\u001b[0;32m    168\u001b[0m         \u001b[0munique_dates\u001b[0m \u001b[1;33m=\u001b[0m \u001b[0munique\u001b[0m\u001b[1;33m(\u001b[0m\u001b[0marg\u001b[0m\u001b[1;33m)\u001b[0m\u001b[1;33m\u001b[0m\u001b[1;33m\u001b[0m\u001b[0m\n\u001b[0;32m    169\u001b[0m         \u001b[1;32mif\u001b[0m \u001b[0mlen\u001b[0m\u001b[1;33m(\u001b[0m\u001b[0munique_dates\u001b[0m\u001b[1;33m)\u001b[0m \u001b[1;33m<\u001b[0m \u001b[0mlen\u001b[0m\u001b[1;33m(\u001b[0m\u001b[0marg\u001b[0m\u001b[1;33m)\u001b[0m\u001b[1;33m:\u001b[0m\u001b[1;33m\u001b[0m\u001b[1;33m\u001b[0m\u001b[0m\n\u001b[1;32m--> 170\u001b[1;33m             \u001b[0mcache_dates\u001b[0m \u001b[1;33m=\u001b[0m \u001b[0mconvert_listlike\u001b[0m\u001b[1;33m(\u001b[0m\u001b[0munique_dates\u001b[0m\u001b[1;33m,\u001b[0m \u001b[0mformat\u001b[0m\u001b[1;33m)\u001b[0m\u001b[1;33m\u001b[0m\u001b[1;33m\u001b[0m\u001b[0m\n\u001b[0m\u001b[0;32m    171\u001b[0m             \u001b[0mcache_array\u001b[0m \u001b[1;33m=\u001b[0m \u001b[0mSeries\u001b[0m\u001b[1;33m(\u001b[0m\u001b[0mcache_dates\u001b[0m\u001b[1;33m,\u001b[0m \u001b[0mindex\u001b[0m\u001b[1;33m=\u001b[0m\u001b[0munique_dates\u001b[0m\u001b[1;33m)\u001b[0m\u001b[1;33m\u001b[0m\u001b[1;33m\u001b[0m\u001b[0m\n\u001b[0;32m    172\u001b[0m     \u001b[1;32mreturn\u001b[0m \u001b[0mcache_array\u001b[0m\u001b[1;33m\u001b[0m\u001b[1;33m\u001b[0m\u001b[0m\n",
      "\u001b[1;32mC:\\ProgramData\\Anaconda3\\lib\\site-packages\\pandas\\core\\tools\\datetimes.py\u001b[0m in \u001b[0;36m_convert_listlike_datetimes\u001b[1;34m(arg, format, name, tz, unit, errors, infer_datetime_format, dayfirst, yearfirst, exact)\u001b[0m\n\u001b[0;32m    457\u001b[0m         \u001b[1;32massert\u001b[0m \u001b[0mformat\u001b[0m \u001b[1;32mis\u001b[0m \u001b[1;32mNone\u001b[0m \u001b[1;32mor\u001b[0m \u001b[0minfer_datetime_format\u001b[0m\u001b[1;33m\u001b[0m\u001b[1;33m\u001b[0m\u001b[0m\n\u001b[0;32m    458\u001b[0m         \u001b[0mutc\u001b[0m \u001b[1;33m=\u001b[0m \u001b[0mtz\u001b[0m \u001b[1;33m==\u001b[0m \u001b[1;34m\"utc\"\u001b[0m\u001b[1;33m\u001b[0m\u001b[1;33m\u001b[0m\u001b[0m\n\u001b[1;32m--> 459\u001b[1;33m         result, tz_parsed = objects_to_datetime64ns(\n\u001b[0m\u001b[0;32m    460\u001b[0m             \u001b[0marg\u001b[0m\u001b[1;33m,\u001b[0m\u001b[1;33m\u001b[0m\u001b[1;33m\u001b[0m\u001b[0m\n\u001b[0;32m    461\u001b[0m             \u001b[0mdayfirst\u001b[0m\u001b[1;33m=\u001b[0m\u001b[0mdayfirst\u001b[0m\u001b[1;33m,\u001b[0m\u001b[1;33m\u001b[0m\u001b[1;33m\u001b[0m\u001b[0m\n",
      "\u001b[1;32mC:\\ProgramData\\Anaconda3\\lib\\site-packages\\pandas\\core\\arrays\\datetimes.py\u001b[0m in \u001b[0;36mobjects_to_datetime64ns\u001b[1;34m(data, dayfirst, yearfirst, utc, errors, require_iso8601, allow_object)\u001b[0m\n\u001b[0;32m   2042\u001b[0m \u001b[1;33m\u001b[0m\u001b[0m\n\u001b[0;32m   2043\u001b[0m     \u001b[1;32mtry\u001b[0m\u001b[1;33m:\u001b[0m\u001b[1;33m\u001b[0m\u001b[1;33m\u001b[0m\u001b[0m\n\u001b[1;32m-> 2044\u001b[1;33m         result, tz_parsed = tslib.array_to_datetime(\n\u001b[0m\u001b[0;32m   2045\u001b[0m             \u001b[0mdata\u001b[0m\u001b[1;33m,\u001b[0m\u001b[1;33m\u001b[0m\u001b[1;33m\u001b[0m\u001b[0m\n\u001b[0;32m   2046\u001b[0m             \u001b[0merrors\u001b[0m\u001b[1;33m=\u001b[0m\u001b[0merrors\u001b[0m\u001b[1;33m,\u001b[0m\u001b[1;33m\u001b[0m\u001b[1;33m\u001b[0m\u001b[0m\n",
      "\u001b[1;32mpandas\\_libs\\tslib.pyx\u001b[0m in \u001b[0;36mpandas._libs.tslib.array_to_datetime\u001b[1;34m()\u001b[0m\n",
      "\u001b[1;32mpandas\\_libs\\tslib.pyx\u001b[0m in \u001b[0;36mpandas._libs.tslib.array_to_datetime\u001b[1;34m()\u001b[0m\n",
      "\u001b[1;32mpandas\\_libs\\tslib.pyx\u001b[0m in \u001b[0;36mpandas._libs.tslib.array_to_datetime_object\u001b[1;34m()\u001b[0m\n",
      "\u001b[1;31mTypeError\u001b[0m: Argument 'date_string' has incorrect type (expected str, got NavigableString)"
     ]
    }
   ],
   "source": [
    "df['확진일'] = pd.to_datetime(df['확진일'])\n",
    "df"
   ]
  },
  {
   "cell_type": "markdown",
   "metadata": {},
   "source": [
    "https://yhdevlog.tistory.com/entry/Pandas-%EC%9B%B9-%EC%8A%A4%ED%81%AC%EB%9E%98%ED%95%91-%EB%8D%B0%EC%9D%B4%ED%84%B0-todatetime-%ED%98%95%EB%B3%80%ED%99%98-%EC%98%A4%EB%A5%98"
   ]
  },
  {
   "cell_type": "code",
   "execution_count": null,
   "metadata": {},
   "outputs": [],
   "source": [
    "df['지역'].fillna('기타', inplace=True)\n",
    "df['지역'] = df['지역'].map(lambda s: s.strip())\n",
    "df.fillna(' ', inplace=True)"
   ]
  },
  {
   "cell_type": "code",
   "execution_count": null,
   "metadata": {},
   "outputs": [],
   "source": []
  },
  {
   "cell_type": "code",
   "execution_count": null,
   "metadata": {},
   "outputs": [],
   "source": []
  },
  {
   "cell_type": "code",
   "execution_count": null,
   "metadata": {},
   "outputs": [],
   "source": []
  }
 ],
 "metadata": {
  "kernelspec": {
   "display_name": "Python 3",
   "language": "python",
   "name": "python3"
  },
  "language_info": {
   "codemirror_mode": {
    "name": "ipython",
    "version": 3
   },
   "file_extension": ".py",
   "mimetype": "text/x-python",
   "name": "python",
   "nbconvert_exporter": "python",
   "pygments_lexer": "ipython3",
   "version": "3.8.5"
  }
 },
 "nbformat": 4,
 "nbformat_minor": 4
}
